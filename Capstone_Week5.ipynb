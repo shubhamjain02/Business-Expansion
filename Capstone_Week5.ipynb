{
 "cells": [
  {
   "cell_type": "markdown",
   "metadata": {},
   "source": [
    "# **Business Expansion**\n",
    "\n",
    "---\n",
    "---\n",
    "\n",
    "Whether a person owns one restaurant or 20, expansion takes careful planning and consideration. There has to be a considerable strategy that’ll help set up next location up for success. Any brand of restaurant while expanding in a particular location desires that is particular location has a similar or a more promising market environment than the previous one.\n",
    "\n",
    "\n",
    "After deciding the location which is most similar to the previous location, it is also desired to know about the most competing restaurants in that area so that we can study them and build a strategy to become better than them.\n",
    "\n",
    "This project aims any company or business, which might be thinking that it’s time to expand their business into another city for growth. \n"
   ]
  },
  {
   "cell_type": "markdown",
   "metadata": {},
   "source": [
    "## **Steps :**\n",
    "\n",
    "1. Importing the required Libraries\n",
    "2. Data Preparation\n",
    "    * Loading Data\n",
    "    * Visualizing Data\n",
    "    * Normalizing Data\n",
    "    * Using Foursquare API to generate Neighborhood Venue Informations.\n",
    "3. Exploratory Data Analysis\n",
    "    * Total number of Venue categories\n",
    "    * No. of Venues per Neighborhood\n",
    "4. Data Preprocessig\n",
    "    * One Hot Encoding\n",
    "    * Creating Venue_preference Dataset\n",
    "    * Creating Neighborhood Preference Dataset\n",
    "5. Model\n",
    "    * Finding the optimum k Value using Elbow Method\n",
    "    * Clustering the Data into Groups\n",
    "    * Visualizing the Data\n",
    "6. Use Case and Results\n",
    "7. Conclusions"
   ]
  },
  {
   "cell_type": "markdown",
   "metadata": {},
   "source": [
    "## **1. Importing all the Required Libraries**\n",
    "---"
   ]
  },
  {
   "cell_type": "code",
   "execution_count": 1,
   "metadata": {},
   "outputs": [
    {
     "name": "stdout",
     "output_type": "stream",
     "text": [
      "Requirement already satisfied: folium in c:\\users\\shubham jain\\anaconda3\\lib\\site-packages (0.11.0)\n",
      "Requirement already satisfied: branca>=0.3.0 in c:\\users\\shubham jain\\anaconda3\\lib\\site-packages (from folium) (0.4.1)\n",
      "Requirement already satisfied: numpy in c:\\users\\shubham jain\\anaconda3\\lib\\site-packages (from folium) (1.16.4)\n",
      "Requirement already satisfied: jinja2>=2.9 in c:\\users\\shubham jain\\anaconda3\\lib\\site-packages (from folium) (2.10.1)\n",
      "Requirement already satisfied: requests in c:\\users\\shubham jain\\anaconda3\\lib\\site-packages (from folium) (2.22.0)\n",
      "Requirement already satisfied: MarkupSafe>=0.23 in c:\\users\\shubham jain\\anaconda3\\lib\\site-packages (from jinja2>=2.9->folium) (1.1.1)\n",
      "Requirement already satisfied: chardet<3.1.0,>=3.0.2 in c:\\users\\shubham jain\\anaconda3\\lib\\site-packages (from requests->folium) (3.0.4)\n",
      "Requirement already satisfied: idna<2.9,>=2.5 in c:\\users\\shubham jain\\anaconda3\\lib\\site-packages (from requests->folium) (2.8)\n",
      "Requirement already satisfied: urllib3!=1.25.0,!=1.25.1,<1.26,>=1.21.1 in c:\\users\\shubham jain\\anaconda3\\lib\\site-packages (from requests->folium) (1.24.2)\n",
      "Requirement already satisfied: certifi>=2017.4.17 in c:\\users\\shubham jain\\anaconda3\\lib\\site-packages (from requests->folium) (2020.4.5.1)\n"
     ]
    }
   ],
   "source": [
    "!pip install folium\n",
    "import numpy as np\n",
    "import pandas as pd\n",
    "from sklearn.preprocessing import MinMaxScaler\n",
    "import matplotlib.pyplot as plt\n",
    "import requests\n",
    "import folium \n",
    "import seaborn as sns\n",
    "import matplotlib.cm as cm\n",
    "import matplotlib.colors as colors\n",
    "from sklearn.cluster import KMeans"
   ]
  },
  {
   "cell_type": "markdown",
   "metadata": {},
   "source": [
    "## **2. Loading the Dataset and Preprocessing**\n",
    "---"
   ]
  },
  {
   "cell_type": "markdown",
   "metadata": {},
   "source": [
    "> **Data is collected as explained in the [Report]() and a csv file is made of the complete dataset shown below.**"
   ]
  },
  {
   "cell_type": "code",
   "execution_count": 2,
   "metadata": {},
   "outputs": [],
   "source": [
    "df = pd.read_csv(\"Downloads/complete_dataset.csv\")"
   ]
  },
  {
   "cell_type": "code",
   "execution_count": 3,
   "metadata": {},
   "outputs": [
    {
     "data": {
      "text/html": [
       "<div>\n",
       "<style scoped>\n",
       "    .dataframe tbody tr th:only-of-type {\n",
       "        vertical-align: middle;\n",
       "    }\n",
       "\n",
       "    .dataframe tbody tr th {\n",
       "        vertical-align: top;\n",
       "    }\n",
       "\n",
       "    .dataframe thead th {\n",
       "        text-align: right;\n",
       "    }\n",
       "</style>\n",
       "<table border=\"1\" class=\"dataframe\">\n",
       "  <thead>\n",
       "    <tr style=\"text-align: right;\">\n",
       "      <th></th>\n",
       "      <th>Borough</th>\n",
       "      <th>Neighborhoods</th>\n",
       "      <th>Latitude</th>\n",
       "      <th>Longitude</th>\n",
       "      <th>Population</th>\n",
       "      <th>City</th>\n",
       "      <th>AverageIncome</th>\n",
       "    </tr>\n",
       "  </thead>\n",
       "  <tbody>\n",
       "    <tr>\n",
       "      <th>0</th>\n",
       "      <td>SouthernSuburbs</td>\n",
       "      <td>Anjanapura</td>\n",
       "      <td>12.8604</td>\n",
       "      <td>77.5612</td>\n",
       "      <td>940039</td>\n",
       "      <td>Bangalore</td>\n",
       "      <td>44218.92255</td>\n",
       "    </tr>\n",
       "    <tr>\n",
       "      <th>1</th>\n",
       "      <td>SouthernSuburbs</td>\n",
       "      <td>Arekere</td>\n",
       "      <td>12.8875</td>\n",
       "      <td>77.5970</td>\n",
       "      <td>138760</td>\n",
       "      <td>Bangalore</td>\n",
       "      <td>29378.71663</td>\n",
       "    </tr>\n",
       "    <tr>\n",
       "      <th>2</th>\n",
       "      <td>Southern</td>\n",
       "      <td>Banashankari</td>\n",
       "      <td>12.9255</td>\n",
       "      <td>77.5468</td>\n",
       "      <td>810407</td>\n",
       "      <td>Bangalore</td>\n",
       "      <td>57524.20953</td>\n",
       "    </tr>\n",
       "    <tr>\n",
       "      <th>3</th>\n",
       "      <td>NorthEastern</td>\n",
       "      <td>Banaswadi</td>\n",
       "      <td>13.0120</td>\n",
       "      <td>77.6471</td>\n",
       "      <td>632031</td>\n",
       "      <td>Bangalore</td>\n",
       "      <td>53349.70118</td>\n",
       "    </tr>\n",
       "    <tr>\n",
       "      <th>4</th>\n",
       "      <td>Southern</td>\n",
       "      <td>Basavanagudi</td>\n",
       "      <td>12.9421</td>\n",
       "      <td>77.5754</td>\n",
       "      <td>426903</td>\n",
       "      <td>Bangalore</td>\n",
       "      <td>63161.96222</td>\n",
       "    </tr>\n",
       "  </tbody>\n",
       "</table>\n",
       "</div>"
      ],
      "text/plain": [
       "           Borough Neighborhoods  Latitude  Longitude  Population       City  \\\n",
       "0  SouthernSuburbs    Anjanapura   12.8604    77.5612      940039  Bangalore   \n",
       "1  SouthernSuburbs       Arekere   12.8875    77.5970      138760  Bangalore   \n",
       "2         Southern  Banashankari   12.9255    77.5468      810407  Bangalore   \n",
       "3     NorthEastern     Banaswadi   13.0120    77.6471      632031  Bangalore   \n",
       "4         Southern  Basavanagudi   12.9421    77.5754      426903  Bangalore   \n",
       "\n",
       "   AverageIncome  \n",
       "0    44218.92255  \n",
       "1    29378.71663  \n",
       "2    57524.20953  \n",
       "3    53349.70118  \n",
       "4    63161.96222  "
      ]
     },
     "execution_count": 3,
     "metadata": {},
     "output_type": "execute_result"
    }
   ],
   "source": [
    "df.head()"
   ]
  },
  {
   "cell_type": "markdown",
   "metadata": {},
   "source": [
    "> **Visualising Data**"
   ]
  },
  {
   "cell_type": "code",
   "execution_count": 4,
   "metadata": {},
   "outputs": [
    {
     "name": "stdout",
     "output_type": "stream",
     "text": [
      "Latitude of Bangalore is :  12.962339620312502\n",
      "Longitude of bangalore is :  77.601752946875\n"
     ]
    }
   ],
   "source": [
    "bangalore_latitude = df['Latitude'].mean()\n",
    "bangalore_longitude = df['Longitude'].mean()\n",
    "print(\"Latitude of Bangalore is : \",bangalore_latitude)\n",
    "print(\"Longitude of bangalore is : \",bangalore_longitude)"
   ]
  },
  {
   "cell_type": "code",
   "execution_count": 5,
   "metadata": {},
   "outputs": [],
   "source": [
    "unique_boroughs_of_bangalore = df['Borough'].unique().tolist()"
   ]
  },
  {
   "cell_type": "code",
   "execution_count": 6,
   "metadata": {},
   "outputs": [
    {
     "name": "stdout",
     "output_type": "stream",
     "text": [
      "['SouthernSuburbs', 'Southern', 'NorthEastern', 'Western', 'Eastern', 'SouthEastern', 'Central', 'Northern']\n"
     ]
    }
   ],
   "source": [
    "print(unique_boroughs_of_bangalore)"
   ]
  },
  {
   "cell_type": "code",
   "execution_count": 7,
   "metadata": {},
   "outputs": [],
   "source": [
    "borough_colors ={}\n",
    "for i in unique_boroughs_of_bangalore:\n",
    "    borough_colors[i] = '#%02X%02X%02X' % tuple(np.random.choice(range(256),size=3))"
   ]
  },
  {
   "cell_type": "code",
   "execution_count": 8,
   "metadata": {},
   "outputs": [],
   "source": [
    "bangalore_map = folium.Map(location=[bangalore_latitude,bangalore_longitude],zoom_start=12,control_scale=True)"
   ]
  },
  {
   "cell_type": "code",
   "execution_count": 9,
   "metadata": {},
   "outputs": [],
   "source": [
    "for lat,lng,boro,nei in zip(df['Latitude'], df['Longitude'], df['Borough'], df['Neighborhoods']):\n",
    "    label_text = boro + ' - ' + nei\n",
    "    label = folium.Popup(label_text,parse_html=True)\n",
    "    folium.CircleMarker([lat,lng], tooltip = label_text, radius = 4, popup = label, color=borough_colors[boro], fill=True, \n",
    "                        fill_color = borough_colors[boro], fill_opacity=0.7).add_to(bangalore_map)"
   ]
  },
  {
   "cell_type": "code",
   "execution_count": 10,
   "metadata": {},
   "outputs": [
    {
     "data": {
      "text/html": [
       "<div style=\"width:100%;\"><div style=\"position:relative;width:100%;height:0;padding-bottom:60%;\"><span style=\"color:#565656\">Make this Notebook Trusted to load map: File -> Trust Notebook</span><iframe src=\"about:blank\" style=\"position:absolute;width:100%;height:100%;left:0;top:0;border:none !important;\" data-html=PCFET0NUWVBFIGh0bWw+CjxoZWFkPiAgICAKICAgIDxtZXRhIGh0dHAtZXF1aXY9ImNvbnRlbnQtdHlwZSIgY29udGVudD0idGV4dC9odG1sOyBjaGFyc2V0PVVURi04IiAvPgogICAgCiAgICAgICAgPHNjcmlwdD4KICAgICAgICAgICAgTF9OT19UT1VDSCA9IGZhbHNlOwogICAgICAgICAgICBMX0RJU0FCTEVfM0QgPSBmYWxzZTsKICAgICAgICA8L3NjcmlwdD4KICAgIAogICAgPHNjcmlwdCBzcmM9Imh0dHBzOi8vY2RuLmpzZGVsaXZyLm5ldC9ucG0vbGVhZmxldEAxLjYuMC9kaXN0L2xlYWZsZXQuanMiPjwvc2NyaXB0PgogICAgPHNjcmlwdCBzcmM9Imh0dHBzOi8vY29kZS5qcXVlcnkuY29tL2pxdWVyeS0xLjEyLjQubWluLmpzIj48L3NjcmlwdD4KICAgIDxzY3JpcHQgc3JjPSJodHRwczovL21heGNkbi5ib290c3RyYXBjZG4uY29tL2Jvb3RzdHJhcC8zLjIuMC9qcy9ib290c3RyYXAubWluLmpzIj48L3NjcmlwdD4KICAgIDxzY3JpcHQgc3JjPSJodHRwczovL2NkbmpzLmNsb3VkZmxhcmUuY29tL2FqYXgvbGlicy9MZWFmbGV0LmF3ZXNvbWUtbWFya2Vycy8yLjAuMi9sZWFmbGV0LmF3ZXNvbWUtbWFya2Vycy5qcyI+PC9zY3JpcHQ+CiAgICA8bGluayByZWw9InN0eWxlc2hlZXQiIGhyZWY9Imh0dHBzOi8vY2RuLmpzZGVsaXZyLm5ldC9ucG0vbGVhZmxldEAxLjYuMC9kaXN0L2xlYWZsZXQuY3NzIi8+CiAgICA8bGluayByZWw9InN0eWxlc2hlZXQiIGhyZWY9Imh0dHBzOi8vbWF4Y2RuLmJvb3RzdHJhcGNkbi5jb20vYm9vdHN0cmFwLzMuMi4wL2Nzcy9ib290c3RyYXAubWluLmNzcyIvPgogICAgPGxpbmsgcmVsPSJzdHlsZXNoZWV0IiBocmVmPSJodHRwczovL21heGNkbi5ib290c3RyYXBjZG4uY29tL2Jvb3RzdHJhcC8zLjIuMC9jc3MvYm9vdHN0cmFwLXRoZW1lLm1pbi5jc3MiLz4KICAgIDxsaW5rIHJlbD0ic3R5bGVzaGVldCIgaHJlZj0iaHR0cHM6Ly9tYXhjZG4uYm9vdHN0cmFwY2RuLmNvbS9mb250LWF3ZXNvbWUvNC42LjMvY3NzL2ZvbnQtYXdlc29tZS5taW4uY3NzIi8+CiAgICA8bGluayByZWw9InN0eWxlc2hlZXQiIGhyZWY9Imh0dHBzOi8vY2RuanMuY2xvdWRmbGFyZS5jb20vYWpheC9saWJzL0xlYWZsZXQuYXdlc29tZS1tYXJrZXJzLzIuMC4yL2xlYWZsZXQuYXdlc29tZS1tYXJrZXJzLmNzcyIvPgogICAgPGxpbmsgcmVsPSJzdHlsZXNoZWV0IiBocmVmPSJodHRwczovL3Jhd2Nkbi5naXRoYWNrLmNvbS9weXRob24tdmlzdWFsaXphdGlvbi9mb2xpdW0vbWFzdGVyL2ZvbGl1bS90ZW1wbGF0ZXMvbGVhZmxldC5hd2Vzb21lLnJvdGF0ZS5jc3MiLz4KICAgIDxzdHlsZT5odG1sLCBib2R5IHt3aWR0aDogMTAwJTtoZWlnaHQ6IDEwMCU7bWFyZ2luOiAwO3BhZGRpbmc6IDA7fTwvc3R5bGU+CiAgICA8c3R5bGU+I21hcCB7cG9zaXRpb246YWJzb2x1dGU7dG9wOjA7Ym90dG9tOjA7cmlnaHQ6MDtsZWZ0OjA7fTwvc3R5bGU+CiAgICAKICAgICAgICAgICAgPG1ldGEgbmFtZT0idmlld3BvcnQiIGNvbnRlbnQ9IndpZHRoPWRldmljZS13aWR0aCwKICAgICAgICAgICAgICAgIGluaXRpYWwtc2NhbGU9MS4wLCBtYXhpbXVtLXNjYWxlPTEuMCwgdXNlci1zY2FsYWJsZT1ubyIgLz4KICAgICAgICAgICAgPHN0eWxlPgogICAgICAgICAgICAgICAgI21hcF84ZjJhNTM4YmU0ODY0NzM4YjBmN2MwMGQ0NTg5NjQ4MSB7CiAgICAgICAgICAgICAgICAgICAgcG9zaXRpb246IHJlbGF0aXZlOwogICAgICAgICAgICAgICAgICAgIHdpZHRoOiAxMDAuMCU7CiAgICAgICAgICAgICAgICAgICAgaGVpZ2h0OiAxMDAuMCU7CiAgICAgICAgICAgICAgICAgICAgbGVmdDogMC4wJTsKICAgICAgICAgICAgICAgICAgICB0b3A6IDAuMCU7CiAgICAgICAgICAgICAgICB9CiAgICAgICAgICAgIDwvc3R5bGU+CiAgICAgICAgCjwvaGVhZD4KPGJvZHk+ICAgIAogICAgCiAgICAgICAgICAgIDxkaXYgY2xhc3M9ImZvbGl1bS1tYXAiIGlkPSJtYXBfOGYyYTUzOGJlNDg2NDczOGIwZjdjMDBkNDU4OTY0ODEiID48L2Rpdj4KICAgICAgICAKPC9ib2R5Pgo8c2NyaXB0PiAgICAKICAgIAogICAgICAgICAgICB2YXIgbWFwXzhmMmE1MzhiZTQ4NjQ3MzhiMGY3YzAwZDQ1ODk2NDgxID0gTC5tYXAoCiAgICAgICAgICAgICAgICAibWFwXzhmMmE1MzhiZTQ4NjQ3MzhiMGY3YzAwZDQ1ODk2NDgxIiwKICAgICAgICAgICAgICAgIHsKICAgICAgICAgICAgICAgICAgICBjZW50ZXI6IFsxMi45NjIzMzk2MjAzMTI1MDIsIDc3LjYwMTc1Mjk0Njg3NV0sCiAgICAgICAgICAgICAgICAgICAgY3JzOiBMLkNSUy5FUFNHMzg1NywKICAgICAgICAgICAgICAgICAgICB6b29tOiAxMiwKICAgICAgICAgICAgICAgICAgICB6b29tQ29udHJvbDogdHJ1ZSwKICAgICAgICAgICAgICAgICAgICBwcmVmZXJDYW52YXM6IGZhbHNlLAogICAgICAgICAgICAgICAgfQogICAgICAgICAgICApOwogICAgICAgICAgICBMLmNvbnRyb2wuc2NhbGUoKS5hZGRUbyhtYXBfOGYyYTUzOGJlNDg2NDczOGIwZjdjMDBkNDU4OTY0ODEpOwoKICAgICAgICAgICAgCgogICAgICAgIAogICAgCiAgICAgICAgICAgIHZhciB0aWxlX2xheWVyX2YxNGVmMjE0ZWVmNjRkOTJhMTcyYWY2ZDdlMjRmZThmID0gTC50aWxlTGF5ZXIoCiAgICAgICAgICAgICAgICAiaHR0cHM6Ly97c30udGlsZS5vcGVuc3RyZWV0bWFwLm9yZy97en0ve3h9L3t5fS5wbmciLAogICAgICAgICAgICAgICAgeyJhdHRyaWJ1dGlvbiI6ICJEYXRhIGJ5IFx1MDAyNmNvcHk7IFx1MDAzY2EgaHJlZj1cImh0dHA6Ly9vcGVuc3RyZWV0bWFwLm9yZ1wiXHUwMDNlT3BlblN0cmVldE1hcFx1MDAzYy9hXHUwMDNlLCB1bmRlciBcdTAwM2NhIGhyZWY9XCJodHRwOi8vd3d3Lm9wZW5zdHJlZXRtYXAub3JnL2NvcHlyaWdodFwiXHUwMDNlT0RiTFx1MDAzYy9hXHUwMDNlLiIsICJkZXRlY3RSZXRpbmEiOiBmYWxzZSwgIm1heE5hdGl2ZVpvb20iOiAxOCwgIm1heFpvb20iOiAxOCwgIm1pblpvb20iOiAwLCAibm9XcmFwIjogZmFsc2UsICJvcGFjaXR5IjogMSwgInN1YmRvbWFpbnMiOiAiYWJjIiwgInRtcyI6IGZhbHNlfQogICAgICAgICAgICApLmFkZFRvKG1hcF84ZjJhNTM4YmU0ODY0NzM4YjBmN2MwMGQ0NTg5NjQ4MSk7CiAgICAgICAgCiAgICAKICAgICAgICAgICAgdmFyIGNpcmNsZV9tYXJrZXJfNWUxNWZhY2ZkNDY3NGM5MTliZjVlYzk3Yzk4ZGE0NTcgPSBMLmNpcmNsZU1hcmtlcigKICAgICAgICAgICAgICAgIFsxMi44NjA0LCA3Ny41NjEyXSwKICAgICAgICAgICAgICAgIHsiYnViYmxpbmdNb3VzZUV2ZW50cyI6IHRydWUsICJjb2xvciI6ICIjNDUzQTU4IiwgImRhc2hBcnJheSI6IG51bGwsICJkYXNoT2Zmc2V0IjogbnVsbCwgImZpbGwiOiB0cnVlLCAiZmlsbENvbG9yIjogIiM0NTNBNTgiLCAiZmlsbE9wYWNpdHkiOiAwLjcsICJmaWxsUnVsZSI6ICJldmVub2RkIiwgImxpbmVDYXAiOiAicm91bmQiLCAibGluZUpvaW4iOiAicm91bmQiLCAib3BhY2l0eSI6IDEuMCwgInJhZGl1cyI6IDQsICJzdHJva2UiOiB0cnVlLCAid2VpZ2h0IjogM30KICAgICAgICAgICAgKS5hZGRUbyhtYXBfOGYyYTUzOGJlNDg2NDczOGIwZjdjMDBkNDU4OTY0ODEpOwogICAgICAgIAogICAgCiAgICAgICAgdmFyIHBvcHVwXzAwZTgzZTdlNzNhMDQ4YTNhMmZkZmIwYmIwODc5NTc3ID0gTC5wb3B1cCh7Im1heFdpZHRoIjogIjEwMCUifSk7CgogICAgICAgIAogICAgICAgICAgICB2YXIgaHRtbF9jZmY4Mjk1NDRmMDc0NTI0ODJjMzEzZGUxMjQ5MTUyYiA9ICQoYDxkaXYgaWQ9Imh0bWxfY2ZmODI5NTQ0ZjA3NDUyNDgyYzMxM2RlMTI0OTE1MmIiIHN0eWxlPSJ3aWR0aDogMTAwLjAlOyBoZWlnaHQ6IDEwMC4wJTsiPlNvdXRoZXJuU3VidXJicyAtIEFuamFuYXB1cmE8L2Rpdj5gKVswXTsKICAgICAgICAgICAgcG9wdXBfMDBlODNlN2U3M2EwNDhhM2EyZmRmYjBiYjA4Nzk1Nzcuc2V0Q29udGVudChodG1sX2NmZjgyOTU0NGYwNzQ1MjQ4MmMzMTNkZTEyNDkxNTJiKTsKICAgICAgICAKCiAgICAgICAgY2lyY2xlX21hcmtlcl81ZTE1ZmFjZmQ0Njc0YzkxOWJmNWVjOTdjOThkYTQ1Ny5iaW5kUG9wdXAocG9wdXBfMDBlODNlN2U3M2EwNDhhM2EyZmRmYjBiYjA4Nzk1NzcpCiAgICAgICAgOwoKICAgICAgICAKICAgIAogICAgCiAgICAgICAgICAgIGNpcmNsZV9tYXJrZXJfNWUxNWZhY2ZkNDY3NGM5MTliZjVlYzk3Yzk4ZGE0NTcuYmluZFRvb2x0aXAoCiAgICAgICAgICAgICAgICBgPGRpdj4KICAgICAgICAgICAgICAgICAgICAgU291dGhlcm5TdWJ1cmJzIC0gQW5qYW5hcHVyYQogICAgICAgICAgICAgICAgIDwvZGl2PmAsCiAgICAgICAgICAgICAgICB7InN0aWNreSI6IHRydWV9CiAgICAgICAgICAgICk7CiAgICAgICAgCiAgICAKICAgICAgICAgICAgdmFyIGNpcmNsZV9tYXJrZXJfYTQzNzUzODYxYWNkNGUzMGJiNWQyOWI2ZjdjZTdlMzQgPSBMLmNpcmNsZU1hcmtlcigKICAgICAgICAgICAgICAgIFsxMi44ODc1LCA3Ny41OTddLAogICAgICAgICAgICAgICAgeyJidWJibGluZ01vdXNlRXZlbnRzIjogdHJ1ZSwgImNvbG9yIjogIiM0NTNBNTgiLCAiZGFzaEFycmF5IjogbnVsbCwgImRhc2hPZmZzZXQiOiBudWxsLCAiZmlsbCI6IHRydWUsICJmaWxsQ29sb3IiOiAiIzQ1M0E1OCIsICJmaWxsT3BhY2l0eSI6IDAuNywgImZpbGxSdWxlIjogImV2ZW5vZGQiLCAibGluZUNhcCI6ICJyb3VuZCIsICJsaW5lSm9pbiI6ICJyb3VuZCIsICJvcGFjaXR5IjogMS4wLCAicmFkaXVzIjogNCwgInN0cm9rZSI6IHRydWUsICJ3ZWlnaHQiOiAzfQogICAgICAgICAgICApLmFkZFRvKG1hcF84ZjJhNTM4YmU0ODY0NzM4YjBmN2MwMGQ0NTg5NjQ4MSk7CiAgICAgICAgCiAgICAKICAgICAgICB2YXIgcG9wdXBfNGZmMzQxOWY4NWY5NGJjYWJmZTE1YjkzOGU3NjNhMDcgPSBMLnBvcHVwKHsibWF4V2lkdGgiOiAiMTAwJSJ9KTsKCiAgICAgICAgCiAgICAgICAgICAgIHZhciBodG1sX2ZmNjZlYTY3NmE4YTQwZTdiMzIxODc1N2IzZTcxODRmID0gJChgPGRpdiBpZD0iaHRtbF9mZjY2ZWE2NzZhOGE0MGU3YjMyMTg3NTdiM2U3MTg0ZiIgc3R5bGU9IndpZHRoOiAxMDAuMCU7IGhlaWdodDogMTAwLjAlOyI+U291dGhlcm5TdWJ1cmJzIC0gQXJla2VyZTwvZGl2PmApWzBdOwogICAgICAgICAgICBwb3B1cF80ZmYzNDE5Zjg1Zjk0YmNhYmZlMTViOTM4ZTc2M2EwNy5zZXRDb250ZW50KGh0bWxfZmY2NmVhNjc2YThhNDBlN2IzMjE4NzU3YjNlNzE4NGYpOwogICAgICAgIAoKICAgICAgICBjaXJjbGVfbWFya2VyX2E0Mzc1Mzg2MWFjZDRlMzBiYjVkMjliNmY3Y2U3ZTM0LmJpbmRQb3B1cChwb3B1cF80ZmYzNDE5Zjg1Zjk0YmNhYmZlMTViOTM4ZTc2M2EwNykKICAgICAgICA7CgogICAgICAgIAogICAgCiAgICAKICAgICAgICAgICAgY2lyY2xlX21hcmtlcl9hNDM3NTM4NjFhY2Q0ZTMwYmI1ZDI5YjZmN2NlN2UzNC5iaW5kVG9vbHRpcCgKICAgICAgICAgICAgICAgIGA8ZGl2PgogICAgICAgICAgICAgICAgICAgICBTb3V0aGVyblN1YnVyYnMgLSBBcmVrZXJlCiAgICAgICAgICAgICAgICAgPC9kaXY+YCwKICAgICAgICAgICAgICAgIHsic3RpY2t5IjogdHJ1ZX0KICAgICAgICAgICAgKTsKICAgICAgICAKICAgIAogICAgICAgICAgICB2YXIgY2lyY2xlX21hcmtlcl81NGE0MDcwOWI0MWE0MWMwYmI2ZWQwZjg4Y2ZhNmU0YiA9IEwuY2lyY2xlTWFya2VyKAogICAgICAgICAgICAgICAgWzEyLjkyNTUsIDc3LjU0NjhdLAogICAgICAgICAgICAgICAgeyJidWJibGluZ01vdXNlRXZlbnRzIjogdHJ1ZSwgImNvbG9yIjogIiMwMjU0ODAiLCAiZGFzaEFycmF5IjogbnVsbCwgImRhc2hPZmZzZXQiOiBudWxsLCAiZmlsbCI6IHRydWUsICJmaWxsQ29sb3IiOiAiIzAyNTQ4MCIsICJmaWxsT3BhY2l0eSI6IDAuNywgImZpbGxSdWxlIjogImV2ZW5vZGQiLCAibGluZUNhcCI6ICJyb3VuZCIsICJsaW5lSm9pbiI6ICJyb3VuZCIsICJvcGFjaXR5IjogMS4wLCAicmFkaXVzIjogNCwgInN0cm9rZSI6IHRydWUsICJ3ZWlnaHQiOiAzfQogICAgICAgICAgICApLmFkZFRvKG1hcF84ZjJhNTM4YmU0ODY0NzM4YjBmN2MwMGQ0NTg5NjQ4MSk7CiAgICAgICAgCiAgICAKICAgICAgICB2YXIgcG9wdXBfZmQyOGM5YTUyMDAwNDM0MGIyOTYxOTFmODkwMDk5OTUgPSBMLnBvcHVwKHsibWF4V2lkdGgiOiAiMTAwJSJ9KTsKCiAgICAgICAgCiAgICAgICAgICAgIHZhciBodG1sX2UxOGQwMmU4MjExYzQzZDA4OWU1NjNkYzM4YTk5MWVjID0gJChgPGRpdiBpZD0iaHRtbF9lMThkMDJlODIxMWM0M2QwODllNTYzZGMzOGE5OTFlYyIgc3R5bGU9IndpZHRoOiAxMDAuMCU7IGhlaWdodDogMTAwLjAlOyI+U291dGhlcm4gLSBCYW5hc2hhbmthcmk8L2Rpdj5gKVswXTsKICAgICAgICAgICAgcG9wdXBfZmQyOGM5YTUyMDAwNDM0MGIyOTYxOTFmODkwMDk5OTUuc2V0Q29udGVudChodG1sX2UxOGQwMmU4MjExYzQzZDA4OWU1NjNkYzM4YTk5MWVjKTsKICAgICAgICAKCiAgICAgICAgY2lyY2xlX21hcmtlcl81NGE0MDcwOWI0MWE0MWMwYmI2ZWQwZjg4Y2ZhNmU0Yi5iaW5kUG9wdXAocG9wdXBfZmQyOGM5YTUyMDAwNDM0MGIyOTYxOTFmODkwMDk5OTUpCiAgICAgICAgOwoKICAgICAgICAKICAgIAogICAgCiAgICAgICAgICAgIGNpcmNsZV9tYXJrZXJfNTRhNDA3MDliNDFhNDFjMGJiNmVkMGY4OGNmYTZlNGIuYmluZFRvb2x0aXAoCiAgICAgICAgICAgICAgICBgPGRpdj4KICAgICAgICAgICAgICAgICAgICAgU291dGhlcm4gLSBCYW5hc2hhbmthcmkKICAgICAgICAgICAgICAgICA8L2Rpdj5gLAogICAgICAgICAgICAgICAgeyJzdGlja3kiOiB0cnVlfQogICAgICAgICAgICApOwogICAgICAgIAogICAgCiAgICAgICAgICAgIHZhciBjaXJjbGVfbWFya2VyX2UwNDRhNGYwZWY5YzRhODliOWYwNmRlNDFhOWNkOThkID0gTC5jaXJjbGVNYXJrZXIoCiAgICAgICAgICAgICAgICBbMTMuMDEyLCA3Ny42NDcxXSwKICAgICAgICAgICAgICAgIHsiYnViYmxpbmdNb3VzZUV2ZW50cyI6IHRydWUsICJjb2xvciI6ICIjMUE0RkQ0IiwgImRhc2hBcnJheSI6IG51bGwsICJkYXNoT2Zmc2V0IjogbnVsbCwgImZpbGwiOiB0cnVlLCAiZmlsbENvbG9yIjogIiMxQTRGRDQiLCAiZmlsbE9wYWNpdHkiOiAwLjcsICJmaWxsUnVsZSI6ICJldmVub2RkIiwgImxpbmVDYXAiOiAicm91bmQiLCAibGluZUpvaW4iOiAicm91bmQiLCAib3BhY2l0eSI6IDEuMCwgInJhZGl1cyI6IDQsICJzdHJva2UiOiB0cnVlLCAid2VpZ2h0IjogM30KICAgICAgICAgICAgKS5hZGRUbyhtYXBfOGYyYTUzOGJlNDg2NDczOGIwZjdjMDBkNDU4OTY0ODEpOwogICAgICAgIAogICAgCiAgICAgICAgdmFyIHBvcHVwXzdiMDc1ZTJiNGY3NTQ5ZTM4ZTJlYWU0N2M2Mzc2MzAwID0gTC5wb3B1cCh7Im1heFdpZHRoIjogIjEwMCUifSk7CgogICAgICAgIAogICAgICAgICAgICB2YXIgaHRtbF8xZDA5Mzk5ZjMxZDA0M2M0ODI4MmNmNzk3NDZlMGI2MCA9ICQoYDxkaXYgaWQ9Imh0bWxfMWQwOTM5OWYzMWQwNDNjNDgyODJjZjc5NzQ2ZTBiNjAiIHN0eWxlPSJ3aWR0aDogMTAwLjAlOyBoZWlnaHQ6IDEwMC4wJTsiPk5vcnRoRWFzdGVybiAtIEJhbmFzd2FkaTwvZGl2PmApWzBdOwogICAgICAgICAgICBwb3B1cF83YjA3NWUyYjRmNzU0OWUzOGUyZWFlNDdjNjM3NjMwMC5zZXRDb250ZW50KGh0bWxfMWQwOTM5OWYzMWQwNDNjNDgyODJjZjc5NzQ2ZTBiNjApOwogICAgICAgIAoKICAgICAgICBjaXJjbGVfbWFya2VyX2UwNDRhNGYwZWY5YzRhODliOWYwNmRlNDFhOWNkOThkLmJpbmRQb3B1cChwb3B1cF83YjA3NWUyYjRmNzU0OWUzOGUyZWFlNDdjNjM3NjMwMCkKICAgICAgICA7CgogICAgICAgIAogICAgCiAgICAKICAgICAgICAgICAgY2lyY2xlX21hcmtlcl9lMDQ0YTRmMGVmOWM0YTg5YjlmMDZkZTQxYTljZDk4ZC5iaW5kVG9vbHRpcCgKICAgICAgICAgICAgICAgIGA8ZGl2PgogICAgICAgICAgICAgICAgICAgICBOb3J0aEVhc3Rlcm4gLSBCYW5hc3dhZGkKICAgICAgICAgICAgICAgICA8L2Rpdj5gLAogICAgICAgICAgICAgICAgeyJzdGlja3kiOiB0cnVlfQogICAgICAgICAgICApOwogICAgICAgIAogICAgCiAgICAgICAgICAgIHZhciBjaXJjbGVfbWFya2VyXzk2MjJkZWNkN2JhYjQ1YzViOWZjM2MxODJhZTk2Mzk5ID0gTC5jaXJjbGVNYXJrZXIoCiAgICAgICAgICAgICAgICBbMTIuOTQyMSwgNzcuNTc1NF0sCiAgICAgICAgICAgICAgICB7ImJ1YmJsaW5nTW91c2VFdmVudHMiOiB0cnVlLCAiY29sb3IiOiAiIzAyNTQ4MCIsICJkYXNoQXJyYXkiOiBudWxsLCAiZGFzaE9mZnNldCI6IG51bGwsICJmaWxsIjogdHJ1ZSwgImZpbGxDb2xvciI6ICIjMDI1NDgwIiwgImZpbGxPcGFjaXR5IjogMC43LCAiZmlsbFJ1bGUiOiAiZXZlbm9kZCIsICJsaW5lQ2FwIjogInJvdW5kIiwgImxpbmVKb2luIjogInJvdW5kIiwgIm9wYWNpdHkiOiAxLjAsICJyYWRpdXMiOiA0LCAic3Ryb2tlIjogdHJ1ZSwgIndlaWdodCI6IDN9CiAgICAgICAgICAgICkuYWRkVG8obWFwXzhmMmE1MzhiZTQ4NjQ3MzhiMGY3YzAwZDQ1ODk2NDgxKTsKICAgICAgICAKICAgIAogICAgICAgIHZhciBwb3B1cF9jM2EzYWI3MjQyYWQ0YjJmYjExN2E3OTI0MmUzYTNlZiA9IEwucG9wdXAoeyJtYXhXaWR0aCI6ICIxMDAlIn0pOwoKICAgICAgICAKICAgICAgICAgICAgdmFyIGh0bWxfNGYxMTI3YTc5ZDY5NDcxYjg3ODk5MzZlZDBjMTMzMTIgPSAkKGA8ZGl2IGlkPSJodG1sXzRmMTEyN2E3OWQ2OTQ3MWI4Nzg5OTM2ZWQwYzEzMzEyIiBzdHlsZT0id2lkdGg6IDEwMC4wJTsgaGVpZ2h0OiAxMDAuMCU7Ij5Tb3V0aGVybiAtIEJhc2F2YW5hZ3VkaTwvZGl2PmApWzBdOwogICAgICAgICAgICBwb3B1cF9jM2EzYWI3MjQyYWQ0YjJmYjExN2E3OTI0MmUzYTNlZi5zZXRDb250ZW50KGh0bWxfNGYxMTI3YTc5ZDY5NDcxYjg3ODk5MzZlZDBjMTMzMTIpOwogICAgICAgIAoKICAgICAgICBjaXJjbGVfbWFya2VyXzk2MjJkZWNkN2JhYjQ1YzViOWZjM2MxODJhZTk2Mzk5LmJpbmRQb3B1cChwb3B1cF9jM2EzYWI3MjQyYWQ0YjJmYjExN2E3OTI0MmUzYTNlZikKICAgICAgICA7CgogICAgICAgIAogICAgCiAgICAKICAgICAgICAgICAgY2lyY2xlX21hcmtlcl85NjIyZGVjZDdiYWI0NWM1YjlmYzNjMTgyYWU5NjM5OS5iaW5kVG9vbHRpcCgKICAgICAgICAgICAgICAgIGA8ZGl2PgogICAgICAgICAgICAgICAgICAgICBTb3V0aGVybiAtIEJhc2F2YW5hZ3VkaQogICAgICAgICAgICAgICAgIDwvZGl2PmAsCiAgICAgICAgICAgICAgICB7InN0aWNreSI6IHRydWV9CiAgICAgICAgICAgICk7CiAgICAgICAgCiAgICAKICAgICAgICAgICAgdmFyIGNpcmNsZV9tYXJrZXJfYjc1OTdlNjNmOTdlNDJhMDkxNDAwZjA0NmIzYTViYTQgPSBMLmNpcmNsZU1hcmtlcigKICAgICAgICAgICAgICAgIFsxMi45ODg2LCA3Ny41MzgzXSwKICAgICAgICAgICAgICAgIHsiYnViYmxpbmdNb3VzZUV2ZW50cyI6IHRydWUsICJjb2xvciI6ICIjMkRFRjBBIiwgImRhc2hBcnJheSI6IG51bGwsICJkYXNoT2Zmc2V0IjogbnVsbCwgImZpbGwiOiB0cnVlLCAiZmlsbENvbG9yIjogIiMyREVGMEEiLCAiZmlsbE9wYWNpdHkiOiAwLjcsICJmaWxsUnVsZSI6ICJldmVub2RkIiwgImxpbmVDYXAiOiAicm91bmQiLCAibGluZUpvaW4iOiAicm91bmQiLCAib3BhY2l0eSI6IDEuMCwgInJhZGl1cyI6IDQsICJzdHJva2UiOiB0cnVlLCAid2VpZ2h0IjogM30KICAgICAgICAgICAgKS5hZGRUbyhtYXBfOGYyYTUzOGJlNDg2NDczOGIwZjdjMDBkNDU4OTY0ODEpOwogICAgICAgIAogICAgCiAgICAgICAgdmFyIHBvcHVwXzljOTRkYThhMDE3NDQyZDM5ZjM2ZmI5MWJmYzhmMjQ1ID0gTC5wb3B1cCh7Im1heFdpZHRoIjogIjEwMCUifSk7CgogICAgICAgIAogICAgICAgICAgICB2YXIgaHRtbF9kYjdiMzMzZjdiMDU0MTcxOTEyNzJkYzdhODBmMzllZCA9ICQoYDxkaXYgaWQ9Imh0bWxfZGI3YjMzM2Y3YjA1NDE3MTkxMjcyZGM3YTgwZjM5ZWQiIHN0eWxlPSJ3aWR0aDogMTAwLjAlOyBoZWlnaHQ6IDEwMC4wJTsiPldlc3Rlcm4gLSBCYXNhdmVzaHdhcmFuYWdhcjwvZGl2PmApWzBdOwogICAgICAgICAgICBwb3B1cF85Yzk0ZGE4YTAxNzQ0MmQzOWYzNmZiOTFiZmM4ZjI0NS5zZXRDb250ZW50KGh0bWxfZGI3YjMzM2Y3YjA1NDE3MTkxMjcyZGM3YTgwZjM5ZWQpOwogICAgICAgIAoKICAgICAgICBjaXJjbGVfbWFya2VyX2I3NTk3ZTYzZjk3ZTQyYTA5MTQwMGYwNDZiM2E1YmE0LmJpbmRQb3B1cChwb3B1cF85Yzk0ZGE4YTAxNzQ0MmQzOWYzNmZiOTFiZmM4ZjI0NSkKICAgICAgICA7CgogICAgICAgIAogICAgCiAgICAKICAgICAgICAgICAgY2lyY2xlX21hcmtlcl9iNzU5N2U2M2Y5N2U0MmEwOTE0MDBmMDQ2YjNhNWJhNC5iaW5kVG9vbHRpcCgKICAgICAgICAgICAgICAgIGA8ZGl2PgogICAgICAgICAgICAgICAgICAgICBXZXN0ZXJuIC0gQmFzYXZlc2h3YXJhbmFnYXIKICAgICAgICAgICAgICAgICA8L2Rpdj5gLAogICAgICAgICAgICAgICAgeyJzdGlja3kiOiB0cnVlfQogICAgICAgICAgICApOwogICAgICAgIAogICAgCiAgICAgICAgICAgIHZhciBjaXJjbGVfbWFya2VyXzU0YzFlYTY4MzEyYzQwMDdiYjkyOTE3ZjhlZDE1ZmE0ID0gTC5jaXJjbGVNYXJrZXIoCiAgICAgICAgICAgICAgICBbMTIuODc4OCwgNzcuNjM3N10sCiAgICAgICAgICAgICAgICB7ImJ1YmJsaW5nTW91c2VFdmVudHMiOiB0cnVlLCAiY29sb3IiOiAiIzQ1M0E1OCIsICJkYXNoQXJyYXkiOiBudWxsLCAiZGFzaE9mZnNldCI6IG51bGwsICJmaWxsIjogdHJ1ZSwgImZpbGxDb2xvciI6ICIjNDUzQTU4IiwgImZpbGxPcGFjaXR5IjogMC43LCAiZmlsbFJ1bGUiOiAiZXZlbm9kZCIsICJsaW5lQ2FwIjogInJvdW5kIiwgImxpbmVKb2luIjogInJvdW5kIiwgIm9wYWNpdHkiOiAxLjAsICJyYWRpdXMiOiA0LCAic3Ryb2tlIjogdHJ1ZSwgIndlaWdodCI6IDN9CiAgICAgICAgICAgICkuYWRkVG8obWFwXzhmMmE1MzhiZTQ4NjQ3MzhiMGY3YzAwZDQ1ODk2NDgxKTsKICAgICAgICAKICAgIAogICAgICAgIHZhciBwb3B1cF9iNzY0ODQzNTQ5ODQ0YjFhOWEwM2U4YThkMzUwNTkyNSA9IEwucG9wdXAoeyJtYXhXaWR0aCI6ICIxMDAlIn0pOwoKICAgICAgICAKICAgICAgICAgICAgdmFyIGh0bWxfNTQwMDI0NjEzNTIwNDU0ZGI4ZTUxZDc1MWE5YzQ4YTMgPSAkKGA8ZGl2IGlkPSJodG1sXzU0MDAyNDYxMzUyMDQ1NGRiOGU1MWQ3NTFhOWM0OGEzIiBzdHlsZT0id2lkdGg6IDEwMC4wJTsgaGVpZ2h0OiAxMDAuMCU7Ij5Tb3V0aGVyblN1YnVyYnMgLSBCZWd1cjwvZGl2PmApWzBdOwogICAgICAgICAgICBwb3B1cF9iNzY0ODQzNTQ5ODQ0YjFhOWEwM2U4YThkMzUwNTkyNS5zZXRDb250ZW50KGh0bWxfNTQwMDI0NjEzNTIwNDU0ZGI4ZTUxZDc1MWE5YzQ4YTMpOwogICAgICAgIAoKICAgICAgICBjaXJjbGVfbWFya2VyXzU0YzFlYTY4MzEyYzQwMDdiYjkyOTE3ZjhlZDE1ZmE0LmJpbmRQb3B1cChwb3B1cF9iNzY0ODQzNTQ5ODQ0YjFhOWEwM2U4YThkMzUwNTkyNSkKICAgICAgICA7CgogICAgICAgIAogICAgCiAgICAKICAgICAgICAgICAgY2lyY2xlX21hcmtlcl81NGMxZWE2ODMxMmM0MDA3YmI5MjkxN2Y4ZWQxNWZhNC5iaW5kVG9vbHRpcCgKICAgICAgICAgICAgICAgIGA8ZGl2PgogICAgICAgICAgICAgICAgICAgICBTb3V0aGVyblN1YnVyYnMgLSBCZWd1cgogICAgICAgICAgICAgICAgIDwvZGl2PmAsCiAgICAgICAgICAgICAgICB7InN0aWNreSI6IHRydWV9CiAgICAgICAgICAgICk7CiAgICAgICAgCiAgICAKICAgICAgICAgICAgdmFyIGNpcmNsZV9tYXJrZXJfNWNkYzhhOTIyOTcxNGUxNGFkNmExMzQ3ZDc0YTA5MTYgPSBMLmNpcmNsZU1hcmtlcigKICAgICAgICAgICAgICAgIFsxMi45MjU5OTk5OTk5OTk5OTgsIDc3LjY3NjJdLAogICAgICAgICAgICAgICAgeyJidWJibGluZ01vdXNlRXZlbnRzIjogdHJ1ZSwgImNvbG9yIjogIiM3RkI4OTUiLCAiZGFzaEFycmF5IjogbnVsbCwgImRhc2hPZmZzZXQiOiBudWxsLCAiZmlsbCI6IHRydWUsICJmaWxsQ29sb3IiOiAiIzdGQjg5NSIsICJmaWxsT3BhY2l0eSI6IDAuNywgImZpbGxSdWxlIjogImV2ZW5vZGQiLCAibGluZUNhcCI6ICJyb3VuZCIsICJsaW5lSm9pbiI6ICJyb3VuZCIsICJvcGFjaXR5IjogMS4wLCAicmFkaXVzIjogNCwgInN0cm9rZSI6IHRydWUsICJ3ZWlnaHQiOiAzfQogICAgICAgICAgICApLmFkZFRvKG1hcF84ZjJhNTM4YmU0ODY0NzM4YjBmN2MwMGQ0NTg5NjQ4MSk7CiAgICAgICAgCiAgICAKICAgICAgICB2YXIgcG9wdXBfOTFkZTU3ZmY0ZTg5NDMxYTliMDlkZjM4YTA4OTFjNTggPSBMLnBvcHVwKHsibWF4V2lkdGgiOiAiMTAwJSJ9KTsKCiAgICAgICAgCiAgICAgICAgICAgIHZhciBodG1sXzEyZjEyYWVlOGFkNDQxMWZhYzAyNjNiMTI1NTIxMDk0ID0gJChgPGRpdiBpZD0iaHRtbF8xMmYxMmFlZThhZDQ0MTFmYWMwMjYzYjEyNTUyMTA5NCIgc3R5bGU9IndpZHRoOiAxMDAuMCU7IGhlaWdodDogMTAwLjAlOyI+RWFzdGVybiAtIEJlbGxhbmR1cjwvZGl2PmApWzBdOwogICAgICAgICAgICBwb3B1cF85MWRlNTdmZjRlODk0MzFhOWIwOWRmMzhhMDg5MWM1OC5zZXRDb250ZW50KGh0bWxfMTJmMTJhZWU4YWQ0NDExZmFjMDI2M2IxMjU1MjEwOTQpOwogICAgICAgIAoKICAgICAgICBjaXJjbGVfbWFya2VyXzVjZGM4YTkyMjk3MTRlMTRhZDZhMTM0N2Q3NGEwOTE2LmJpbmRQb3B1cChwb3B1cF85MWRlNTdmZjRlODk0MzFhOWIwOWRmMzhhMDg5MWM1OCkKICAgICAgICA7CgogICAgICAgIAogICAgCiAgICAKICAgICAgICAgICAgY2lyY2xlX21hcmtlcl81Y2RjOGE5MjI5NzE0ZTE0YWQ2YTEzNDdkNzRhMDkxNi5iaW5kVG9vbHRpcCgKICAgICAgICAgICAgICAgIGA8ZGl2PgogICAgICAgICAgICAgICAgICAgICBFYXN0ZXJuIC0gQmVsbGFuZHVyCiAgICAgICAgICAgICAgICAgPC9kaXY+YCwKICAgICAgICAgICAgICAgIHsic3RpY2t5IjogdHJ1ZX0KICAgICAgICAgICAgKTsKICAgICAgICAKICAgIAogICAgICAgICAgICB2YXIgY2lyY2xlX21hcmtlcl8yNGFiZTNjZGY1Nzg0MmFkODQ0MDE2YWQ3YjY1N2M2MyA9IEwuY2lyY2xlTWFya2VyKAogICAgICAgICAgICAgICAgWzEyLjg5ODQsIDc3LjYxNzldLAogICAgICAgICAgICAgICAgeyJidWJibGluZ01vdXNlRXZlbnRzIjogdHJ1ZSwgImNvbG9yIjogIiM4NTNERjQiLCAiZGFzaEFycmF5IjogbnVsbCwgImRhc2hPZmZzZXQiOiBudWxsLCAiZmlsbCI6IHRydWUsICJmaWxsQ29sb3IiOiAiIzg1M0RGNCIsICJmaWxsT3BhY2l0eSI6IDAuNywgImZpbGxSdWxlIjogImV2ZW5vZGQiLCAibGluZUNhcCI6ICJyb3VuZCIsICJsaW5lSm9pbiI6ICJyb3VuZCIsICJvcGFjaXR5IjogMS4wLCAicmFkaXVzIjogNCwgInN0cm9rZSI6IHRydWUsICJ3ZWlnaHQiOiAzfQogICAgICAgICAgICApLmFkZFRvKG1hcF84ZjJhNTM4YmU0ODY0NzM4YjBmN2MwMGQ0NTg5NjQ4MSk7CiAgICAgICAgCiAgICAKICAgICAgICB2YXIgcG9wdXBfOWUwYzI2MmUxMWYwNDE0YjliNDZiMGMzNmQ1ZTk1YjAgPSBMLnBvcHVwKHsibWF4V2lkdGgiOiAiMTAwJSJ9KTsKCiAgICAgICAgCiAgICAgICAgICAgIHZhciBodG1sXzVkYmEyNTMwZmI0MjRiNThhZjlkMGFhNmE4ZTM3ZTM1ID0gJChgPGRpdiBpZD0iaHRtbF81ZGJhMjUzMGZiNDI0YjU4YWY5ZDBhYTZhOGUzN2UzNSIgc3R5bGU9IndpZHRoOiAxMDAuMCU7IGhlaWdodDogMTAwLjAlOyI+U291dGhFYXN0ZXJuIC0gQm9tbWFuYWhhbGxpPC9kaXY+YClbMF07CiAgICAgICAgICAgIHBvcHVwXzllMGMyNjJlMTFmMDQxNGI5YjQ2YjBjMzZkNWU5NWIwLnNldENvbnRlbnQoaHRtbF81ZGJhMjUzMGZiNDI0YjU4YWY5ZDBhYTZhOGUzN2UzNSk7CiAgICAgICAgCgogICAgICAgIGNpcmNsZV9tYXJrZXJfMjRhYmUzY2RmNTc4NDJhZDg0NDAxNmFkN2I2NTdjNjMuYmluZFBvcHVwKHBvcHVwXzllMGMyNjJlMTFmMDQxNGI5YjQ2YjBjMzZkNWU5NWIwKQogICAgICAgIDsKCiAgICAgICAgCiAgICAKICAgIAogICAgICAgICAgICBjaXJjbGVfbWFya2VyXzI0YWJlM2NkZjU3ODQyYWQ4NDQwMTZhZDdiNjU3YzYzLmJpbmRUb29sdGlwKAogICAgICAgICAgICAgICAgYDxkaXY+CiAgICAgICAgICAgICAgICAgICAgIFNvdXRoRWFzdGVybiAtIEJvbW1hbmFoYWxsaQogICAgICAgICAgICAgICAgIDwvZGl2PmAsCiAgICAgICAgICAgICAgICB7InN0aWNreSI6IHRydWV9CiAgICAgICAgICAgICk7CiAgICAgICAgCiAgICAKICAgICAgICAgICAgdmFyIGNpcmNsZV9tYXJrZXJfOTBkOGZhMTMzMDlkNGFhMmI1NWM5ODlkODA5ZGEyMGEgPSBMLmNpcmNsZU1hcmtlcigKICAgICAgICAgICAgICAgIFsxMi44MTY4LCA3Ny42OTg5XSwKICAgICAgICAgICAgICAgIHsiYnViYmxpbmdNb3VzZUV2ZW50cyI6IHRydWUsICJjb2xvciI6ICIjODUzREY0IiwgImRhc2hBcnJheSI6IG51bGwsICJkYXNoT2Zmc2V0IjogbnVsbCwgImZpbGwiOiB0cnVlLCAiZmlsbENvbG9yIjogIiM4NTNERjQiLCAiZmlsbE9wYWNpdHkiOiAwLjcsICJmaWxsUnVsZSI6ICJldmVub2RkIiwgImxpbmVDYXAiOiAicm91bmQiLCAibGluZUpvaW4iOiAicm91bmQiLCAib3BhY2l0eSI6IDEuMCwgInJhZGl1cyI6IDQsICJzdHJva2UiOiB0cnVlLCAid2VpZ2h0IjogM30KICAgICAgICAgICAgKS5hZGRUbyhtYXBfOGYyYTUzOGJlNDg2NDczOGIwZjdjMDBkNDU4OTY0ODEpOwogICAgICAgIAogICAgCiAgICAgICAgdmFyIHBvcHVwX2NkNjQzMDZhZWEwZDRhNjlhYjBjMGNmMjBhNTVjYWQxID0gTC5wb3B1cCh7Im1heFdpZHRoIjogIjEwMCUifSk7CgogICAgICAgIAogICAgICAgICAgICB2YXIgaHRtbF8xZTk3Y2IxM2MwNzA0MjUyYWI5ZjdhMzA0Y2FiOWVhNSA9ICQoYDxkaXYgaWQ9Imh0bWxfMWU5N2NiMTNjMDcwNDI1MmFiOWY3YTMwNGNhYjllYTUiIHN0eWxlPSJ3aWR0aDogMTAwLjAlOyBoZWlnaHQ6IDEwMC4wJTsiPlNvdXRoRWFzdGVybiAtIEJvbW1hc2FuZHJhPC9kaXY+YClbMF07CiAgICAgICAgICAgIHBvcHVwX2NkNjQzMDZhZWEwZDRhNjlhYjBjMGNmMjBhNTVjYWQxLnNldENvbnRlbnQoaHRtbF8xZTk3Y2IxM2MwNzA0MjUyYWI5ZjdhMzA0Y2FiOWVhNSk7CiAgICAgICAgCgogICAgICAgIGNpcmNsZV9tYXJrZXJfOTBkOGZhMTMzMDlkNGFhMmI1NWM5ODlkODA5ZGEyMGEuYmluZFBvcHVwKHBvcHVwX2NkNjQzMDZhZWEwZDRhNjlhYjBjMGNmMjBhNTVjYWQxKQogICAgICAgIDsKCiAgICAgICAgCiAgICAKICAgIAogICAgICAgICAgICBjaXJjbGVfbWFya2VyXzkwZDhmYTEzMzA5ZDRhYTJiNTVjOTg5ZDgwOWRhMjBhLmJpbmRUb29sdGlwKAogICAgICAgICAgICAgICAgYDxkaXY+CiAgICAgICAgICAgICAgICAgICAgIFNvdXRoRWFzdGVybiAtIEJvbW1hc2FuZHJhCiAgICAgICAgICAgICAgICAgPC9kaXY+YCwKICAgICAgICAgICAgICAgIHsic3RpY2t5IjogdHJ1ZX0KICAgICAgICAgICAgKTsKICAgICAgICAKICAgIAogICAgICAgICAgICB2YXIgY2lyY2xlX21hcmtlcl9iNGYwY2JhYTE1ZTU0MTAwODJmNTI0NDJlMTAyYjBjMCA9IEwuY2lyY2xlTWFya2VyKAogICAgICAgICAgICAgICAgWzEyLjkxNjYsIDc3LjYxMDFdLAogICAgICAgICAgICAgICAgeyJidWJibGluZ01vdXNlRXZlbnRzIjogdHJ1ZSwgImNvbG9yIjogIiM4NTNERjQiLCAiZGFzaEFycmF5IjogbnVsbCwgImRhc2hPZmZzZXQiOiBudWxsLCAiZmlsbCI6IHRydWUsICJmaWxsQ29sb3IiOiAiIzg1M0RGNCIsICJmaWxsT3BhY2l0eSI6IDAuNywgImZpbGxSdWxlIjogImV2ZW5vZGQiLCAibGluZUNhcCI6ICJyb3VuZCIsICJsaW5lSm9pbiI6ICJyb3VuZCIsICJvcGFjaXR5IjogMS4wLCAicmFkaXVzIjogNCwgInN0cm9rZSI6IHRydWUsICJ3ZWlnaHQiOiAzfQogICAgICAgICAgICApLmFkZFRvKG1hcF84ZjJhNTM4YmU0ODY0NzM4YjBmN2MwMGQ0NTg5NjQ4MSk7CiAgICAgICAgCiAgICAKICAgICAgICB2YXIgcG9wdXBfMTc3ZWJiYjA3MzEyNDQ3ZjgxMTM3NDZiMzgxZWFjYWUgPSBMLnBvcHVwKHsibWF4V2lkdGgiOiAiMTAwJSJ9KTsKCiAgICAgICAgCiAgICAgICAgICAgIHZhciBodG1sX2FlZjM1MDlhZDIxZTQxZTU5ZDc5MjcyZjA4ZGFlMmRhID0gJChgPGRpdiBpZD0iaHRtbF9hZWYzNTA5YWQyMWU0MWU1OWQ3OTI3MmYwOGRhZTJkYSIgc3R5bGU9IndpZHRoOiAxMDAuMCU7IGhlaWdodDogMTAwLjAlOyI+U291dGhFYXN0ZXJuIC0gQlRNIExheW91dDwvZGl2PmApWzBdOwogICAgICAgICAgICBwb3B1cF8xNzdlYmJiMDczMTI0NDdmODExMzc0NmIzODFlYWNhZS5zZXRDb250ZW50KGh0bWxfYWVmMzUwOWFkMjFlNDFlNTlkNzkyNzJmMDhkYWUyZGEpOwogICAgICAgIAoKICAgICAgICBjaXJjbGVfbWFya2VyX2I0ZjBjYmFhMTVlNTQxMDA4MmY1MjQ0MmUxMDJiMGMwLmJpbmRQb3B1cChwb3B1cF8xNzdlYmJiMDczMTI0NDdmODExMzc0NmIzODFlYWNhZSkKICAgICAgICA7CgogICAgICAgIAogICAgCiAgICAKICAgICAgICAgICAgY2lyY2xlX21hcmtlcl9iNGYwY2JhYTE1ZTU0MTAwODJmNTI0NDJlMTAyYjBjMC5iaW5kVG9vbHRpcCgKICAgICAgICAgICAgICAgIGA8ZGl2PgogICAgICAgICAgICAgICAgICAgICBTb3V0aEVhc3Rlcm4gLSBCVE0gTGF5b3V0CiAgICAgICAgICAgICAgICAgPC9kaXY+YCwKICAgICAgICAgICAgICAgIHsic3RpY2t5IjogdHJ1ZX0KICAgICAgICAgICAgKTsKICAgICAgICAKICAgIAogICAgICAgICAgICB2YXIgY2lyY2xlX21hcmtlcl9mNGRiYzQ5YzYxOGY0NTE0ODg2NWYxMGEzZTEyZjUwOCA9IEwuY2lyY2xlTWFya2VyKAogICAgICAgICAgICAgICAgWzEyLjk3MjQ0MiwgNzcuNTgwNjQzMDAwMDAwMDFdLAogICAgICAgICAgICAgICAgeyJidWJibGluZ01vdXNlRXZlbnRzIjogdHJ1ZSwgImNvbG9yIjogIiNEMDlFNjEiLCAiZGFzaEFycmF5IjogbnVsbCwgImRhc2hPZmZzZXQiOiBudWxsLCAiZmlsbCI6IHRydWUsICJmaWxsQ29sb3IiOiAiI0QwOUU2MSIsICJmaWxsT3BhY2l0eSI6IDAuNywgImZpbGxSdWxlIjogImV2ZW5vZGQiLCAibGluZUNhcCI6ICJyb3VuZCIsICJsaW5lSm9pbiI6ICJyb3VuZCIsICJvcGFjaXR5IjogMS4wLCAicmFkaXVzIjogNCwgInN0cm9rZSI6IHRydWUsICJ3ZWlnaHQiOiAzfQogICAgICAgICAgICApLmFkZFRvKG1hcF84ZjJhNTM4YmU0ODY0NzM4YjBmN2MwMGQ0NTg5NjQ4MSk7CiAgICAgICAgCiAgICAKICAgICAgICB2YXIgcG9wdXBfMjRhMjliYzg2NTFmNDcyMGI1ZWM4ZGZhNjEzZTUyMzkgPSBMLnBvcHVwKHsibWF4V2lkdGgiOiAiMTAwJSJ9KTsKCiAgICAgICAgCiAgICAgICAgICAgIHZhciBodG1sX2VmYjc1ZTcxYjNlMDRlMTQ4MzFiMTRmMWIyYTY1MWU5ID0gJChgPGRpdiBpZD0iaHRtbF9lZmI3NWU3MWIzZTA0ZTE0ODMxYjE0ZjFiMmE2NTFlOSIgc3R5bGU9IndpZHRoOiAxMDAuMCU7IGhlaWdodDogMTAwLjAlOyI+Q2VudHJhbCAtIENhbnRvbm1lbnQgYXJlYTwvZGl2PmApWzBdOwogICAgICAgICAgICBwb3B1cF8yNGEyOWJjODY1MWY0NzIwYjVlYzhkZmE2MTNlNTIzOS5zZXRDb250ZW50KGh0bWxfZWZiNzVlNzFiM2UwNGUxNDgzMWIxNGYxYjJhNjUxZTkpOwogICAgICAgIAoKICAgICAgICBjaXJjbGVfbWFya2VyX2Y0ZGJjNDljNjE4ZjQ1MTQ4ODY1ZjEwYTNlMTJmNTA4LmJpbmRQb3B1cChwb3B1cF8yNGEyOWJjODY1MWY0NzIwYjVlYzhkZmE2MTNlNTIzOSkKICAgICAgICA7CgogICAgICAgIAogICAgCiAgICAKICAgICAgICAgICAgY2lyY2xlX21hcmtlcl9mNGRiYzQ5YzYxOGY0NTE0ODg2NWYxMGEzZTEyZjUwOC5iaW5kVG9vbHRpcCgKICAgICAgICAgICAgICAgIGA8ZGl2PgogICAgICAgICAgICAgICAgICAgICBDZW50cmFsIC0gQ2FudG9ubWVudCBhcmVhCiAgICAgICAgICAgICAgICAgPC9kaXY+YCwKICAgICAgICAgICAgICAgIHsic3RpY2t5IjogdHJ1ZX0KICAgICAgICAgICAgKTsKICAgICAgICAKICAgIAogICAgICAgICAgICB2YXIgY2lyY2xlX21hcmtlcl8zMmMxM2YyNmVkYzI0MGVlYjk2ZTIzYTU5ODU0ZjhkOSA9IEwuY2lyY2xlTWFya2VyKAogICAgICAgICAgICAgICAgWzEyLjk4NTUsIDc3LjY2MzldLAogICAgICAgICAgICAgICAgeyJidWJibGluZ01vdXNlRXZlbnRzIjogdHJ1ZSwgImNvbG9yIjogIiM3RkI4OTUiLCAiZGFzaEFycmF5IjogbnVsbCwgImRhc2hPZmZzZXQiOiBudWxsLCAiZmlsbCI6IHRydWUsICJmaWxsQ29sb3IiOiAiIzdGQjg5NSIsICJmaWxsT3BhY2l0eSI6IDAuNywgImZpbGxSdWxlIjogImV2ZW5vZGQiLCAibGluZUNhcCI6ICJyb3VuZCIsICJsaW5lSm9pbiI6ICJyb3VuZCIsICJvcGFjaXR5IjogMS4wLCAicmFkaXVzIjogNCwgInN0cm9rZSI6IHRydWUsICJ3ZWlnaHQiOiAzfQogICAgICAgICAgICApLmFkZFRvKG1hcF84ZjJhNTM4YmU0ODY0NzM4YjBmN2MwMGQ0NTg5NjQ4MSk7CiAgICAgICAgCiAgICAKICAgICAgICB2YXIgcG9wdXBfZTY3MjIxMDkyYzY2NDU5NGE5ODhhNGE5MTU4ZTcwYjEgPSBMLnBvcHVwKHsibWF4V2lkdGgiOiAiMTAwJSJ9KTsKCiAgICAgICAgCiAgICAgICAgICAgIHZhciBodG1sXzM3MmU3YzA2NWJhODQ2M2RiMmExMzU0YzFmMWY5Njk5ID0gJChgPGRpdiBpZD0iaHRtbF8zNzJlN2MwNjViYTg0NjNkYjJhMTM1NGMxZjFmOTY5OSIgc3R5bGU9IndpZHRoOiAxMDAuMCU7IGhlaWdodDogMTAwLjAlOyI+RWFzdGVybiAtIENWIFJhbWFuIE5hZ2FyPC9kaXY+YClbMF07CiAgICAgICAgICAgIHBvcHVwX2U2NzIyMTA5MmM2NjQ1OTRhOTg4YTRhOTE1OGU3MGIxLnNldENvbnRlbnQoaHRtbF8zNzJlN2MwNjViYTg0NjNkYjJhMTM1NGMxZjFmOTY5OSk7CiAgICAgICAgCgogICAgICAgIGNpcmNsZV9tYXJrZXJfMzJjMTNmMjZlZGMyNDBlZWI5NmUyM2E1OTg1NGY4ZDkuYmluZFBvcHVwKHBvcHVwX2U2NzIyMTA5MmM2NjQ1OTRhOTg4YTRhOTE1OGU3MGIxKQogICAgICAgIDsKCiAgICAgICAgCiAgICAKICAgIAogICAgICAgICAgICBjaXJjbGVfbWFya2VyXzMyYzEzZjI2ZWRjMjQwZWViOTZlMjNhNTk4NTRmOGQ5LmJpbmRUb29sdGlwKAogICAgICAgICAgICAgICAgYDxkaXY+CiAgICAgICAgICAgICAgICAgICAgIEVhc3Rlcm4gLSBDViBSYW1hbiBOYWdhcgogICAgICAgICAgICAgICAgIDwvZGl2PmAsCiAgICAgICAgICAgICAgICB7InN0aWNreSI6IHRydWV9CiAgICAgICAgICAgICk7CiAgICAgICAgCiAgICAKICAgICAgICAgICAgdmFyIGNpcmNsZV9tYXJrZXJfZjU2MjYzZjFlODRlNGM5OGEyY2JhMjA1YWIwOWRkZDcgPSBMLmNpcmNsZU1hcmtlcigKICAgICAgICAgICAgICAgIFsxMi45NjA5OTE3LCA3Ny42Mzg3MjU1OTk5OTk5OV0sCiAgICAgICAgICAgICAgICB7ImJ1YmJsaW5nTW91c2VFdmVudHMiOiB0cnVlLCAiY29sb3IiOiAiI0QwOUU2MSIsICJkYXNoQXJyYXkiOiBudWxsLCAiZGFzaE9mZnNldCI6IG51bGwsICJmaWxsIjogdHJ1ZSwgImZpbGxDb2xvciI6ICIjRDA5RTYxIiwgImZpbGxPcGFjaXR5IjogMC43LCAiZmlsbFJ1bGUiOiAiZXZlbm9kZCIsICJsaW5lQ2FwIjogInJvdW5kIiwgImxpbmVKb2luIjogInJvdW5kIiwgIm9wYWNpdHkiOiAxLjAsICJyYWRpdXMiOiA0LCAic3Ryb2tlIjogdHJ1ZSwgIndlaWdodCI6IDN9CiAgICAgICAgICAgICkuYWRkVG8obWFwXzhmMmE1MzhiZTQ4NjQ3MzhiMGY3YzAwZDQ1ODk2NDgxKTsKICAgICAgICAKICAgIAogICAgICAgIHZhciBwb3B1cF8zMjcxMGMwYTM4MmM0ZGMzYTY5OTEzZTY5M2ZhM2JjZCA9IEwucG9wdXAoeyJtYXhXaWR0aCI6ICIxMDAlIn0pOwoKICAgICAgICAKICAgICAgICAgICAgdmFyIGh0bWxfMjY4ODJiM2Q5Mzg0NDQzYjhmYWJiOTc4ZjA5MDJiMzYgPSAkKGA8ZGl2IGlkPSJodG1sXzI2ODgyYjNkOTM4NDQ0M2I4ZmFiYjk3OGYwOTAyYjM2IiBzdHlsZT0id2lkdGg6IDEwMC4wJTsgaGVpZ2h0OiAxMDAuMCU7Ij5DZW50cmFsIC0gRG9tbHVyPC9kaXY+YClbMF07CiAgICAgICAgICAgIHBvcHVwXzMyNzEwYzBhMzgyYzRkYzNhNjk5MTNlNjkzZmEzYmNkLnNldENvbnRlbnQoaHRtbF8yNjg4MmIzZDkzODQ0NDNiOGZhYmI5NzhmMDkwMmIzNik7CiAgICAgICAgCgogICAgICAgIGNpcmNsZV9tYXJrZXJfZjU2MjYzZjFlODRlNGM5OGEyY2JhMjA1YWIwOWRkZDcuYmluZFBvcHVwKHBvcHVwXzMyNzEwYzBhMzgyYzRkYzNhNjk5MTNlNjkzZmEzYmNkKQogICAgICAgIDsKCiAgICAgICAgCiAgICAKICAgIAogICAgICAgICAgICBjaXJjbGVfbWFya2VyX2Y1NjI2M2YxZTg0ZTRjOThhMmNiYTIwNWFiMDlkZGQ3LmJpbmRUb29sdGlwKAogICAgICAgICAgICAgICAgYDxkaXY+CiAgICAgICAgICAgICAgICAgICAgIENlbnRyYWwgLSBEb21sdXIKICAgICAgICAgICAgICAgICA8L2Rpdj5gLAogICAgICAgICAgICAgICAgeyJzdGlja3kiOiB0cnVlfQogICAgICAgICAgICApOwogICAgICAgIAogICAgCiAgICAgICAgICAgIHZhciBjaXJjbGVfbWFya2VyXzFhMjkwMTljNDIzNDQyYzY4OThlZWMwZjc1MjIxNzMzID0gTC5jaXJjbGVNYXJrZXIoCiAgICAgICAgICAgICAgICBbMTIuODQwNzExLCA3Ny42NzYzNjldLAogICAgICAgICAgICAgICAgeyJidWJibGluZ01vdXNlRXZlbnRzIjogdHJ1ZSwgImNvbG9yIjogIiM4NTNERjQiLCAiZGFzaEFycmF5IjogbnVsbCwgImRhc2hPZmZzZXQiOiBudWxsLCAiZmlsbCI6IHRydWUsICJmaWxsQ29sb3IiOiAiIzg1M0RGNCIsICJmaWxsT3BhY2l0eSI6IDAuNywgImZpbGxSdWxlIjogImV2ZW5vZGQiLCAibGluZUNhcCI6ICJyb3VuZCIsICJsaW5lSm9pbiI6ICJyb3VuZCIsICJvcGFjaXR5IjogMS4wLCAicmFkaXVzIjogNCwgInN0cm9rZSI6IHRydWUsICJ3ZWlnaHQiOiAzfQogICAgICAgICAgICApLmFkZFRvKG1hcF84ZjJhNTM4YmU0ODY0NzM4YjBmN2MwMGQ0NTg5NjQ4MSk7CiAgICAgICAgCiAgICAKICAgICAgICB2YXIgcG9wdXBfZjU5ZjJlMTJjZjVmNDc0NGExMjE3MGJiYjRhZmU4ZTcgPSBMLnBvcHVwKHsibWF4V2lkdGgiOiAiMTAwJSJ9KTsKCiAgICAgICAgCiAgICAgICAgICAgIHZhciBodG1sX2I1ZDEwOTFmZTJjZTQ2ODg4MTQ4YzFkODUzNTA0ZTgyID0gJChgPGRpdiBpZD0iaHRtbF9iNWQxMDkxZmUyY2U0Njg4ODE0OGMxZDg1MzUwNGU4MiIgc3R5bGU9IndpZHRoOiAxMDAuMCU7IGhlaWdodDogMTAwLjAlOyI+U291dGhFYXN0ZXJuIC0gRWxlY3Ryb25pYyBDaXR5PC9kaXY+YClbMF07CiAgICAgICAgICAgIHBvcHVwX2Y1OWYyZTEyY2Y1ZjQ3NDRhMTIxNzBiYmI0YWZlOGU3LnNldENvbnRlbnQoaHRtbF9iNWQxMDkxZmUyY2U0Njg4ODE0OGMxZDg1MzUwNGU4Mik7CiAgICAgICAgCgogICAgICAgIGNpcmNsZV9tYXJrZXJfMWEyOTAxOWM0MjM0NDJjNjg5OGVlYzBmNzUyMjE3MzMuYmluZFBvcHVwKHBvcHVwX2Y1OWYyZTEyY2Y1ZjQ3NDRhMTIxNzBiYmI0YWZlOGU3KQogICAgICAgIDsKCiAgICAgICAgCiAgICAKICAgIAogICAgICAgICAgICBjaXJjbGVfbWFya2VyXzFhMjkwMTljNDIzNDQyYzY4OThlZWMwZjc1MjIxNzMzLmJpbmRUb29sdGlwKAogICAgICAgICAgICAgICAgYDxkaXY+CiAgICAgICAgICAgICAgICAgICAgIFNvdXRoRWFzdGVybiAtIEVsZWN0cm9uaWMgQ2l0eQogICAgICAgICAgICAgICAgIDwvZGl2PmAsCiAgICAgICAgICAgICAgICB7InN0aWNreSI6IHRydWV9CiAgICAgICAgICAgICk7CiAgICAgICAgCiAgICAKICAgICAgICAgICAgdmFyIGNpcmNsZV9tYXJrZXJfZDQ4MGU5NjNkMzM4NGM2MmFmODRmMTgwMTE3Y2Q1YTUgPSBMLmNpcmNsZU1hcmtlcigKICAgICAgICAgICAgICAgIFsxMi45Mzg2LCA3Ny41NDRdLAogICAgICAgICAgICAgICAgeyJidWJibGluZ01vdXNlRXZlbnRzIjogdHJ1ZSwgImNvbG9yIjogIiMwMjU0ODAiLCAiZGFzaEFycmF5IjogbnVsbCwgImRhc2hPZmZzZXQiOiBudWxsLCAiZmlsbCI6IHRydWUsICJmaWxsQ29sb3IiOiAiIzAyNTQ4MCIsICJmaWxsT3BhY2l0eSI6IDAuNywgImZpbGxSdWxlIjogImV2ZW5vZGQiLCAibGluZUNhcCI6ICJyb3VuZCIsICJsaW5lSm9pbiI6ICJyb3VuZCIsICJvcGFjaXR5IjogMS4wLCAicmFkaXVzIjogNCwgInN0cm9rZSI6IHRydWUsICJ3ZWlnaHQiOiAzfQogICAgICAgICAgICApLmFkZFRvKG1hcF84ZjJhNTM4YmU0ODY0NzM4YjBmN2MwMGQ0NTg5NjQ4MSk7CiAgICAgICAgCiAgICAKICAgICAgICB2YXIgcG9wdXBfYzJjNWUxMTA2NzRkNGQ0ZGFiNjllYTBlMDc0MTEzYjggPSBMLnBvcHVwKHsibWF4V2lkdGgiOiAiMTAwJSJ9KTsKCiAgICAgICAgCiAgICAgICAgICAgIHZhciBodG1sX2JkNzI4ZDZiNDQ5NjRiNWQ4YTUwOWVjMDBkNjRkYjE4ID0gJChgPGRpdiBpZD0iaHRtbF9iZDcyOGQ2YjQ0OTY0YjVkOGE1MDllYzAwZDY0ZGIxOCIgc3R5bGU9IndpZHRoOiAxMDAuMCU7IGhlaWdodDogMTAwLjAlOyI+U291dGhlcm4gLSBHaXJpbmFnYXI8L2Rpdj5gKVswXTsKICAgICAgICAgICAgcG9wdXBfYzJjNWUxMTA2NzRkNGQ0ZGFiNjllYTBlMDc0MTEzYjguc2V0Q29udGVudChodG1sX2JkNzI4ZDZiNDQ5NjRiNWQ4YTUwOWVjMDBkNjRkYjE4KTsKICAgICAgICAKCiAgICAgICAgY2lyY2xlX21hcmtlcl9kNDgwZTk2M2QzMzg0YzYyYWY4NGYxODAxMTdjZDVhNS5iaW5kUG9wdXAocG9wdXBfYzJjNWUxMTA2NzRkNGQ0ZGFiNjllYTBlMDc0MTEzYjgpCiAgICAgICAgOwoKICAgICAgICAKICAgIAogICAgCiAgICAgICAgICAgIGNpcmNsZV9tYXJrZXJfZDQ4MGU5NjNkMzM4NGM2MmFmODRmMTgwMTE3Y2Q1YTUuYmluZFRvb2x0aXAoCiAgICAgICAgICAgICAgICBgPGRpdj4KICAgICAgICAgICAgICAgICAgICAgU291dGhlcm4gLSBHaXJpbmFnYXIKICAgICAgICAgICAgICAgICA8L2Rpdj5gLAogICAgICAgICAgICAgICAgeyJzdGlja3kiOiB0cnVlfQogICAgICAgICAgICApOwogICAgICAgIAogICAgCiAgICAgICAgICAgIHZhciBjaXJjbGVfbWFya2VyXzZhMjllNDc5M2E0MzRjYzFiN2U1MzUxOGYzZDRjNmI2ID0gTC5jaXJjbGVNYXJrZXIoCiAgICAgICAgICAgICAgICBbMTIuODU1MiwgNzcuNTg2OV0sCiAgICAgICAgICAgICAgICB7ImJ1YmJsaW5nTW91c2VFdmVudHMiOiB0cnVlLCAiY29sb3IiOiAiIzQ1M0E1OCIsICJkYXNoQXJyYXkiOiBudWxsLCAiZGFzaE9mZnNldCI6IG51bGwsICJmaWxsIjogdHJ1ZSwgImZpbGxDb2xvciI6ICIjNDUzQTU4IiwgImZpbGxPcGFjaXR5IjogMC43LCAiZmlsbFJ1bGUiOiAiZXZlbm9kZCIsICJsaW5lQ2FwIjogInJvdW5kIiwgImxpbmVKb2luIjogInJvdW5kIiwgIm9wYWNpdHkiOiAxLjAsICJyYWRpdXMiOiA0LCAic3Ryb2tlIjogdHJ1ZSwgIndlaWdodCI6IDN9CiAgICAgICAgICAgICkuYWRkVG8obWFwXzhmMmE1MzhiZTQ4NjQ3MzhiMGY3YzAwZDQ1ODk2NDgxKTsKICAgICAgICAKICAgIAogICAgICAgIHZhciBwb3B1cF80N2IyZWRjNTNiOWE0NjRiYmZjNGU5MWI1MWE0ZjlhOCA9IEwucG9wdXAoeyJtYXhXaWR0aCI6ICIxMDAlIn0pOwoKICAgICAgICAKICAgICAgICAgICAgdmFyIGh0bWxfMDI5YTJmNTQ1OGM0NDA2MGJkZjFkYjhkMzBhNDBmYTcgPSAkKGA8ZGl2IGlkPSJodG1sXzAyOWEyZjU0NThjNDQwNjBiZGYxZGI4ZDMwYTQwZmE3IiBzdHlsZT0id2lkdGg6IDEwMC4wJTsgaGVpZ2h0OiAxMDAuMCU7Ij5Tb3V0aGVyblN1YnVyYnMgLSBHb3R0aWdlcmU8L2Rpdj5gKVswXTsKICAgICAgICAgICAgcG9wdXBfNDdiMmVkYzUzYjlhNDY0YmJmYzRlOTFiNTFhNGY5YTguc2V0Q29udGVudChodG1sXzAyOWEyZjU0NThjNDQwNjBiZGYxZGI4ZDMwYTQwZmE3KTsKICAgICAgICAKCiAgICAgICAgY2lyY2xlX21hcmtlcl82YTI5ZTQ3OTNhNDM0Y2MxYjdlNTM1MThmM2Q0YzZiNi5iaW5kUG9wdXAocG9wdXBfNDdiMmVkYzUzYjlhNDY0YmJmYzRlOTFiNTFhNGY5YTgpCiAgICAgICAgOwoKICAgICAgICAKICAgIAogICAgCiAgICAgICAgICAgIGNpcmNsZV9tYXJrZXJfNmEyOWU0NzkzYTQzNGNjMWI3ZTUzNTE4ZjNkNGM2YjYuYmluZFRvb2x0aXAoCiAgICAgICAgICAgICAgICBgPGRpdj4KICAgICAgICAgICAgICAgICAgICAgU291dGhlcm5TdWJ1cmJzIC0gR290dGlnZXJlCiAgICAgICAgICAgICAgICAgPC9kaXY+YCwKICAgICAgICAgICAgICAgIHsic3RpY2t5IjogdHJ1ZX0KICAgICAgICAgICAgKTsKICAgICAgICAKICAgIAogICAgICAgICAgICB2YXIgY2lyY2xlX21hcmtlcl83MDZkMDliYzM4NWI0ODY0YjU5ZGFjZTllZDRjOThmZiA9IEwuY2lyY2xlTWFya2VyKAogICAgICAgICAgICAgICAgWzEzLjAzNzcsIDc3LjYyODhdLAogICAgICAgICAgICAgICAgeyJidWJibGluZ01vdXNlRXZlbnRzIjogdHJ1ZSwgImNvbG9yIjogIiMxQTRGRDQiLCAiZGFzaEFycmF5IjogbnVsbCwgImRhc2hPZmZzZXQiOiBudWxsLCAiZmlsbCI6IHRydWUsICJmaWxsQ29sb3IiOiAiIzFBNEZENCIsICJmaWxsT3BhY2l0eSI6IDAuNywgImZpbGxSdWxlIjogImV2ZW5vZGQiLCAibGluZUNhcCI6ICJyb3VuZCIsICJsaW5lSm9pbiI6ICJyb3VuZCIsICJvcGFjaXR5IjogMS4wLCAicmFkaXVzIjogNCwgInN0cm9rZSI6IHRydWUsICJ3ZWlnaHQiOiAzfQogICAgICAgICAgICApLmFkZFRvKG1hcF84ZjJhNTM4YmU0ODY0NzM4YjBmN2MwMGQ0NTg5NjQ4MSk7CiAgICAgICAgCiAgICAKICAgICAgICB2YXIgcG9wdXBfMzAxOTgyZDEyZGYxNDk3Mjk5NGM5NGE5ODkwMmU3NGEgPSBMLnBvcHVwKHsibWF4V2lkdGgiOiAiMTAwJSJ9KTsKCiAgICAgICAgCiAgICAgICAgICAgIHZhciBodG1sX2YwNTFkZDIzZjcxNjQwMDI4NTMyYjU0ZWJlODFhN2M0ID0gJChgPGRpdiBpZD0iaHRtbF9mMDUxZGQyM2Y3MTY0MDAyODUzMmI1NGViZTgxYTdjNCIgc3R5bGU9IndpZHRoOiAxMDAuMCU7IGhlaWdodDogMTAwLjAlOyI+Tm9ydGhFYXN0ZXJuIC0gSEJSIExheW91dDwvZGl2PmApWzBdOwogICAgICAgICAgICBwb3B1cF8zMDE5ODJkMTJkZjE0OTcyOTk0Yzk0YTk4OTAyZTc0YS5zZXRDb250ZW50KGh0bWxfZjA1MWRkMjNmNzE2NDAwMjg1MzJiNTRlYmU4MWE3YzQpOwogICAgICAgIAoKICAgICAgICBjaXJjbGVfbWFya2VyXzcwNmQwOWJjMzg1YjQ4NjRiNTlkYWNlOWVkNGM5OGZmLmJpbmRQb3B1cChwb3B1cF8zMDE5ODJkMTJkZjE0OTcyOTk0Yzk0YTk4OTAyZTc0YSkKICAgICAgICA7CgogICAgICAgIAogICAgCiAgICAKICAgICAgICAgICAgY2lyY2xlX21hcmtlcl83MDZkMDliYzM4NWI0ODY0YjU5ZGFjZTllZDRjOThmZi5iaW5kVG9vbHRpcCgKICAgICAgICAgICAgICAgIGA8ZGl2PgogICAgICAgICAgICAgICAgICAgICBOb3J0aEVhc3Rlcm4gLSBIQlIgTGF5b3V0CiAgICAgICAgICAgICAgICAgPC9kaXY+YCwKICAgICAgICAgICAgICAgIHsic3RpY2t5IjogdHJ1ZX0KICAgICAgICAgICAgKTsKICAgICAgICAKICAgIAogICAgICAgICAgICB2YXIgY2lyY2xlX21hcmtlcl9kNmYwNjE5ZWNkYjY0MTFlOWUzMjMxNTI5NjdjODg1MyA9IEwuY2lyY2xlTWFya2VyKAogICAgICAgICAgICAgICAgWzEzLjAzNTgsIDc3LjU5N10sCiAgICAgICAgICAgICAgICB7ImJ1YmJsaW5nTW91c2VFdmVudHMiOiB0cnVlLCAiY29sb3IiOiAiIzEyNEMxQiIsICJkYXNoQXJyYXkiOiBudWxsLCAiZGFzaE9mZnNldCI6IG51bGwsICJmaWxsIjogdHJ1ZSwgImZpbGxDb2xvciI6ICIjMTI0QzFCIiwgImZpbGxPcGFjaXR5IjogMC43LCAiZmlsbFJ1bGUiOiAiZXZlbm9kZCIsICJsaW5lQ2FwIjogInJvdW5kIiwgImxpbmVKb2luIjogInJvdW5kIiwgIm9wYWNpdHkiOiAxLjAsICJyYWRpdXMiOiA0LCAic3Ryb2tlIjogdHJ1ZSwgIndlaWdodCI6IDN9CiAgICAgICAgICAgICkuYWRkVG8obWFwXzhmMmE1MzhiZTQ4NjQ3MzhiMGY3YzAwZDQ1ODk2NDgxKTsKICAgICAgICAKICAgIAogICAgICAgIHZhciBwb3B1cF8wNzVlY2EwYzQ1ZTY0OTM3YTY3YTEzMDgwZWZlMjExNiA9IEwucG9wdXAoeyJtYXhXaWR0aCI6ICIxMDAlIn0pOwoKICAgICAgICAKICAgICAgICAgICAgdmFyIGh0bWxfMjdiZTU5MGVmNmRiNDhlYzkzOTZmM2MxNjAyODZhMzIgPSAkKGA8ZGl2IGlkPSJodG1sXzI3YmU1OTBlZjZkYjQ4ZWM5Mzk2ZjNjMTYwMjg2YTMyIiBzdHlsZT0id2lkdGg6IDEwMC4wJTsgaGVpZ2h0OiAxMDAuMCU7Ij5Ob3J0aGVybiAtIEhlYmJhbDwvZGl2PmApWzBdOwogICAgICAgICAgICBwb3B1cF8wNzVlY2EwYzQ1ZTY0OTM3YTY3YTEzMDgwZWZlMjExNi5zZXRDb250ZW50KGh0bWxfMjdiZTU5MGVmNmRiNDhlYzkzOTZmM2MxNjAyODZhMzIpOwogICAgICAgIAoKICAgICAgICBjaXJjbGVfbWFya2VyX2Q2ZjA2MTllY2RiNjQxMWU5ZTMyMzE1Mjk2N2M4ODUzLmJpbmRQb3B1cChwb3B1cF8wNzVlY2EwYzQ1ZTY0OTM3YTY3YTEzMDgwZWZlMjExNikKICAgICAgICA7CgogICAgICAgIAogICAgCiAgICAKICAgICAgICAgICAgY2lyY2xlX21hcmtlcl9kNmYwNjE5ZWNkYjY0MTFlOWUzMjMxNTI5NjdjODg1My5iaW5kVG9vbHRpcCgKICAgICAgICAgICAgICAgIGA8ZGl2PgogICAgICAgICAgICAgICAgICAgICBOb3J0aGVybiAtIEhlYmJhbAogICAgICAgICAgICAgICAgIDwvZGl2PmAsCiAgICAgICAgICAgICAgICB7InN0aWNreSI6IHRydWV9CiAgICAgICAgICAgICk7CiAgICAgICAgCiAgICAKICAgICAgICAgICAgdmFyIGNpcmNsZV9tYXJrZXJfYjcxMWZiMTAxN2NiNGRlOGE5NmYyZDM0M2JlNjA3YTggPSBMLmNpcmNsZU1hcmtlcigKICAgICAgICAgICAgICAgIFsxMi45OTIyLCA3Ny43MTU5XSwKICAgICAgICAgICAgICAgIHsiYnViYmxpbmdNb3VzZUV2ZW50cyI6IHRydWUsICJjb2xvciI6ICIjN0ZCODk1IiwgImRhc2hBcnJheSI6IG51bGwsICJkYXNoT2Zmc2V0IjogbnVsbCwgImZpbGwiOiB0cnVlLCAiZmlsbENvbG9yIjogIiM3RkI4OTUiLCAiZmlsbE9wYWNpdHkiOiAwLjcsICJmaWxsUnVsZSI6ICJldmVub2RkIiwgImxpbmVDYXAiOiAicm91bmQiLCAibGluZUpvaW4iOiAicm91bmQiLCAib3BhY2l0eSI6IDEuMCwgInJhZGl1cyI6IDQsICJzdHJva2UiOiB0cnVlLCAid2VpZ2h0IjogM30KICAgICAgICAgICAgKS5hZGRUbyhtYXBfOGYyYTUzOGJlNDg2NDczOGIwZjdjMDBkNDU4OTY0ODEpOwogICAgICAgIAogICAgCiAgICAgICAgdmFyIHBvcHVwXzhhNzlhZWU5N2VhOTQ3ZmNiMjM3NWQ0MDY4MjU5ZWNhID0gTC5wb3B1cCh7Im1heFdpZHRoIjogIjEwMCUifSk7CgogICAgICAgIAogICAgICAgICAgICB2YXIgaHRtbF9mMTA0ZTE3ZGZjYWM0ZmQ5YjQ4ZDExMmQ5ZDMzYjkyZSA9ICQoYDxkaXYgaWQ9Imh0bWxfZjEwNGUxN2RmY2FjNGZkOWI0OGQxMTJkOWQzM2I5MmUiIHN0eWxlPSJ3aWR0aDogMTAwLjAlOyBoZWlnaHQ6IDEwMC4wJTsiPkVhc3Rlcm4gLSBIb29kaTwvZGl2PmApWzBdOwogICAgICAgICAgICBwb3B1cF84YTc5YWVlOTdlYTk0N2ZjYjIzNzVkNDA2ODI1OWVjYS5zZXRDb250ZW50KGh0bWxfZjEwNGUxN2RmY2FjNGZkOWI0OGQxMTJkOWQzM2I5MmUpOwogICAgICAgIAoKICAgICAgICBjaXJjbGVfbWFya2VyX2I3MTFmYjEwMTdjYjRkZThhOTZmMmQzNDNiZTYwN2E4LmJpbmRQb3B1cChwb3B1cF84YTc5YWVlOTdlYTk0N2ZjYjIzNzVkNDA2ODI1OWVjYSkKICAgICAgICA7CgogICAgICAgIAogICAgCiAgICAKICAgICAgICAgICAgY2lyY2xlX21hcmtlcl9iNzExZmIxMDE3Y2I0ZGU4YTk2ZjJkMzQzYmU2MDdhOC5iaW5kVG9vbHRpcCgKICAgICAgICAgICAgICAgIGA8ZGl2PgogICAgICAgICAgICAgICAgICAgICBFYXN0ZXJuIC0gSG9vZGkKICAgICAgICAgICAgICAgICA8L2Rpdj5gLAogICAgICAgICAgICAgICAgeyJzdGlja3kiOiB0cnVlfQogICAgICAgICAgICApOwogICAgICAgIAogICAgCiAgICAgICAgICAgIHZhciBjaXJjbGVfbWFya2VyX2Y4YTNlN2FlOWQ5NDQzZGE4ZTllYzE3YzA4MmU4ZTNiID0gTC5jaXJjbGVNYXJrZXIoCiAgICAgICAgICAgICAgICBbMTMuMDI1MSwgNzcuNjU5N10sCiAgICAgICAgICAgICAgICB7ImJ1YmJsaW5nTW91c2VFdmVudHMiOiB0cnVlLCAiY29sb3IiOiAiIzFBNEZENCIsICJkYXNoQXJyYXkiOiBudWxsLCAiZGFzaE9mZnNldCI6IG51bGwsICJmaWxsIjogdHJ1ZSwgImZpbGxDb2xvciI6ICIjMUE0RkQ0IiwgImZpbGxPcGFjaXR5IjogMC43LCAiZmlsbFJ1bGUiOiAiZXZlbm9kZCIsICJsaW5lQ2FwIjogInJvdW5kIiwgImxpbmVKb2luIjogInJvdW5kIiwgIm9wYWNpdHkiOiAxLjAsICJyYWRpdXMiOiA0LCAic3Ryb2tlIjogdHJ1ZSwgIndlaWdodCI6IDN9CiAgICAgICAgICAgICkuYWRkVG8obWFwXzhmMmE1MzhiZTQ4NjQ3MzhiMGY3YzAwZDQ1ODk2NDgxKTsKICAgICAgICAKICAgIAogICAgICAgIHZhciBwb3B1cF80NjQ4NDc1YTBiZjI0MGNhOTVjM2RhZTU4NTYxZjk4MCA9IEwucG9wdXAoeyJtYXhXaWR0aCI6ICIxMDAlIn0pOwoKICAgICAgICAKICAgICAgICAgICAgdmFyIGh0bWxfNmI1MjlhZmI1MTA1NDQyMjlkZTJkN2YxNGQ0ZTE1YzEgPSAkKGA8ZGl2IGlkPSJodG1sXzZiNTI5YWZiNTEwNTQ0MjI5ZGUyZDdmMTRkNGUxNWMxIiBzdHlsZT0id2lkdGg6IDEwMC4wJTsgaGVpZ2h0OiAxMDAuMCU7Ij5Ob3J0aEVhc3Rlcm4gLSBIb3JhbWF2dTwvZGl2PmApWzBdOwogICAgICAgICAgICBwb3B1cF80NjQ4NDc1YTBiZjI0MGNhOTVjM2RhZTU4NTYxZjk4MC5zZXRDb250ZW50KGh0bWxfNmI1MjlhZmI1MTA1NDQyMjlkZTJkN2YxNGQ0ZTE1YzEpOwogICAgICAgIAoKICAgICAgICBjaXJjbGVfbWFya2VyX2Y4YTNlN2FlOWQ5NDQzZGE4ZTllYzE3YzA4MmU4ZTNiLmJpbmRQb3B1cChwb3B1cF80NjQ4NDc1YTBiZjI0MGNhOTVjM2RhZTU4NTYxZjk4MCkKICAgICAgICA7CgogICAgICAgIAogICAgCiAgICAKICAgICAgICAgICAgY2lyY2xlX21hcmtlcl9mOGEzZTdhZTlkOTQ0M2RhOGU5ZWMxN2MwODJlOGUzYi5iaW5kVG9vbHRpcCgKICAgICAgICAgICAgICAgIGA8ZGl2PgogICAgICAgICAgICAgICAgICAgICBOb3J0aEVhc3Rlcm4gLSBIb3JhbWF2dQogICAgICAgICAgICAgICAgIDwvZGl2PmAsCiAgICAgICAgICAgICAgICB7InN0aWNreSI6IHRydWV9CiAgICAgICAgICAgICk7CiAgICAgICAgCiAgICAKICAgICAgICAgICAgdmFyIGNpcmNsZV9tYXJrZXJfM2ZlYTk0OGI5MDJiNGUyYTk1ODAxZmJmODlkM2Y3NzQgPSBMLmNpcmNsZU1hcmtlcigKICAgICAgICAgICAgICAgIFsxMi45MDgxLCA3Ny42NDc2XSwKICAgICAgICAgICAgICAgIHsiYnViYmxpbmdNb3VzZUV2ZW50cyI6IHRydWUsICJjb2xvciI6ICIjODUzREY0IiwgImRhc2hBcnJheSI6IG51bGwsICJkYXNoT2Zmc2V0IjogbnVsbCwgImZpbGwiOiB0cnVlLCAiZmlsbENvbG9yIjogIiM4NTNERjQiLCAiZmlsbE9wYWNpdHkiOiAwLjcsICJmaWxsUnVsZSI6ICJldmVub2RkIiwgImxpbmVDYXAiOiAicm91bmQiLCAibGluZUpvaW4iOiAicm91bmQiLCAib3BhY2l0eSI6IDEuMCwgInJhZGl1cyI6IDQsICJzdHJva2UiOiB0cnVlLCAid2VpZ2h0IjogM30KICAgICAgICAgICAgKS5hZGRUbyhtYXBfOGYyYTUzOGJlNDg2NDczOGIwZjdjMDBkNDU4OTY0ODEpOwogICAgICAgIAogICAgCiAgICAgICAgdmFyIHBvcHVwX2E4Y2M4MDBhMGNhNzRhZjFiZWJlYzliOGNhZjNhYzliID0gTC5wb3B1cCh7Im1heFdpZHRoIjogIjEwMCUifSk7CgogICAgICAgIAogICAgICAgICAgICB2YXIgaHRtbF8wOWZmNGE1MzU2MGM0ZmIzYjI1NmYyOWUwM2ZlOTY1NSA9ICQoYDxkaXYgaWQ9Imh0bWxfMDlmZjRhNTM1NjBjNGZiM2IyNTZmMjllMDNmZTk2NTUiIHN0eWxlPSJ3aWR0aDogMTAwLjAlOyBoZWlnaHQ6IDEwMC4wJTsiPlNvdXRoRWFzdGVybiAtIEhTUiBMYXlvdXQ8L2Rpdj5gKVswXTsKICAgICAgICAgICAgcG9wdXBfYThjYzgwMGEwY2E3NGFmMWJlYmVjOWI4Y2FmM2FjOWIuc2V0Q29udGVudChodG1sXzA5ZmY0YTUzNTYwYzRmYjNiMjU2ZjI5ZTAzZmU5NjU1KTsKICAgICAgICAKCiAgICAgICAgY2lyY2xlX21hcmtlcl8zZmVhOTQ4YjkwMmI0ZTJhOTU4MDFmYmY4OWQzZjc3NC5iaW5kUG9wdXAocG9wdXBfYThjYzgwMGEwY2E3NGFmMWJlYmVjOWI4Y2FmM2FjOWIpCiAgICAgICAgOwoKICAgICAgICAKICAgIAogICAgCiAgICAgICAgICAgIGNpcmNsZV9tYXJrZXJfM2ZlYTk0OGI5MDJiNGUyYTk1ODAxZmJmODlkM2Y3NzQuYmluZFRvb2x0aXAoCiAgICAgICAgICAgICAgICBgPGRpdj4KICAgICAgICAgICAgICAgICAgICAgU291dGhFYXN0ZXJuIC0gSFNSIExheW91dAogICAgICAgICAgICAgICAgIDwvZGl2PmAsCiAgICAgICAgICAgICAgICB7InN0aWNreSI6IHRydWV9CiAgICAgICAgICAgICk7CiAgICAgICAgCiAgICAKICAgICAgICAgICAgdmFyIGNpcmNsZV9tYXJrZXJfYmUzYjgwOTQyNGExNGYyNGI1YjVhNmZiOWQxNWJiOGYgPSBMLmNpcmNsZU1hcmtlcigKICAgICAgICAgICAgICAgIFsxMi44Nzg5LCA3Ny42MDldLAogICAgICAgICAgICAgICAgeyJidWJibGluZ01vdXNlRXZlbnRzIjogdHJ1ZSwgImNvbG9yIjogIiM0NTNBNTgiLCAiZGFzaEFycmF5IjogbnVsbCwgImRhc2hPZmZzZXQiOiBudWxsLCAiZmlsbCI6IHRydWUsICJmaWxsQ29sb3IiOiAiIzQ1M0E1OCIsICJmaWxsT3BhY2l0eSI6IDAuNywgImZpbGxSdWxlIjogImV2ZW5vZGQiLCAibGluZUNhcCI6ICJyb3VuZCIsICJsaW5lSm9pbiI6ICJyb3VuZCIsICJvcGFjaXR5IjogMS4wLCAicmFkaXVzIjogNCwgInN0cm9rZSI6IHRydWUsICJ3ZWlnaHQiOiAzfQogICAgICAgICAgICApLmFkZFRvKG1hcF84ZjJhNTM4YmU0ODY0NzM4YjBmN2MwMGQ0NTg5NjQ4MSk7CiAgICAgICAgCiAgICAKICAgICAgICB2YXIgcG9wdXBfNmVjMjRmODVkODY1NGE1YmIxMjUzNTlhMDQ4NmNmMmYgPSBMLnBvcHVwKHsibWF4V2lkdGgiOiAiMTAwJSJ9KTsKCiAgICAgICAgCiAgICAgICAgICAgIHZhciBodG1sXzQ0YWQ2ODI2NGZiOTQ2YTZhNGI0MjllYmJhY2IzNTJiID0gJChgPGRpdiBpZD0iaHRtbF80NGFkNjgyNjRmYjk0NmE2YTRiNDI5ZWJiYWNiMzUyYiIgc3R5bGU9IndpZHRoOiAxMDAuMCU7IGhlaWdodDogMTAwLjAlOyI+U291dGhlcm5TdWJ1cmJzIC0gSHVsaW1hdnU8L2Rpdj5gKVswXTsKICAgICAgICAgICAgcG9wdXBfNmVjMjRmODVkODY1NGE1YmIxMjUzNTlhMDQ4NmNmMmYuc2V0Q29udGVudChodG1sXzQ0YWQ2ODI2NGZiOTQ2YTZhNGI0MjllYmJhY2IzNTJiKTsKICAgICAgICAKCiAgICAgICAgY2lyY2xlX21hcmtlcl9iZTNiODA5NDI0YTE0ZjI0YjViNWE2ZmI5ZDE1YmI4Zi5iaW5kUG9wdXAocG9wdXBfNmVjMjRmODVkODY1NGE1YmIxMjUzNTlhMDQ4NmNmMmYpCiAgICAgICAgOwoKICAgICAgICAKICAgIAogICAgCiAgICAgICAgICAgIGNpcmNsZV9tYXJrZXJfYmUzYjgwOTQyNGExNGYyNGI1YjVhNmZiOWQxNWJiOGYuYmluZFRvb2x0aXAoCiAgICAgICAgICAgICAgICBgPGRpdj4KICAgICAgICAgICAgICAgICAgICAgU291dGhlcm5TdWJ1cmJzIC0gSHVsaW1hdnUKICAgICAgICAgICAgICAgICA8L2Rpdj5gLAogICAgICAgICAgICAgICAgeyJzdGlja3kiOiB0cnVlfQogICAgICAgICAgICApOwogICAgICAgIAogICAgCiAgICAgICAgICAgIHZhciBjaXJjbGVfbWFya2VyXzE2YTk5NzI0YjZiYjRjNGVhM2Y0YmFmM2RmMjUxZmI5ID0gTC5jaXJjbGVNYXJrZXIoCiAgICAgICAgICAgICAgICBbMTIuOTcxODkxMDAwMDAwMDAxLCA3Ny42NDExNTEwMDAwMDAwMV0sCiAgICAgICAgICAgICAgICB7ImJ1YmJsaW5nTW91c2VFdmVudHMiOiB0cnVlLCAiY29sb3IiOiAiI0QwOUU2MSIsICJkYXNoQXJyYXkiOiBudWxsLCAiZGFzaE9mZnNldCI6IG51bGwsICJmaWxsIjogdHJ1ZSwgImZpbGxDb2xvciI6ICIjRDA5RTYxIiwgImZpbGxPcGFjaXR5IjogMC43LCAiZmlsbFJ1bGUiOiAiZXZlbm9kZCIsICJsaW5lQ2FwIjogInJvdW5kIiwgImxpbmVKb2luIjogInJvdW5kIiwgIm9wYWNpdHkiOiAxLjAsICJyYWRpdXMiOiA0LCAic3Ryb2tlIjogdHJ1ZSwgIndlaWdodCI6IDN9CiAgICAgICAgICAgICkuYWRkVG8obWFwXzhmMmE1MzhiZTQ4NjQ3MzhiMGY3YzAwZDQ1ODk2NDgxKTsKICAgICAgICAKICAgIAogICAgICAgIHZhciBwb3B1cF8wNmExZjIwNGZmNjQ0MjY5YWRkOGY5ZmYzNmVmYWRiNCA9IEwucG9wdXAoeyJtYXhXaWR0aCI6ICIxMDAlIn0pOwoKICAgICAgICAKICAgICAgICAgICAgdmFyIGh0bWxfYmE1MDdlZGFkNzU2NGQ2YTgwY2U5MjRiOWE0NDM3MTggPSAkKGA8ZGl2IGlkPSJodG1sX2JhNTA3ZWRhZDc1NjRkNmE4MGNlOTI0YjlhNDQzNzE4IiBzdHlsZT0id2lkdGg6IDEwMC4wJTsgaGVpZ2h0OiAxMDAuMCU7Ij5DZW50cmFsIC0gSW5kaXJhbmFnYXI8L2Rpdj5gKVswXTsKICAgICAgICAgICAgcG9wdXBfMDZhMWYyMDRmZjY0NDI2OWFkZDhmOWZmMzZlZmFkYjQuc2V0Q29udGVudChodG1sX2JhNTA3ZWRhZDc1NjRkNmE4MGNlOTI0YjlhNDQzNzE4KTsKICAgICAgICAKCiAgICAgICAgY2lyY2xlX21hcmtlcl8xNmE5OTcyNGI2YmI0YzRlYTNmNGJhZjNkZjI1MWZiOS5iaW5kUG9wdXAocG9wdXBfMDZhMWYyMDRmZjY0NDI2OWFkZDhmOWZmMzZlZmFkYjQpCiAgICAgICAgOwoKICAgICAgICAKICAgIAogICAgCiAgICAgICAgICAgIGNpcmNsZV9tYXJrZXJfMTZhOTk3MjRiNmJiNGM0ZWEzZjRiYWYzZGYyNTFmYjkuYmluZFRvb2x0aXAoCiAgICAgICAgICAgICAgICBgPGRpdj4KICAgICAgICAgICAgICAgICAgICAgQ2VudHJhbCAtIEluZGlyYW5hZ2FyCiAgICAgICAgICAgICAgICAgPC9kaXY+YCwKICAgICAgICAgICAgICAgIHsic3RpY2t5IjogdHJ1ZX0KICAgICAgICAgICAgKTsKICAgICAgICAKICAgIAogICAgICAgICAgICB2YXIgY2lyY2xlX21hcmtlcl81MTgxMGMzMmIwMzA0ZjEzYjA3MTM1NTUwN2UxY2JkMCA9IEwuY2lyY2xlTWFya2VyKAogICAgICAgICAgICAgICAgWzEyLjkxMDUsIDc3LjU4NTddLAogICAgICAgICAgICAgICAgeyJidWJibGluZ01vdXNlRXZlbnRzIjogdHJ1ZSwgImNvbG9yIjogIiMwMjU0ODAiLCAiZGFzaEFycmF5IjogbnVsbCwgImRhc2hPZmZzZXQiOiBudWxsLCAiZmlsbCI6IHRydWUsICJmaWxsQ29sb3IiOiAiIzAyNTQ4MCIsICJmaWxsT3BhY2l0eSI6IDAuNywgImZpbGxSdWxlIjogImV2ZW5vZGQiLCAibGluZUNhcCI6ICJyb3VuZCIsICJsaW5lSm9pbiI6ICJyb3VuZCIsICJvcGFjaXR5IjogMS4wLCAicmFkaXVzIjogNCwgInN0cm9rZSI6IHRydWUsICJ3ZWlnaHQiOiAzfQogICAgICAgICAgICApLmFkZFRvKG1hcF84ZjJhNTM4YmU0ODY0NzM4YjBmN2MwMGQ0NTg5NjQ4MSk7CiAgICAgICAgCiAgICAKICAgICAgICB2YXIgcG9wdXBfMzJmZWNiN2MxZDIyNDEyZmJhOTM3YWE3YmNjOTI3ZjAgPSBMLnBvcHVwKHsibWF4V2lkdGgiOiAiMTAwJSJ9KTsKCiAgICAgICAgCiAgICAgICAgICAgIHZhciBodG1sX2IyODM4NzkwMzg1NDQ0YWE4NzgyYzNkNGFkNTJhMWZmID0gJChgPGRpdiBpZD0iaHRtbF9iMjgzODc5MDM4NTQ0NGFhODc4MmMzZDRhZDUyYTFmZiIgc3R5bGU9IndpZHRoOiAxMDAuMCU7IGhlaWdodDogMTAwLjAlOyI+U291dGhlcm4gLSBKLiBQLiBOYWdhcjwvZGl2PmApWzBdOwogICAgICAgICAgICBwb3B1cF8zMmZlY2I3YzFkMjI0MTJmYmE5MzdhYTdiY2M5MjdmMC5zZXRDb250ZW50KGh0bWxfYjI4Mzg3OTAzODU0NDRhYTg3ODJjM2Q0YWQ1MmExZmYpOwogICAgICAgIAoKICAgICAgICBjaXJjbGVfbWFya2VyXzUxODEwYzMyYjAzMDRmMTNiMDcxMzU1NTA3ZTFjYmQwLmJpbmRQb3B1cChwb3B1cF8zMmZlY2I3YzFkMjI0MTJmYmE5MzdhYTdiY2M5MjdmMCkKICAgICAgICA7CgogICAgICAgIAogICAgCiAgICAKICAgICAgICAgICAgY2lyY2xlX21hcmtlcl81MTgxMGMzMmIwMzA0ZjEzYjA3MTM1NTUwN2UxY2JkMC5iaW5kVG9vbHRpcCgKICAgICAgICAgICAgICAgIGA8ZGl2PgogICAgICAgICAgICAgICAgICAgICBTb3V0aGVybiAtIEouIFAuIE5hZ2FyCiAgICAgICAgICAgICAgICAgPC9kaXY+YCwKICAgICAgICAgICAgICAgIHsic3RpY2t5IjogdHJ1ZX0KICAgICAgICAgICAgKTsKICAgICAgICAKICAgIAogICAgICAgICAgICB2YXIgY2lyY2xlX21hcmtlcl81MzkyMTIxNGRjZjM0NjI2OGE3NzY0YjliNWQwNmRjOSA9IEwuY2lyY2xlTWFya2VyKAogICAgICAgICAgICAgICAgWzEzLjA1MjgsIDc3LjU0MTldLAogICAgICAgICAgICAgICAgeyJidWJibGluZ01vdXNlRXZlbnRzIjogdHJ1ZSwgImNvbG9yIjogIiMxMjRDMUIiLCAiZGFzaEFycmF5IjogbnVsbCwgImRhc2hPZmZzZXQiOiBudWxsLCAiZmlsbCI6IHRydWUsICJmaWxsQ29sb3IiOiAiIzEyNEMxQiIsICJmaWxsT3BhY2l0eSI6IDAuNywgImZpbGxSdWxlIjogImV2ZW5vZGQiLCAibGluZUNhcCI6ICJyb3VuZCIsICJsaW5lSm9pbiI6ICJyb3VuZCIsICJvcGFjaXR5IjogMS4wLCAicmFkaXVzIjogNCwgInN0cm9rZSI6IHRydWUsICJ3ZWlnaHQiOiAzfQogICAgICAgICAgICApLmFkZFRvKG1hcF84ZjJhNTM4YmU0ODY0NzM4YjBmN2MwMGQ0NTg5NjQ4MSk7CiAgICAgICAgCiAgICAKICAgICAgICB2YXIgcG9wdXBfMDJhZDAyMDRiYTA4NGEzMGI3MjQ4MTJkMmI2ZTQxNjIgPSBMLnBvcHVwKHsibWF4V2lkdGgiOiAiMTAwJSJ9KTsKCiAgICAgICAgCiAgICAgICAgICAgIHZhciBodG1sX2I0M2I1MTkwZWQ0OTQ0OWY5Mjg4NjZhZjE1NDk1ZjUyID0gJChgPGRpdiBpZD0iaHRtbF9iNDNiNTE5MGVkNDk0NDlmOTI4ODY2YWYxNTQ5NWY1MiIgc3R5bGU9IndpZHRoOiAxMDAuMCU7IGhlaWdodDogMTAwLjAlOyI+Tm9ydGhlcm4gLSBKYWxhaGFsbGk8L2Rpdj5gKVswXTsKICAgICAgICAgICAgcG9wdXBfMDJhZDAyMDRiYTA4NGEzMGI3MjQ4MTJkMmI2ZTQxNjIuc2V0Q29udGVudChodG1sX2I0M2I1MTkwZWQ0OTQ0OWY5Mjg4NjZhZjE1NDk1ZjUyKTsKICAgICAgICAKCiAgICAgICAgY2lyY2xlX21hcmtlcl81MzkyMTIxNGRjZjM0NjI2OGE3NzY0YjliNWQwNmRjOS5iaW5kUG9wdXAocG9wdXBfMDJhZDAyMDRiYTA4NGEzMGI3MjQ4MTJkMmI2ZTQxNjIpCiAgICAgICAgOwoKICAgICAgICAKICAgIAogICAgCiAgICAgICAgICAgIGNpcmNsZV9tYXJrZXJfNTM5MjEyMTRkY2YzNDYyNjhhNzc2NGI5YjVkMDZkYzkuYmluZFRvb2x0aXAoCiAgICAgICAgICAgICAgICBgPGRpdj4KICAgICAgICAgICAgICAgICAgICAgTm9ydGhlcm4gLSBKYWxhaGFsbGkKICAgICAgICAgICAgICAgICA8L2Rpdj5gLAogICAgICAgICAgICAgICAgeyJzdGlja3kiOiB0cnVlfQogICAgICAgICAgICApOwogICAgICAgIAogICAgCiAgICAgICAgICAgIHZhciBjaXJjbGVfbWFya2VyX2U5NWU1MTI4YmUyZjRjYzFhZDE0YzBlZGU4OTY0Y2Q0ID0gTC5jaXJjbGVNYXJrZXIoCiAgICAgICAgICAgICAgICBbMTIuOTI1LCA3Ny41OTM4XSwKICAgICAgICAgICAgICAgIHsiYnViYmxpbmdNb3VzZUV2ZW50cyI6IHRydWUsICJjb2xvciI6ICIjMDI1NDgwIiwgImRhc2hBcnJheSI6IG51bGwsICJkYXNoT2Zmc2V0IjogbnVsbCwgImZpbGwiOiB0cnVlLCAiZmlsbENvbG9yIjogIiMwMjU0ODAiLCAiZmlsbE9wYWNpdHkiOiAwLjcsICJmaWxsUnVsZSI6ICJldmVub2RkIiwgImxpbmVDYXAiOiAicm91bmQiLCAibGluZUpvaW4iOiAicm91bmQiLCAib3BhY2l0eSI6IDEuMCwgInJhZGl1cyI6IDQsICJzdHJva2UiOiB0cnVlLCAid2VpZ2h0IjogM30KICAgICAgICAgICAgKS5hZGRUbyhtYXBfOGYyYTUzOGJlNDg2NDczOGIwZjdjMDBkNDU4OTY0ODEpOwogICAgICAgIAogICAgCiAgICAgICAgdmFyIHBvcHVwX2U0MmNmOTg3NGJmZDQ0YTQ4NzA4OTA0YTM4OTUzOGFjID0gTC5wb3B1cCh7Im1heFdpZHRoIjogIjEwMCUifSk7CgogICAgICAgIAogICAgICAgICAgICB2YXIgaHRtbF9kZDEzOTEzOGYxY2U0ZjgxOWM4NmRhMDMzYzM3ODA1MCA9ICQoYDxkaXYgaWQ9Imh0bWxfZGQxMzkxMzhmMWNlNGY4MTljODZkYTAzM2MzNzgwNTAiIHN0eWxlPSJ3aWR0aDogMTAwLjAlOyBoZWlnaHQ6IDEwMC4wJTsiPlNvdXRoZXJuIC0gSmF5YW5hZ2FyPC9kaXY+YClbMF07CiAgICAgICAgICAgIHBvcHVwX2U0MmNmOTg3NGJmZDQ0YTQ4NzA4OTA0YTM4OTUzOGFjLnNldENvbnRlbnQoaHRtbF9kZDEzOTEzOGYxY2U0ZjgxOWM4NmRhMDMzYzM3ODA1MCk7CiAgICAgICAgCgogICAgICAgIGNpcmNsZV9tYXJrZXJfZTk1ZTUxMjhiZTJmNGNjMWFkMTRjMGVkZTg5NjRjZDQuYmluZFBvcHVwKHBvcHVwX2U0MmNmOTg3NGJmZDQ0YTQ4NzA4OTA0YTM4OTUzOGFjKQogICAgICAgIDsKCiAgICAgICAgCiAgICAKICAgIAogICAgICAgICAgICBjaXJjbGVfbWFya2VyX2U5NWU1MTI4YmUyZjRjYzFhZDE0YzBlZGU4OTY0Y2Q0LmJpbmRUb29sdGlwKAogICAgICAgICAgICAgICAgYDxkaXY+CiAgICAgICAgICAgICAgICAgICAgIFNvdXRoZXJuIC0gSmF5YW5hZ2FyCiAgICAgICAgICAgICAgICAgPC9kaXY+YCwKICAgICAgICAgICAgICAgIHsic3RpY2t5IjogdHJ1ZX0KICAgICAgICAgICAgKTsKICAgICAgICAKICAgIAogICAgICAgICAgICB2YXIgY2lyY2xlX21hcmtlcl8zOWI1MTI1MGNkNGM0MWM1YmQ3YzNiNWU2NWVjOTVmNCA9IEwuY2lyY2xlTWFya2VyKAogICAgICAgICAgICAgICAgWzEyLjk2MjksIDc3LjY1OTVdLAogICAgICAgICAgICAgICAgeyJidWJibGluZ01vdXNlRXZlbnRzIjogdHJ1ZSwgImNvbG9yIjogIiNEMDlFNjEiLCAiZGFzaEFycmF5IjogbnVsbCwgImRhc2hPZmZzZXQiOiBudWxsLCAiZmlsbCI6IHRydWUsICJmaWxsQ29sb3IiOiAiI0QwOUU2MSIsICJmaWxsT3BhY2l0eSI6IDAuNywgImZpbGxSdWxlIjogImV2ZW5vZGQiLCAibGluZUNhcCI6ICJyb3VuZCIsICJsaW5lSm9pbiI6ICJyb3VuZCIsICJvcGFjaXR5IjogMS4wLCAicmFkaXVzIjogNCwgInN0cm9rZSI6IHRydWUsICJ3ZWlnaHQiOiAzfQogICAgICAgICAgICApLmFkZFRvKG1hcF84ZjJhNTM4YmU0ODY0NzM4YjBmN2MwMGQ0NTg5NjQ4MSk7CiAgICAgICAgCiAgICAKICAgICAgICB2YXIgcG9wdXBfMmE5YTc2NzA5YzBmNDlmMjgwNTg3YjIxYWZlMmEzMzkgPSBMLnBvcHVwKHsibWF4V2lkdGgiOiAiMTAwJSJ9KTsKCiAgICAgICAgCiAgICAgICAgICAgIHZhciBodG1sXzEwNDBmNTZhZTJjYzRjMWRiMDgzOGY3NDQ2YTFmZmI3ID0gJChgPGRpdiBpZD0iaHRtbF8xMDQwZjU2YWUyY2M0YzFkYjA4MzhmNzQ0NmExZmZiNyIgc3R5bGU9IndpZHRoOiAxMDAuMCU7IGhlaWdodDogMTAwLjAlOyI+Q2VudHJhbCAtIEplZXZhbmJoZWVtYW5hZ2FyPC9kaXY+YClbMF07CiAgICAgICAgICAgIHBvcHVwXzJhOWE3NjcwOWMwZjQ5ZjI4MDU4N2IyMWFmZTJhMzM5LnNldENvbnRlbnQoaHRtbF8xMDQwZjU2YWUyY2M0YzFkYjA4MzhmNzQ0NmExZmZiNyk7CiAgICAgICAgCgogICAgICAgIGNpcmNsZV9tYXJrZXJfMzliNTEyNTBjZDRjNDFjNWJkN2MzYjVlNjVlYzk1ZjQuYmluZFBvcHVwKHBvcHVwXzJhOWE3NjcwOWMwZjQ5ZjI4MDU4N2IyMWFmZTJhMzM5KQogICAgICAgIDsKCiAgICAgICAgCiAgICAKICAgIAogICAgICAgICAgICBjaXJjbGVfbWFya2VyXzM5YjUxMjUwY2Q0YzQxYzViZDdjM2I1ZTY1ZWM5NWY0LmJpbmRUb29sdGlwKAogICAgICAgICAgICAgICAgYDxkaXY+CiAgICAgICAgICAgICAgICAgICAgIENlbnRyYWwgLSBKZWV2YW5iaGVlbWFuYWdhcgogICAgICAgICAgICAgICAgIDwvZGl2PmAsCiAgICAgICAgICAgICAgICB7InN0aWNreSI6IHRydWV9CiAgICAgICAgICAgICk7CiAgICAgICAgCiAgICAKICAgICAgICAgICAgdmFyIGNpcmNsZV9tYXJrZXJfZjVmZjBiZWZlODI5NGFkNGE3MzZmMmRmYmUxZDYxYzQgPSBMLmNpcmNsZU1hcmtlcigKICAgICAgICAgICAgICAgIFsxMi45ODg3LCA3Ny41MjcxXSwKICAgICAgICAgICAgICAgIHsiYnViYmxpbmdNb3VzZUV2ZW50cyI6IHRydWUsICJjb2xvciI6ICIjMkRFRjBBIiwgImRhc2hBcnJheSI6IG51bGwsICJkYXNoT2Zmc2V0IjogbnVsbCwgImZpbGwiOiB0cnVlLCAiZmlsbENvbG9yIjogIiMyREVGMEEiLCAiZmlsbE9wYWNpdHkiOiAwLjcsICJmaWxsUnVsZSI6ICJldmVub2RkIiwgImxpbmVDYXAiOiAicm91bmQiLCAibGluZUpvaW4iOiAicm91bmQiLCAib3BhY2l0eSI6IDEuMCwgInJhZGl1cyI6IDQsICJzdHJva2UiOiB0cnVlLCAid2VpZ2h0IjogM30KICAgICAgICAgICAgKS5hZGRUbyhtYXBfOGYyYTUzOGJlNDg2NDczOGIwZjdjMDBkNDU4OTY0ODEpOwogICAgICAgIAogICAgCiAgICAgICAgdmFyIHBvcHVwX2U4ZmU2NzliMzA2MTQ5YWFhYTNkMjZjMmU5MmU3ZWE5ID0gTC5wb3B1cCh7Im1heFdpZHRoIjogIjEwMCUifSk7CgogICAgICAgIAogICAgICAgICAgICB2YXIgaHRtbF83MzNlODViYzgyMTE0YTkwOTlmZWVmNTIzOGFlZDEyMCA9ICQoYDxkaXYgaWQ9Imh0bWxfNzMzZTg1YmM4MjExNGE5MDk5ZmVlZjUyMzhhZWQxMjAiIHN0eWxlPSJ3aWR0aDogMTAwLjAlOyBoZWlnaHQ6IDEwMC4wJTsiPldlc3Rlcm4gLSBLYW1ha3NoaXBhbHlhPC9kaXY+YClbMF07CiAgICAgICAgICAgIHBvcHVwX2U4ZmU2NzliMzA2MTQ5YWFhYTNkMjZjMmU5MmU3ZWE5LnNldENvbnRlbnQoaHRtbF83MzNlODViYzgyMTE0YTkwOTlmZWVmNTIzOGFlZDEyMCk7CiAgICAgICAgCgogICAgICAgIGNpcmNsZV9tYXJrZXJfZjVmZjBiZWZlODI5NGFkNGE3MzZmMmRmYmUxZDYxYzQuYmluZFBvcHVwKHBvcHVwX2U4ZmU2NzliMzA2MTQ5YWFhYTNkMjZjMmU5MmU3ZWE5KQogICAgICAgIDsKCiAgICAgICAgCiAgICAKICAgIAogICAgICAgICAgICBjaXJjbGVfbWFya2VyX2Y1ZmYwYmVmZTgyOTRhZDRhNzM2ZjJkZmJlMWQ2MWM0LmJpbmRUb29sdGlwKAogICAgICAgICAgICAgICAgYDxkaXY+CiAgICAgICAgICAgICAgICAgICAgIFdlc3Rlcm4gLSBLYW1ha3NoaXBhbHlhCiAgICAgICAgICAgICAgICAgPC9kaXY+YCwKICAgICAgICAgICAgICAgIHsic3RpY2t5IjogdHJ1ZX0KICAgICAgICAgICAgKTsKICAgICAgICAKICAgIAogICAgICAgICAgICB2YXIgY2lyY2xlX21hcmtlcl9kNjJhMWI0M2M2MzI0ZDFkODgwZWNhN2I3MzdjYjk2MiA9IEwuY2lyY2xlTWFya2VyKAogICAgICAgICAgICAgICAgWzEzLjAxNTksIDc3LjYzNzldLAogICAgICAgICAgICAgICAgeyJidWJibGluZ01vdXNlRXZlbnRzIjogdHJ1ZSwgImNvbG9yIjogIiMxQTRGRDQiLCAiZGFzaEFycmF5IjogbnVsbCwgImRhc2hPZmZzZXQiOiBudWxsLCAiZmlsbCI6IHRydWUsICJmaWxsQ29sb3IiOiAiIzFBNEZENCIsICJmaWxsT3BhY2l0eSI6IDAuNywgImZpbGxSdWxlIjogImV2ZW5vZGQiLCAibGluZUNhcCI6ICJyb3VuZCIsICJsaW5lSm9pbiI6ICJyb3VuZCIsICJvcGFjaXR5IjogMS4wLCAicmFkaXVzIjogNCwgInN0cm9rZSI6IHRydWUsICJ3ZWlnaHQiOiAzfQogICAgICAgICAgICApLmFkZFRvKG1hcF84ZjJhNTM4YmU0ODY0NzM4YjBmN2MwMGQ0NTg5NjQ4MSk7CiAgICAgICAgCiAgICAKICAgICAgICB2YXIgcG9wdXBfNWEwNTAyZDZhY2U1NGE1Njk4NjA2YzNjMTY3YmE3OGQgPSBMLnBvcHVwKHsibWF4V2lkdGgiOiAiMTAwJSJ9KTsKCiAgICAgICAgCiAgICAgICAgICAgIHZhciBodG1sXzYwMmRlYTkwY2JhYjQ0MDNiMDQ4M2VlODQxN2ZmZmRhID0gJChgPGRpdiBpZD0iaHRtbF82MDJkZWE5MGNiYWI0NDAzYjA0ODNlZTg0MTdmZmZkYSIgc3R5bGU9IndpZHRoOiAxMDAuMCU7IGhlaWdodDogMTAwLjAlOyI+Tm9ydGhFYXN0ZXJuIC0gS2FtbWFuYWhhbGxpPC9kaXY+YClbMF07CiAgICAgICAgICAgIHBvcHVwXzVhMDUwMmQ2YWNlNTRhNTY5ODYwNmMzYzE2N2JhNzhkLnNldENvbnRlbnQoaHRtbF82MDJkZWE5MGNiYWI0NDAzYjA0ODNlZTg0MTdmZmZkYSk7CiAgICAgICAgCgogICAgICAgIGNpcmNsZV9tYXJrZXJfZDYyYTFiNDNjNjMyNGQxZDg4MGVjYTdiNzM3Y2I5NjIuYmluZFBvcHVwKHBvcHVwXzVhMDUwMmQ2YWNlNTRhNTY5ODYwNmMzYzE2N2JhNzhkKQogICAgICAgIDsKCiAgICAgICAgCiAgICAKICAgIAogICAgICAgICAgICBjaXJjbGVfbWFya2VyX2Q2MmExYjQzYzYzMjRkMWQ4ODBlY2E3YjczN2NiOTYyLmJpbmRUb29sdGlwKAogICAgICAgICAgICAgICAgYDxkaXY+CiAgICAgICAgICAgICAgICAgICAgIE5vcnRoRWFzdGVybiAtIEthbW1hbmFoYWxsaQogICAgICAgICAgICAgICAgIDwvZGl2PmAsCiAgICAgICAgICAgICAgICB7InN0aWNreSI6IHRydWV9CiAgICAgICAgICAgICk7CiAgICAgICAgCiAgICAKICAgICAgICAgICAgdmFyIGNpcmNsZV9tYXJrZXJfN2JiNDEzZmQ2ZTgzNGIzZWFjMzBiYzUxMzRkMmUzYWIgPSBMLmNpcmNsZU1hcmtlcigKICAgICAgICAgICAgICAgIFsxMi44OTk2LCA3Ny40ODI3XSwKICAgICAgICAgICAgICAgIHsiYnViYmxpbmdNb3VzZUV2ZW50cyI6IHRydWUsICJjb2xvciI6ICIjMkRFRjBBIiwgImRhc2hBcnJheSI6IG51bGwsICJkYXNoT2Zmc2V0IjogbnVsbCwgImZpbGwiOiB0cnVlLCAiZmlsbENvbG9yIjogIiMyREVGMEEiLCAiZmlsbE9wYWNpdHkiOiAwLjcsICJmaWxsUnVsZSI6ICJldmVub2RkIiwgImxpbmVDYXAiOiAicm91bmQiLCAibGluZUpvaW4iOiAicm91bmQiLCAib3BhY2l0eSI6IDEuMCwgInJhZGl1cyI6IDQsICJzdHJva2UiOiB0cnVlLCAid2VpZ2h0IjogM30KICAgICAgICAgICAgKS5hZGRUbyhtYXBfOGYyYTUzOGJlNDg2NDczOGIwZjdjMDBkNDU4OTY0ODEpOwogICAgICAgIAogICAgCiAgICAgICAgdmFyIHBvcHVwX2E2OGRmYTU2NmFmOTQ2OTg5YTRhNWQzNzI4MzdjNGZiID0gTC5wb3B1cCh7Im1heFdpZHRoIjogIjEwMCUifSk7CgogICAgICAgIAogICAgICAgICAgICB2YXIgaHRtbF9hNWM5ODMyNDc2NTQ0ZWVlOWQwMWI0ZDY2MzQ1NzkwZCA9ICQoYDxkaXYgaWQ9Imh0bWxfYTVjOTgzMjQ3NjU0NGVlZTlkMDFiNGQ2NjM0NTc5MGQiIHN0eWxlPSJ3aWR0aDogMTAwLjAlOyBoZWlnaHQ6IDEwMC4wJTsiPldlc3Rlcm4gLSBLZW5nZXJpPC9kaXY+YClbMF07CiAgICAgICAgICAgIHBvcHVwX2E2OGRmYTU2NmFmOTQ2OTg5YTRhNWQzNzI4MzdjNGZiLnNldENvbnRlbnQoaHRtbF9hNWM5ODMyNDc2NTQ0ZWVlOWQwMWI0ZDY2MzQ1NzkwZCk7CiAgICAgICAgCgogICAgICAgIGNpcmNsZV9tYXJrZXJfN2JiNDEzZmQ2ZTgzNGIzZWFjMzBiYzUxMzRkMmUzYWIuYmluZFBvcHVwKHBvcHVwX2E2OGRmYTU2NmFmOTQ2OTg5YTRhNWQzNzI4MzdjNGZiKQogICAgICAgIDsKCiAgICAgICAgCiAgICAKICAgIAogICAgICAgICAgICBjaXJjbGVfbWFya2VyXzdiYjQxM2ZkNmU4MzRiM2VhYzMwYmM1MTM0ZDJlM2FiLmJpbmRUb29sdGlwKAogICAgICAgICAgICAgICAgYDxkaXY+CiAgICAgICAgICAgICAgICAgICAgIFdlc3Rlcm4gLSBLZW5nZXJpCiAgICAgICAgICAgICAgICAgPC9kaXY+YCwKICAgICAgICAgICAgICAgIHsic3RpY2t5IjogdHJ1ZX0KICAgICAgICAgICAgKTsKICAgICAgICAKICAgIAogICAgICAgICAgICB2YXIgY2lyY2xlX21hcmtlcl82YWY3M2MwZTk1Mjg0Mzk4YjdkY2VlNmE0MWViOTdkZSA9IEwuY2lyY2xlTWFya2VyKAogICAgICAgICAgICAgICAgWzEyLjkyNzksIDc3LjYyNzFdLAogICAgICAgICAgICAgICAgeyJidWJibGluZ01vdXNlRXZlbnRzIjogdHJ1ZSwgImNvbG9yIjogIiM4NTNERjQiLCAiZGFzaEFycmF5IjogbnVsbCwgImRhc2hPZmZzZXQiOiBudWxsLCAiZmlsbCI6IHRydWUsICJmaWxsQ29sb3IiOiAiIzg1M0RGNCIsICJmaWxsT3BhY2l0eSI6IDAuNywgImZpbGxSdWxlIjogImV2ZW5vZGQiLCAibGluZUNhcCI6ICJyb3VuZCIsICJsaW5lSm9pbiI6ICJyb3VuZCIsICJvcGFjaXR5IjogMS4wLCAicmFkaXVzIjogNCwgInN0cm9rZSI6IHRydWUsICJ3ZWlnaHQiOiAzfQogICAgICAgICAgICApLmFkZFRvKG1hcF84ZjJhNTM4YmU0ODY0NzM4YjBmN2MwMGQ0NTg5NjQ4MSk7CiAgICAgICAgCiAgICAKICAgICAgICB2YXIgcG9wdXBfN2UwOGQ4Y2M5ZTY3NDdlOThkODM4Y2Q4MzYyZGM1MGQgPSBMLnBvcHVwKHsibWF4V2lkdGgiOiAiMTAwJSJ9KTsKCiAgICAgICAgCiAgICAgICAgICAgIHZhciBodG1sX2EyNmY4ODA5ZGMyYzQ2MTdiOTkwN2JjYTUxNjc4ZTRiID0gJChgPGRpdiBpZD0iaHRtbF9hMjZmODgwOWRjMmM0NjE3Yjk5MDdiY2E1MTY3OGU0YiIgc3R5bGU9IndpZHRoOiAxMDAuMCU7IGhlaWdodDogMTAwLjAlOyI+U291dGhFYXN0ZXJuIC0gS29yYW1hbmdhbGE8L2Rpdj5gKVswXTsKICAgICAgICAgICAgcG9wdXBfN2UwOGQ4Y2M5ZTY3NDdlOThkODM4Y2Q4MzYyZGM1MGQuc2V0Q29udGVudChodG1sX2EyNmY4ODA5ZGMyYzQ2MTdiOTkwN2JjYTUxNjc4ZTRiKTsKICAgICAgICAKCiAgICAgICAgY2lyY2xlX21hcmtlcl82YWY3M2MwZTk1Mjg0Mzk4YjdkY2VlNmE0MWViOTdkZS5iaW5kUG9wdXAocG9wdXBfN2UwOGQ4Y2M5ZTY3NDdlOThkODM4Y2Q4MzYyZGM1MGQpCiAgICAgICAgOwoKICAgICAgICAKICAgIAogICAgCiAgICAgICAgICAgIGNpcmNsZV9tYXJrZXJfNmFmNzNjMGU5NTI4NDM5OGI3ZGNlZTZhNDFlYjk3ZGUuYmluZFRvb2x0aXAoCiAgICAgICAgICAgICAgICBgPGRpdj4KICAgICAgICAgICAgICAgICAgICAgU291dGhFYXN0ZXJuIC0gS29yYW1hbmdhbGEKICAgICAgICAgICAgICAgICA8L2Rpdj5gLAogICAgICAgICAgICAgICAgeyJzdGlja3kiOiB0cnVlfQogICAgICAgICAgICApOwogICAgICAgIAogICAgCiAgICAgICAgICAgIHZhciBjaXJjbGVfbWFya2VyX2ZiNWMzNWU5NzA0MTQ1NGJiMGNmNTJkMjZiMWYxMWY0ID0gTC5jaXJjbGVNYXJrZXIoCiAgICAgICAgICAgICAgICBbMTIuODczNCwgNzcuNTgyXSwKICAgICAgICAgICAgICAgIHsiYnViYmxpbmdNb3VzZUV2ZW50cyI6IHRydWUsICJjb2xvciI6ICIjNDUzQTU4IiwgImRhc2hBcnJheSI6IG51bGwsICJkYXNoT2Zmc2V0IjogbnVsbCwgImZpbGwiOiB0cnVlLCAiZmlsbENvbG9yIjogIiM0NTNBNTgiLCAiZmlsbE9wYWNpdHkiOiAwLjcsICJmaWxsUnVsZSI6ICJldmVub2RkIiwgImxpbmVDYXAiOiAicm91bmQiLCAibGluZUpvaW4iOiAicm91bmQiLCAib3BhY2l0eSI6IDEuMCwgInJhZGl1cyI6IDQsICJzdHJva2UiOiB0cnVlLCAid2VpZ2h0IjogM30KICAgICAgICAgICAgKS5hZGRUbyhtYXBfOGYyYTUzOGJlNDg2NDczOGIwZjdjMDBkNDU4OTY0ODEpOwogICAgICAgIAogICAgCiAgICAgICAgdmFyIHBvcHVwXzA4ZGQ1MTE1ZmFkZDRiOTZhN2M2ZDQ1MWJkOTM3NWMzID0gTC5wb3B1cCh7Im1heFdpZHRoIjogIjEwMCUifSk7CgogICAgICAgIAogICAgICAgICAgICB2YXIgaHRtbF8zMTY0NzY4YzU1NzQ0YWVkYjE1YjUzMGRiMDAxZjVlOCA9ICQoYDxkaXYgaWQ9Imh0bWxfMzE2NDc2OGM1NTc0NGFlZGIxNWI1MzBkYjAwMWY1ZTgiIHN0eWxlPSJ3aWR0aDogMTAwLjAlOyBoZWlnaHQ6IDEwMC4wJTsiPlNvdXRoZXJuU3VidXJicyAtIEtvdGhudXI8L2Rpdj5gKVswXTsKICAgICAgICAgICAgcG9wdXBfMDhkZDUxMTVmYWRkNGI5NmE3YzZkNDUxYmQ5Mzc1YzMuc2V0Q29udGVudChodG1sXzMxNjQ3NjhjNTU3NDRhZWRiMTViNTMwZGIwMDFmNWU4KTsKICAgICAgICAKCiAgICAgICAgY2lyY2xlX21hcmtlcl9mYjVjMzVlOTcwNDE0NTRiYjBjZjUyZDI2YjFmMTFmNC5iaW5kUG9wdXAocG9wdXBfMDhkZDUxMTVmYWRkNGI5NmE3YzZkNDUxYmQ5Mzc1YzMpCiAgICAgICAgOwoKICAgICAgICAKICAgIAogICAgCiAgICAgICAgICAgIGNpcmNsZV9tYXJrZXJfZmI1YzM1ZTk3MDQxNDU0YmIwY2Y1MmQyNmIxZjExZjQuYmluZFRvb2x0aXAoCiAgICAgICAgICAgICAgICBgPGRpdj4KICAgICAgICAgICAgICAgICAgICAgU291dGhlcm5TdWJ1cmJzIC0gS290aG51cgogICAgICAgICAgICAgICAgIDwvZGl2PmAsCiAgICAgICAgICAgICAgICB7InN0aWNreSI6IHRydWV9CiAgICAgICAgICAgICk7CiAgICAgICAgCiAgICAKICAgICAgICAgICAgdmFyIGNpcmNsZV9tYXJrZXJfNmU0NjIyZjgwZWVmNGJiOWFiZjE4YjJhZDk2YWM3NWQgPSBMLmNpcmNsZU1hcmtlcigKICAgICAgICAgICAgICAgIFsxMy4wMDQwMDAwMDAwMDAwMDEsIDc3LjY4NzhdLAogICAgICAgICAgICAgICAgeyJidWJibGluZ01vdXNlRXZlbnRzIjogdHJ1ZSwgImNvbG9yIjogIiM3RkI4OTUiLCAiZGFzaEFycmF5IjogbnVsbCwgImRhc2hPZmZzZXQiOiBudWxsLCAiZmlsbCI6IHRydWUsICJmaWxsQ29sb3IiOiAiIzdGQjg5NSIsICJmaWxsT3BhY2l0eSI6IDAuNywgImZpbGxSdWxlIjogImV2ZW5vZGQiLCAibGluZUNhcCI6ICJyb3VuZCIsICJsaW5lSm9pbiI6ICJyb3VuZCIsICJvcGFjaXR5IjogMS4wLCAicmFkaXVzIjogNCwgInN0cm9rZSI6IHRydWUsICJ3ZWlnaHQiOiAzfQogICAgICAgICAgICApLmFkZFRvKG1hcF84ZjJhNTM4YmU0ODY0NzM4YjBmN2MwMGQ0NTg5NjQ4MSk7CiAgICAgICAgCiAgICAKICAgICAgICB2YXIgcG9wdXBfMmI0YTExNTgxOWE0NGZkMzk2N2VlZDJjMWM3NzJjNjQgPSBMLnBvcHVwKHsibWF4V2lkdGgiOiAiMTAwJSJ9KTsKCiAgICAgICAgCiAgICAgICAgICAgIHZhciBodG1sXzViZWIwZDJlMmNjZDRiOGI4ODYzNzgzZjJjMDUxOTRhID0gJChgPGRpdiBpZD0iaHRtbF81YmViMGQyZTJjY2Q0YjhiODg2Mzc4M2YyYzA1MTk0YSIgc3R5bGU9IndpZHRoOiAxMDAuMCU7IGhlaWdodDogMTAwLjAlOyI+RWFzdGVybiAtIEtyaXNobmFyYWphcHVyYW08L2Rpdj5gKVswXTsKICAgICAgICAgICAgcG9wdXBfMmI0YTExNTgxOWE0NGZkMzk2N2VlZDJjMWM3NzJjNjQuc2V0Q29udGVudChodG1sXzViZWIwZDJlMmNjZDRiOGI4ODYzNzgzZjJjMDUxOTRhKTsKICAgICAgICAKCiAgICAgICAgY2lyY2xlX21hcmtlcl82ZTQ2MjJmODBlZWY0YmI5YWJmMThiMmFkOTZhYzc1ZC5iaW5kUG9wdXAocG9wdXBfMmI0YTExNTgxOWE0NGZkMzk2N2VlZDJjMWM3NzJjNjQpCiAgICAgICAgOwoKICAgICAgICAKICAgIAogICAgCiAgICAgICAgICAgIGNpcmNsZV9tYXJrZXJfNmU0NjIyZjgwZWVmNGJiOWFiZjE4YjJhZDk2YWM3NWQuYmluZFRvb2x0aXAoCiAgICAgICAgICAgICAgICBgPGRpdj4KICAgICAgICAgICAgICAgICAgICAgRWFzdGVybiAtIEtyaXNobmFyYWphcHVyYW0KICAgICAgICAgICAgICAgICA8L2Rpdj5gLAogICAgICAgICAgICAgICAgeyJzdGlja3kiOiB0cnVlfQogICAgICAgICAgICApOwogICAgICAgIAogICAgCiAgICAgICAgICAgIHZhciBjaXJjbGVfbWFya2VyX2M0NWJkM2RkOTIwZjQ4OGI4YjBmY2MzMzg2ODMxZDNmID0gTC5jaXJjbGVNYXJrZXIoCiAgICAgICAgICAgICAgICBbMTIuOTAzOCwgNzcuNTYxOF0sCiAgICAgICAgICAgICAgICB7ImJ1YmJsaW5nTW91c2VFdmVudHMiOiB0cnVlLCAiY29sb3IiOiAiIzAyNTQ4MCIsICJkYXNoQXJyYXkiOiBudWxsLCAiZGFzaE9mZnNldCI6IG51bGwsICJmaWxsIjogdHJ1ZSwgImZpbGxDb2xvciI6ICIjMDI1NDgwIiwgImZpbGxPcGFjaXR5IjogMC43LCAiZmlsbFJ1bGUiOiAiZXZlbm9kZCIsICJsaW5lQ2FwIjogInJvdW5kIiwgImxpbmVKb2luIjogInJvdW5kIiwgIm9wYWNpdHkiOiAxLjAsICJyYWRpdXMiOiA0LCAic3Ryb2tlIjogdHJ1ZSwgIndlaWdodCI6IDN9CiAgICAgICAgICAgICkuYWRkVG8obWFwXzhmMmE1MzhiZTQ4NjQ3MzhiMGY3YzAwZDQ1ODk2NDgxKTsKICAgICAgICAKICAgIAogICAgICAgIHZhciBwb3B1cF85NDA3NmQ4ZWU0ODY0M2YyYjJhZDJhYTFhNDE2YTQ4MyA9IEwucG9wdXAoeyJtYXhXaWR0aCI6ICIxMDAlIn0pOwoKICAgICAgICAKICAgICAgICAgICAgdmFyIGh0bWxfMjVkOWIwYTgxZmM5NDY4ZWI0NGY5MGU0OTJhNzJiM2QgPSAkKGA8ZGl2IGlkPSJodG1sXzI1ZDliMGE4MWZjOTQ2OGViNDRmOTBlNDkyYTcyYjNkIiBzdHlsZT0id2lkdGg6IDEwMC4wJTsgaGVpZ2h0OiAxMDAuMCU7Ij5Tb3V0aGVybiAtIEt1bWFyYXN3YW15IExheW91dDwvZGl2PmApWzBdOwogICAgICAgICAgICBwb3B1cF85NDA3NmQ4ZWU0ODY0M2YyYjJhZDJhYTFhNDE2YTQ4My5zZXRDb250ZW50KGh0bWxfMjVkOWIwYTgxZmM5NDY4ZWI0NGY5MGU0OTJhNzJiM2QpOwogICAgICAgIAoKICAgICAgICBjaXJjbGVfbWFya2VyX2M0NWJkM2RkOTIwZjQ4OGI4YjBmY2MzMzg2ODMxZDNmLmJpbmRQb3B1cChwb3B1cF85NDA3NmQ4ZWU0ODY0M2YyYjJhZDJhYTFhNDE2YTQ4MykKICAgICAgICA7CgogICAgICAgIAogICAgCiAgICAKICAgICAgICAgICAgY2lyY2xlX21hcmtlcl9jNDViZDNkZDkyMGY0ODhiOGIwZmNjMzM4NjgzMWQzZi5iaW5kVG9vbHRpcCgKICAgICAgICAgICAgICAgIGA8ZGl2PgogICAgICAgICAgICAgICAgICAgICBTb3V0aGVybiAtIEt1bWFyYXN3YW15IExheW91dAogICAgICAgICAgICAgICAgIDwvZGl2PmAsCiAgICAgICAgICAgICAgICB7InN0aWNreSI6IHRydWV9CiAgICAgICAgICAgICk7CiAgICAgICAgCiAgICAKICAgICAgICAgICAgdmFyIGNpcmNsZV9tYXJrZXJfYmJmNzYzZWU5ZGI1NDE0ZTlmODI2MWYzN2I0NGQ1MzIgPSBMLmNpcmNsZU1hcmtlcigKICAgICAgICAgICAgICAgIFsxMy4wMDg0LCA3Ny42MzA2XSwKICAgICAgICAgICAgICAgIHsiYnViYmxpbmdNb3VzZUV2ZW50cyI6IHRydWUsICJjb2xvciI6ICIjMUE0RkQ0IiwgImRhc2hBcnJheSI6IG51bGwsICJkYXNoT2Zmc2V0IjogbnVsbCwgImZpbGwiOiB0cnVlLCAiZmlsbENvbG9yIjogIiMxQTRGRDQiLCAiZmlsbE9wYWNpdHkiOiAwLjcsICJmaWxsUnVsZSI6ICJldmVub2RkIiwgImxpbmVDYXAiOiAicm91bmQiLCAibGluZUpvaW4iOiAicm91bmQiLCAib3BhY2l0eSI6IDEuMCwgInJhZGl1cyI6IDQsICJzdHJva2UiOiB0cnVlLCAid2VpZ2h0IjogM30KICAgICAgICAgICAgKS5hZGRUbyhtYXBfOGYyYTUzOGJlNDg2NDczOGIwZjdjMDBkNDU4OTY0ODEpOwogICAgICAgIAogICAgCiAgICAgICAgdmFyIHBvcHVwX2JmZTc3OTY3NTRmOTQ3MjQ4ZTgxMjVmMTU3M2U2NmZkID0gTC5wb3B1cCh7Im1heFdpZHRoIjogIjEwMCUifSk7CgogICAgICAgIAogICAgICAgICAgICB2YXIgaHRtbF8wYjczMDljYjQxM2E0ZmVlOWZjZTVlZTdmZDBkZjQ3ZSA9ICQoYDxkaXYgaWQ9Imh0bWxfMGI3MzA5Y2I0MTNhNGZlZTlmY2U1ZWU3ZmQwZGY0N2UiIHN0eWxlPSJ3aWR0aDogMTAwLjAlOyBoZWlnaHQ6IDEwMC4wJTsiPk5vcnRoRWFzdGVybiAtIExpbmdhcmFqYXB1cmFtPC9kaXY+YClbMF07CiAgICAgICAgICAgIHBvcHVwX2JmZTc3OTY3NTRmOTQ3MjQ4ZTgxMjVmMTU3M2U2NmZkLnNldENvbnRlbnQoaHRtbF8wYjczMDljYjQxM2E0ZmVlOWZjZTVlZTdmZDBkZjQ3ZSk7CiAgICAgICAgCgogICAgICAgIGNpcmNsZV9tYXJrZXJfYmJmNzYzZWU5ZGI1NDE0ZTlmODI2MWYzN2I0NGQ1MzIuYmluZFBvcHVwKHBvcHVwX2JmZTc3OTY3NTRmOTQ3MjQ4ZTgxMjVmMTU3M2U2NmZkKQogICAgICAgIDsKCiAgICAgICAgCiAgICAKICAgIAogICAgICAgICAgICBjaXJjbGVfbWFya2VyX2JiZjc2M2VlOWRiNTQxNGU5ZjgyNjFmMzdiNDRkNTMyLmJpbmRUb29sdGlwKAogICAgICAgICAgICAgICAgYDxkaXY+CiAgICAgICAgICAgICAgICAgICAgIE5vcnRoRWFzdGVybiAtIExpbmdhcmFqYXB1cmFtCiAgICAgICAgICAgICAgICAgPC9kaXY+YCwKICAgICAgICAgICAgICAgIHsic3RpY2t5IjogdHJ1ZX0KICAgICAgICAgICAgKTsKICAgICAgICAKICAgIAogICAgICAgICAgICB2YXIgY2lyY2xlX21hcmtlcl8xZWQ1NzZiNGU0NTg0YzExOTZjZGRmYTU4ZmQ3NjQ0NyA9IEwuY2lyY2xlTWFya2VyKAogICAgICAgICAgICAgICAgWzEyLjkyMjYsIDc3LjYxNzRdLAogICAgICAgICAgICAgICAgeyJidWJibGluZ01vdXNlRXZlbnRzIjogdHJ1ZSwgImNvbG9yIjogIiM4NTNERjQiLCAiZGFzaEFycmF5IjogbnVsbCwgImRhc2hPZmZzZXQiOiBudWxsLCAiZmlsbCI6IHRydWUsICJmaWxsQ29sb3IiOiAiIzg1M0RGNCIsICJmaWxsT3BhY2l0eSI6IDAuNywgImZpbGxSdWxlIjogImV2ZW5vZGQiLCAibGluZUNhcCI6ICJyb3VuZCIsICJsaW5lSm9pbiI6ICJyb3VuZCIsICJvcGFjaXR5IjogMS4wLCAicmFkaXVzIjogNCwgInN0cm9rZSI6IHRydWUsICJ3ZWlnaHQiOiAzfQogICAgICAgICAgICApLmFkZFRvKG1hcF84ZjJhNTM4YmU0ODY0NzM4YjBmN2MwMGQ0NTg5NjQ4MSk7CiAgICAgICAgCiAgICAKICAgICAgICB2YXIgcG9wdXBfZDBhNTRjOTZlMTdiNDJiYTg1NWZlNWY3ZTBkYTFiMWMgPSBMLnBvcHVwKHsibWF4V2lkdGgiOiAiMTAwJSJ9KTsKCiAgICAgICAgCiAgICAgICAgICAgIHZhciBodG1sXzA2ZjA0ZjExOTliNDQyMjJiMDJmMmFjNzgyNmNkMmIzID0gJChgPGRpdiBpZD0iaHRtbF8wNmYwNGYxMTk5YjQ0MjIyYjAyZjJhYzc4MjZjZDJiMyIgc3R5bGU9IndpZHRoOiAxMDAuMCU7IGhlaWdodDogMTAwLjAlOyI+U291dGhFYXN0ZXJuIC0gTWFkaXdhbGE8L2Rpdj5gKVswXTsKICAgICAgICAgICAgcG9wdXBfZDBhNTRjOTZlMTdiNDJiYTg1NWZlNWY3ZTBkYTFiMWMuc2V0Q29udGVudChodG1sXzA2ZjA0ZjExOTliNDQyMjJiMDJmMmFjNzgyNmNkMmIzKTsKICAgICAgICAKCiAgICAgICAgY2lyY2xlX21hcmtlcl8xZWQ1NzZiNGU0NTg0YzExOTZjZGRmYTU4ZmQ3NjQ0Ny5iaW5kUG9wdXAocG9wdXBfZDBhNTRjOTZlMTdiNDJiYTg1NWZlNWY3ZTBkYTFiMWMpCiAgICAgICAgOwoKICAgICAgICAKICAgIAogICAgCiAgICAgICAgICAgIGNpcmNsZV9tYXJrZXJfMWVkNTc2YjRlNDU4NGMxMTk2Y2RkZmE1OGZkNzY0NDcuYmluZFRvb2x0aXAoCiAgICAgICAgICAgICAgICBgPGRpdj4KICAgICAgICAgICAgICAgICAgICAgU291dGhFYXN0ZXJuIC0gTWFkaXdhbGEKICAgICAgICAgICAgICAgICA8L2Rpdj5gLAogICAgICAgICAgICAgICAgeyJzdGlja3kiOiB0cnVlfQogICAgICAgICAgICApOwogICAgICAgIAogICAgCiAgICAgICAgICAgIHZhciBjaXJjbGVfbWFya2VyXzAwM2ZhMzExZWNlNTQzYjVhNTk3MTdmOWE0ZWY1ZDEwID0gTC5jaXJjbGVNYXJrZXIoCiAgICAgICAgICAgICAgICBbMTIuOTkxMywgNzcuNjg3NF0sCiAgICAgICAgICAgICAgICB7ImJ1YmJsaW5nTW91c2VFdmVudHMiOiB0cnVlLCAiY29sb3IiOiAiIzdGQjg5NSIsICJkYXNoQXJyYXkiOiBudWxsLCAiZGFzaE9mZnNldCI6IG51bGwsICJmaWxsIjogdHJ1ZSwgImZpbGxDb2xvciI6ICIjN0ZCODk1IiwgImZpbGxPcGFjaXR5IjogMC43LCAiZmlsbFJ1bGUiOiAiZXZlbm9kZCIsICJsaW5lQ2FwIjogInJvdW5kIiwgImxpbmVKb2luIjogInJvdW5kIiwgIm9wYWNpdHkiOiAxLjAsICJyYWRpdXMiOiA0LCAic3Ryb2tlIjogdHJ1ZSwgIndlaWdodCI6IDN9CiAgICAgICAgICAgICkuYWRkVG8obWFwXzhmMmE1MzhiZTQ4NjQ3MzhiMGY3YzAwZDQ1ODk2NDgxKTsKICAgICAgICAKICAgIAogICAgICAgIHZhciBwb3B1cF8wYjNhY2ZkNTNlM2E0YjRlYjVhNDhmMGRjN2YyN2QxMyA9IEwucG9wdXAoeyJtYXhXaWR0aCI6ICIxMDAlIn0pOwoKICAgICAgICAKICAgICAgICAgICAgdmFyIGh0bWxfY2FiOTdlMTUyODg5NDZlZDkxY2I0MTdkOTkwN2Q0Y2QgPSAkKGA8ZGl2IGlkPSJodG1sX2NhYjk3ZTE1Mjg4OTQ2ZWQ5MWNiNDE3ZDk5MDdkNGNkIiBzdHlsZT0id2lkdGg6IDEwMC4wJTsgaGVpZ2h0OiAxMDAuMCU7Ij5FYXN0ZXJuIC0gTWFoYWRldmFwdXJhPC9kaXY+YClbMF07CiAgICAgICAgICAgIHBvcHVwXzBiM2FjZmQ1M2UzYTRiNGViNWE0OGYwZGM3ZjI3ZDEzLnNldENvbnRlbnQoaHRtbF9jYWI5N2UxNTI4ODk0NmVkOTFjYjQxN2Q5OTA3ZDRjZCk7CiAgICAgICAgCgogICAgICAgIGNpcmNsZV9tYXJrZXJfMDAzZmEzMTFlY2U1NDNiNWE1OTcxN2Y5YTRlZjVkMTAuYmluZFBvcHVwKHBvcHVwXzBiM2FjZmQ1M2UzYTRiNGViNWE0OGYwZGM3ZjI3ZDEzKQogICAgICAgIDsKCiAgICAgICAgCiAgICAKICAgIAogICAgICAgICAgICBjaXJjbGVfbWFya2VyXzAwM2ZhMzExZWNlNTQzYjVhNTk3MTdmOWE0ZWY1ZDEwLmJpbmRUb29sdGlwKAogICAgICAgICAgICAgICAgYDxkaXY+CiAgICAgICAgICAgICAgICAgICAgIEVhc3Rlcm4gLSBNYWhhZGV2YXB1cmEKICAgICAgICAgICAgICAgICA8L2Rpdj5gLAogICAgICAgICAgICAgICAgeyJzdGlja3kiOiB0cnVlfQogICAgICAgICAgICApOwogICAgICAgIAogICAgCiAgICAgICAgICAgIHZhciBjaXJjbGVfbWFya2VyXzhjYzNmYzYzZDdmZjQwOTJiNDQzOWQ4MDk0OWExZmZiID0gTC5jaXJjbGVNYXJrZXIoCiAgICAgICAgICAgICAgICBbMTMuMDE0NiwgNzcuNTUxNF0sCiAgICAgICAgICAgICAgICB7ImJ1YmJsaW5nTW91c2VFdmVudHMiOiB0cnVlLCAiY29sb3IiOiAiIzJERUYwQSIsICJkYXNoQXJyYXkiOiBudWxsLCAiZGFzaE9mZnNldCI6IG51bGwsICJmaWxsIjogdHJ1ZSwgImZpbGxDb2xvciI6ICIjMkRFRjBBIiwgImZpbGxPcGFjaXR5IjogMC43LCAiZmlsbFJ1bGUiOiAiZXZlbm9kZCIsICJsaW5lQ2FwIjogInJvdW5kIiwgImxpbmVKb2luIjogInJvdW5kIiwgIm9wYWNpdHkiOiAxLjAsICJyYWRpdXMiOiA0LCAic3Ryb2tlIjogdHJ1ZSwgIndlaWdodCI6IDN9CiAgICAgICAgICAgICkuYWRkVG8obWFwXzhmMmE1MzhiZTQ4NjQ3MzhiMGY3YzAwZDQ1ODk2NDgxKTsKICAgICAgICAKICAgIAogICAgICAgIHZhciBwb3B1cF81ZDkyNmUyZDYwYTY0NjhmOWFlZjQzZDVjMzM2NzVjYyA9IEwucG9wdXAoeyJtYXhXaWR0aCI6ICIxMDAlIn0pOwoKICAgICAgICAKICAgICAgICAgICAgdmFyIGh0bWxfYWY4YjU5ZTQzN2U4NDVmNjkxOWU4NzIyYWY1YjdlYTggPSAkKGA8ZGl2IGlkPSJodG1sX2FmOGI1OWU0MzdlODQ1ZjY5MTllODcyMmFmNWI3ZWE4IiBzdHlsZT0id2lkdGg6IDEwMC4wJTsgaGVpZ2h0OiAxMDAuMCU7Ij5XZXN0ZXJuIC0gTWFoYWxha3NobWkgTGF5b3V0PC9kaXY+YClbMF07CiAgICAgICAgICAgIHBvcHVwXzVkOTI2ZTJkNjBhNjQ2OGY5YWVmNDNkNWMzMzY3NWNjLnNldENvbnRlbnQoaHRtbF9hZjhiNTllNDM3ZTg0NWY2OTE5ZTg3MjJhZjViN2VhOCk7CiAgICAgICAgCgogICAgICAgIGNpcmNsZV9tYXJrZXJfOGNjM2ZjNjNkN2ZmNDA5MmI0NDM5ZDgwOTQ5YTFmZmIuYmluZFBvcHVwKHBvcHVwXzVkOTI2ZTJkNjBhNjQ2OGY5YWVmNDNkNWMzMzY3NWNjKQogICAgICAgIDsKCiAgICAgICAgCiAgICAKICAgIAogICAgICAgICAgICBjaXJjbGVfbWFya2VyXzhjYzNmYzYzZDdmZjQwOTJiNDQzOWQ4MDk0OWExZmZiLmJpbmRUb29sdGlwKAogICAgICAgICAgICAgICAgYDxkaXY+CiAgICAgICAgICAgICAgICAgICAgIFdlc3Rlcm4gLSBNYWhhbGFrc2htaSBMYXlvdXQKICAgICAgICAgICAgICAgICA8L2Rpdj5gLAogICAgICAgICAgICAgICAgeyJzdGlja3kiOiB0cnVlfQogICAgICAgICAgICApOwogICAgICAgIAogICAgCiAgICAgICAgICAgIHZhciBjaXJjbGVfbWFya2VyX2U0NDNjNDliNTUxYjQyNDBhYjYyNzczZTM3ODBmM2RlID0gTC5jaXJjbGVNYXJrZXIoCiAgICAgICAgICAgICAgICBbMTMuMDAzMSwgNzcuNTY0M10sCiAgICAgICAgICAgICAgICB7ImJ1YmJsaW5nTW91c2VFdmVudHMiOiB0cnVlLCAiY29sb3IiOiAiI0QwOUU2MSIsICJkYXNoQXJyYXkiOiBudWxsLCAiZGFzaE9mZnNldCI6IG51bGwsICJmaWxsIjogdHJ1ZSwgImZpbGxDb2xvciI6ICIjRDA5RTYxIiwgImZpbGxPcGFjaXR5IjogMC43LCAiZmlsbFJ1bGUiOiAiZXZlbm9kZCIsICJsaW5lQ2FwIjogInJvdW5kIiwgImxpbmVKb2luIjogInJvdW5kIiwgIm9wYWNpdHkiOiAxLjAsICJyYWRpdXMiOiA0LCAic3Ryb2tlIjogdHJ1ZSwgIndlaWdodCI6IDN9CiAgICAgICAgICAgICkuYWRkVG8obWFwXzhmMmE1MzhiZTQ4NjQ3MzhiMGY3YzAwZDQ1ODk2NDgxKTsKICAgICAgICAKICAgIAogICAgICAgIHZhciBwb3B1cF8yZTAzZWY4NjRjZTE0NTk5YWMwYzlmYWNkNmM2MDFhYSA9IEwucG9wdXAoeyJtYXhXaWR0aCI6ICIxMDAlIn0pOwoKICAgICAgICAKICAgICAgICAgICAgdmFyIGh0bWxfZTBlMTA5OGMwOTZjNDY1M2EzOTFmNDkzNTQ3YTcyYmQgPSAkKGA8ZGl2IGlkPSJodG1sX2UwZTEwOThjMDk2YzQ2NTNhMzkxZjQ5MzU0N2E3MmJkIiBzdHlsZT0id2lkdGg6IDEwMC4wJTsgaGVpZ2h0OiAxMDAuMCU7Ij5DZW50cmFsIC0gTWFsbGVzd2FyYW08L2Rpdj5gKVswXTsKICAgICAgICAgICAgcG9wdXBfMmUwM2VmODY0Y2UxNDU5OWFjMGM5ZmFjZDZjNjAxYWEuc2V0Q29udGVudChodG1sX2UwZTEwOThjMDk2YzQ2NTNhMzkxZjQ5MzU0N2E3MmJkKTsKICAgICAgICAKCiAgICAgICAgY2lyY2xlX21hcmtlcl9lNDQzYzQ5YjU1MWI0MjQwYWI2Mjc3M2UzNzgwZjNkZS5iaW5kUG9wdXAocG9wdXBfMmUwM2VmODY0Y2UxNDU5OWFjMGM5ZmFjZDZjNjAxYWEpCiAgICAgICAgOwoKICAgICAgICAKICAgIAogICAgCiAgICAgICAgICAgIGNpcmNsZV9tYXJrZXJfZTQ0M2M0OWI1NTFiNDI0MGFiNjI3NzNlMzc4MGYzZGUuYmluZFRvb2x0aXAoCiAgICAgICAgICAgICAgICBgPGRpdj4KICAgICAgICAgICAgICAgICAgICAgQ2VudHJhbCAtIE1hbGxlc3dhcmFtCiAgICAgICAgICAgICAgICAgPC9kaXY+YCwKICAgICAgICAgICAgICAgIHsic3RpY2t5IjogdHJ1ZX0KICAgICAgICAgICAgKTsKICAgICAgICAKICAgIAogICAgICAgICAgICB2YXIgY2lyY2xlX21hcmtlcl9lM2M2MTczZDAyZTg0ODEyYmI0ZDJiNWRjMTRmNmRmZCA9IEwuY2lyY2xlTWFya2VyKAogICAgICAgICAgICAgICAgWzEyLjk1OTIsIDc3LjY5NzRdLAogICAgICAgICAgICAgICAgeyJidWJibGluZ01vdXNlRXZlbnRzIjogdHJ1ZSwgImNvbG9yIjogIiM3RkI4OTUiLCAiZGFzaEFycmF5IjogbnVsbCwgImRhc2hPZmZzZXQiOiBudWxsLCAiZmlsbCI6IHRydWUsICJmaWxsQ29sb3IiOiAiIzdGQjg5NSIsICJmaWxsT3BhY2l0eSI6IDAuNywgImZpbGxSdWxlIjogImV2ZW5vZGQiLCAibGluZUNhcCI6ICJyb3VuZCIsICJsaW5lSm9pbiI6ICJyb3VuZCIsICJvcGFjaXR5IjogMS4wLCAicmFkaXVzIjogNCwgInN0cm9rZSI6IHRydWUsICJ3ZWlnaHQiOiAzfQogICAgICAgICAgICApLmFkZFRvKG1hcF84ZjJhNTM4YmU0ODY0NzM4YjBmN2MwMGQ0NTg5NjQ4MSk7CiAgICAgICAgCiAgICAKICAgICAgICB2YXIgcG9wdXBfZjE0OTllY2FkOGM4NDM4ZDhlODNmNjY5ZWNhNzk3ODIgPSBMLnBvcHVwKHsibWF4V2lkdGgiOiAiMTAwJSJ9KTsKCiAgICAgICAgCiAgICAgICAgICAgIHZhciBodG1sX2VjYzYyNGM1YWI5ZjRkMjFiZWY0MmU4ZDkwYjE2M2ExID0gJChgPGRpdiBpZD0iaHRtbF9lY2M2MjRjNWFiOWY0ZDIxYmVmNDJlOGQ5MGIxNjNhMSIgc3R5bGU9IndpZHRoOiAxMDAuMCU7IGhlaWdodDogMTAwLjAlOyI+RWFzdGVybiAtIE1hcmF0aGFoYWxsaTwvZGl2PmApWzBdOwogICAgICAgICAgICBwb3B1cF9mMTQ5OWVjYWQ4Yzg0MzhkOGU4M2Y2NjllY2E3OTc4Mi5zZXRDb250ZW50KGh0bWxfZWNjNjI0YzVhYjlmNGQyMWJlZjQyZThkOTBiMTYzYTEpOwogICAgICAgIAoKICAgICAgICBjaXJjbGVfbWFya2VyX2UzYzYxNzNkMDJlODQ4MTJiYjRkMmI1ZGMxNGY2ZGZkLmJpbmRQb3B1cChwb3B1cF9mMTQ5OWVjYWQ4Yzg0MzhkOGU4M2Y2NjllY2E3OTc4MikKICAgICAgICA7CgogICAgICAgIAogICAgCiAgICAKICAgICAgICAgICAgY2lyY2xlX21hcmtlcl9lM2M2MTczZDAyZTg0ODEyYmI0ZDJiNWRjMTRmNmRmZC5iaW5kVG9vbHRpcCgKICAgICAgICAgICAgICAgIGA8ZGl2PgogICAgICAgICAgICAgICAgICAgICBFYXN0ZXJuIC0gTWFyYXRoYWhhbGxpCiAgICAgICAgICAgICAgICAgPC9kaXY+YCwKICAgICAgICAgICAgICAgIHsic3RpY2t5IjogdHJ1ZX0KICAgICAgICAgICAgKTsKICAgICAgICAKICAgIAogICAgICAgICAgICB2YXIgY2lyY2xlX21hcmtlcl81NWRiZmU0M2MwMzA0YTFmYTViM2Y1ZGU1OTA4ODBlYiA9IEwuY2lyY2xlTWFya2VyKAogICAgICAgICAgICAgICAgWzEzLjAzMzQsIDc3LjU2NF0sCiAgICAgICAgICAgICAgICB7ImJ1YmJsaW5nTW91c2VFdmVudHMiOiB0cnVlLCAiY29sb3IiOiAiIzEyNEMxQiIsICJkYXNoQXJyYXkiOiBudWxsLCAiZGFzaE9mZnNldCI6IG51bGwsICJmaWxsIjogdHJ1ZSwgImZpbGxDb2xvciI6ICIjMTI0QzFCIiwgImZpbGxPcGFjaXR5IjogMC43LCAiZmlsbFJ1bGUiOiAiZXZlbm9kZCIsICJsaW5lQ2FwIjogInJvdW5kIiwgImxpbmVKb2luIjogInJvdW5kIiwgIm9wYWNpdHkiOiAxLjAsICJyYWRpdXMiOiA0LCAic3Ryb2tlIjogdHJ1ZSwgIndlaWdodCI6IDN9CiAgICAgICAgICAgICkuYWRkVG8obWFwXzhmMmE1MzhiZTQ4NjQ3MzhiMGY3YzAwZDQ1ODk2NDgxKTsKICAgICAgICAKICAgIAogICAgICAgIHZhciBwb3B1cF81ZjFiMmRhYmU3NWE0ZTU1YWMyOTMwNGRkYzFkNjgxZCA9IEwucG9wdXAoeyJtYXhXaWR0aCI6ICIxMDAlIn0pOwoKICAgICAgICAKICAgICAgICAgICAgdmFyIGh0bWxfZWEwYTlkYzM0ZWZhNGVjYzg0N2ExOWYzMWRjY2NmMTEgPSAkKGA8ZGl2IGlkPSJodG1sX2VhMGE5ZGMzNGVmYTRlY2M4NDdhMTlmMzFkY2NjZjExIiBzdHlsZT0id2lkdGg6IDEwMC4wJTsgaGVpZ2h0OiAxMDAuMCU7Ij5Ob3J0aGVybiAtIE1hdGhpa2VyZTwvZGl2PmApWzBdOwogICAgICAgICAgICBwb3B1cF81ZjFiMmRhYmU3NWE0ZTU1YWMyOTMwNGRkYzFkNjgxZC5zZXRDb250ZW50KGh0bWxfZWEwYTlkYzM0ZWZhNGVjYzg0N2ExOWYzMWRjY2NmMTEpOwogICAgICAgIAoKICAgICAgICBjaXJjbGVfbWFya2VyXzU1ZGJmZTQzYzAzMDRhMWZhNWIzZjVkZTU5MDg4MGViLmJpbmRQb3B1cChwb3B1cF81ZjFiMmRhYmU3NWE0ZTU1YWMyOTMwNGRkYzFkNjgxZCkKICAgICAgICA7CgogICAgICAgIAogICAgCiAgICAKICAgICAgICAgICAgY2lyY2xlX21hcmtlcl81NWRiZmU0M2MwMzA0YTFmYTViM2Y1ZGU1OTA4ODBlYi5iaW5kVG9vbHRpcCgKICAgICAgICAgICAgICAgIGA8ZGl2PgogICAgICAgICAgICAgICAgICAgICBOb3J0aGVybiAtIE1hdGhpa2VyZQogICAgICAgICAgICAgICAgIDwvZGl2PmAsCiAgICAgICAgICAgICAgICB7InN0aWNreSI6IHRydWV9CiAgICAgICAgICAgICk7CiAgICAgICAgCiAgICAKICAgICAgICAgICAgdmFyIGNpcmNsZV9tYXJrZXJfMGRiYjgwYTJiZDNiNGNmOWEyZDkyMDJkZGZkMzM0Y2UgPSBMLmNpcmNsZU1hcmtlcigKICAgICAgICAgICAgICAgIFsxMi45NTk5LCA3Ny41MDgzXSwKICAgICAgICAgICAgICAgIHsiYnViYmxpbmdNb3VzZUV2ZW50cyI6IHRydWUsICJjb2xvciI6ICIjMkRFRjBBIiwgImRhc2hBcnJheSI6IG51bGwsICJkYXNoT2Zmc2V0IjogbnVsbCwgImZpbGwiOiB0cnVlLCAiZmlsbENvbG9yIjogIiMyREVGMEEiLCAiZmlsbE9wYWNpdHkiOiAwLjcsICJmaWxsUnVsZSI6ICJldmVub2RkIiwgImxpbmVDYXAiOiAicm91bmQiLCAibGluZUpvaW4iOiAicm91bmQiLCAib3BhY2l0eSI6IDEuMCwgInJhZGl1cyI6IDQsICJzdHJva2UiOiB0cnVlLCAid2VpZ2h0IjogM30KICAgICAgICAgICAgKS5hZGRUbyhtYXBfOGYyYTUzOGJlNDg2NDczOGIwZjdjMDBkNDU4OTY0ODEpOwogICAgICAgIAogICAgCiAgICAgICAgdmFyIHBvcHVwXzdjYmQ5OTVmYWZiNjRhODZiYmYwOThjMWE4ZDBkMWMyID0gTC5wb3B1cCh7Im1heFdpZHRoIjogIjEwMCUifSk7CgogICAgICAgIAogICAgICAgICAgICB2YXIgaHRtbF85YTY3YTEwN2QwY2I0NTM0OTEwMDY3ZWU0NWFmYjc5MCA9ICQoYDxkaXYgaWQ9Imh0bWxfOWE2N2ExMDdkMGNiNDUzNDkxMDA2N2VlNDVhZmI3OTAiIHN0eWxlPSJ3aWR0aDogMTAwLjAlOyBoZWlnaHQ6IDEwMC4wJTsiPldlc3Rlcm4gLSBOYWdhcmJoYXZpPC9kaXY+YClbMF07CiAgICAgICAgICAgIHBvcHVwXzdjYmQ5OTVmYWZiNjRhODZiYmYwOThjMWE4ZDBkMWMyLnNldENvbnRlbnQoaHRtbF85YTY3YTEwN2QwY2I0NTM0OTEwMDY3ZWU0NWFmYjc5MCk7CiAgICAgICAgCgogICAgICAgIGNpcmNsZV9tYXJrZXJfMGRiYjgwYTJiZDNiNGNmOWEyZDkyMDJkZGZkMzM0Y2UuYmluZFBvcHVwKHBvcHVwXzdjYmQ5OTVmYWZiNjRhODZiYmYwOThjMWE4ZDBkMWMyKQogICAgICAgIDsKCiAgICAgICAgCiAgICAKICAgIAogICAgICAgICAgICBjaXJjbGVfbWFya2VyXzBkYmI4MGEyYmQzYjRjZjlhMmQ5MjAyZGRmZDMzNGNlLmJpbmRUb29sdGlwKAogICAgICAgICAgICAgICAgYDxkaXY+CiAgICAgICAgICAgICAgICAgICAgIFdlc3Rlcm4gLSBOYWdhcmJoYXZpCiAgICAgICAgICAgICAgICAgPC9kaXY+YCwKICAgICAgICAgICAgICAgIHsic3RpY2t5IjogdHJ1ZX0KICAgICAgICAgICAgKTsKICAgICAgICAKICAgIAogICAgICAgICAgICB2YXIgY2lyY2xlX21hcmtlcl9jMjg4MWUwMThhMDM0NGRmODMwMzRlMWY1NmMwNDAyNCA9IEwuY2lyY2xlTWFya2VyKAogICAgICAgICAgICAgICAgWzEzLjAxNTk5OTk5OTk5OTk5OCwgNzcuNTMzOF0sCiAgICAgICAgICAgICAgICB7ImJ1YmJsaW5nTW91c2VFdmVudHMiOiB0cnVlLCAiY29sb3IiOiAiIzJERUYwQSIsICJkYXNoQXJyYXkiOiBudWxsLCAiZGFzaE9mZnNldCI6IG51bGwsICJmaWxsIjogdHJ1ZSwgImZpbGxDb2xvciI6ICIjMkRFRjBBIiwgImZpbGxPcGFjaXR5IjogMC43LCAiZmlsbFJ1bGUiOiAiZXZlbm9kZCIsICJsaW5lQ2FwIjogInJvdW5kIiwgImxpbmVKb2luIjogInJvdW5kIiwgIm9wYWNpdHkiOiAxLjAsICJyYWRpdXMiOiA0LCAic3Ryb2tlIjogdHJ1ZSwgIndlaWdodCI6IDN9CiAgICAgICAgICAgICkuYWRkVG8obWFwXzhmMmE1MzhiZTQ4NjQ3MzhiMGY3YzAwZDQ1ODk2NDgxKTsKICAgICAgICAKICAgIAogICAgICAgIHZhciBwb3B1cF8xZjY2OWQ1Y2FkMzA0ZDQyYmRhN2RiYmI0OTc0OWVmZSA9IEwucG9wdXAoeyJtYXhXaWR0aCI6ICIxMDAlIn0pOwoKICAgICAgICAKICAgICAgICAgICAgdmFyIGh0bWxfNWQyYzIyYzVlOWIyNDk4MmEzMzhhODg3OWZmM2ZkZmEgPSAkKGA8ZGl2IGlkPSJodG1sXzVkMmMyMmM1ZTliMjQ5ODJhMzM4YTg4NzlmZjNmZGZhIiBzdHlsZT0id2lkdGg6IDEwMC4wJTsgaGVpZ2h0OiAxMDAuMCU7Ij5XZXN0ZXJuIC0gTmFuZGluaSBMYXlvdXQ8L2Rpdj5gKVswXTsKICAgICAgICAgICAgcG9wdXBfMWY2NjlkNWNhZDMwNGQ0MmJkYTdkYmJiNDk3NDllZmUuc2V0Q29udGVudChodG1sXzVkMmMyMmM1ZTliMjQ5ODJhMzM4YTg4NzlmZjNmZGZhKTsKICAgICAgICAKCiAgICAgICAgY2lyY2xlX21hcmtlcl9jMjg4MWUwMThhMDM0NGRmODMwMzRlMWY1NmMwNDAyNC5iaW5kUG9wdXAocG9wdXBfMWY2NjlkNWNhZDMwNGQ0MmJkYTdkYmJiNDk3NDllZmUpCiAgICAgICAgOwoKICAgICAgICAKICAgIAogICAgCiAgICAgICAgICAgIGNpcmNsZV9tYXJrZXJfYzI4ODFlMDE4YTAzNDRkZjgzMDM0ZTFmNTZjMDQwMjQuYmluZFRvb2x0aXAoCiAgICAgICAgICAgICAgICBgPGRpdj4KICAgICAgICAgICAgICAgICAgICAgV2VzdGVybiAtIE5hbmRpbmkgTGF5b3V0CiAgICAgICAgICAgICAgICAgPC9kaXY+YCwKICAgICAgICAgICAgICAgIHsic3RpY2t5IjogdHJ1ZX0KICAgICAgICAgICAgKTsKICAgICAgICAKICAgIAogICAgICAgICAgICB2YXIgY2lyY2xlX21hcmtlcl9lMDU1OTcxYmJiYTU0Y2RiOWRmYTQ3ODJjMmU5ZTY4YiA9IEwuY2lyY2xlTWFya2VyKAogICAgICAgICAgICAgICAgWzEyLjk0MTEsIDc3LjUyNDhdLAogICAgICAgICAgICAgICAgeyJidWJibGluZ01vdXNlRXZlbnRzIjogdHJ1ZSwgImNvbG9yIjogIiMyREVGMEEiLCAiZGFzaEFycmF5IjogbnVsbCwgImRhc2hPZmZzZXQiOiBudWxsLCAiZmlsbCI6IHRydWUsICJmaWxsQ29sb3IiOiAiIzJERUYwQSIsICJmaWxsT3BhY2l0eSI6IDAuNywgImZpbGxSdWxlIjogImV2ZW5vZGQiLCAibGluZUNhcCI6ICJyb3VuZCIsICJsaW5lSm9pbiI6ICJyb3VuZCIsICJvcGFjaXR5IjogMS4wLCAicmFkaXVzIjogNCwgInN0cm9rZSI6IHRydWUsICJ3ZWlnaHQiOiAzfQogICAgICAgICAgICApLmFkZFRvKG1hcF84ZjJhNTM4YmU0ODY0NzM4YjBmN2MwMGQ0NTg5NjQ4MSk7CiAgICAgICAgCiAgICAKICAgICAgICB2YXIgcG9wdXBfYjdmMWViMWNiMGZmNDhlMGI3NmQxMWIzNmVjNzdhZGMgPSBMLnBvcHVwKHsibWF4V2lkdGgiOiAiMTAwJSJ9KTsKCiAgICAgICAgCiAgICAgICAgICAgIHZhciBodG1sXzFjNmViNDY0MmIzNDRhNDQ5Zjc4MDgzY2RkYWM2MWUyID0gJChgPGRpdiBpZD0iaHRtbF8xYzZlYjQ2NDJiMzQ0YTQ0OWY3ODA4M2NkZGFjNjFlMiIgc3R5bGU9IndpZHRoOiAxMDAuMCU7IGhlaWdodDogMTAwLjAlOyI+V2VzdGVybiAtIE5heWFuZGFoYWxsaTwvZGl2PmApWzBdOwogICAgICAgICAgICBwb3B1cF9iN2YxZWIxY2IwZmY0OGUwYjc2ZDExYjM2ZWM3N2FkYy5zZXRDb250ZW50KGh0bWxfMWM2ZWI0NjQyYjM0NGE0NDlmNzgwODNjZGRhYzYxZTIpOwogICAgICAgIAoKICAgICAgICBjaXJjbGVfbWFya2VyX2UwNTU5NzFiYmJhNTRjZGI5ZGZhNDc4MmMyZTllNjhiLmJpbmRQb3B1cChwb3B1cF9iN2YxZWIxY2IwZmY0OGUwYjc2ZDExYjM2ZWM3N2FkYykKICAgICAgICA7CgogICAgICAgIAogICAgCiAgICAKICAgICAgICAgICAgY2lyY2xlX21hcmtlcl9lMDU1OTcxYmJiYTU0Y2RiOWRmYTQ3ODJjMmU5ZTY4Yi5iaW5kVG9vbHRpcCgKICAgICAgICAgICAgICAgIGA8ZGl2PgogICAgICAgICAgICAgICAgICAgICBXZXN0ZXJuIC0gTmF5YW5kYWhhbGxpCiAgICAgICAgICAgICAgICAgPC9kaXY+YCwKICAgICAgICAgICAgICAgIHsic3RpY2t5IjogdHJ1ZX0KICAgICAgICAgICAgKTsKICAgICAgICAKICAgIAogICAgICAgICAgICB2YXIgY2lyY2xlX21hcmtlcl82MzlmNWQ2ZDVmY2E0N2VlYWQxMThlMzRlNDY0M2JiNCA9IEwuY2lyY2xlTWFya2VyKAogICAgICAgICAgICAgICAgWzEyLjkxNTYsIDc3LjU1NjhdLAogICAgICAgICAgICAgICAgeyJidWJibGluZ01vdXNlRXZlbnRzIjogdHJ1ZSwgImNvbG9yIjogIiMwMjU0ODAiLCAiZGFzaEFycmF5IjogbnVsbCwgImRhc2hPZmZzZXQiOiBudWxsLCAiZmlsbCI6IHRydWUsICJmaWxsQ29sb3IiOiAiIzAyNTQ4MCIsICJmaWxsT3BhY2l0eSI6IDAuNywgImZpbGxSdWxlIjogImV2ZW5vZGQiLCAibGluZUNhcCI6ICJyb3VuZCIsICJsaW5lSm9pbiI6ICJyb3VuZCIsICJvcGFjaXR5IjogMS4wLCAicmFkaXVzIjogNCwgInN0cm9rZSI6IHRydWUsICJ3ZWlnaHQiOiAzfQogICAgICAgICAgICApLmFkZFRvKG1hcF84ZjJhNTM4YmU0ODY0NzM4YjBmN2MwMGQ0NTg5NjQ4MSk7CiAgICAgICAgCiAgICAKICAgICAgICB2YXIgcG9wdXBfOWI3NDdhZTY3ODczNGNiYWFhN2I2Nzc4ZjRlNjQ2NDQgPSBMLnBvcHVwKHsibWF4V2lkdGgiOiAiMTAwJSJ9KTsKCiAgICAgICAgCiAgICAgICAgICAgIHZhciBodG1sXzhkMjkzMjU4MWNiMzQ1YTA4MWFlMTEzNmVjYmE1M2QxID0gJChgPGRpdiBpZD0iaHRtbF84ZDI5MzI1ODFjYjM0NWEwODFhZTExMzZlY2JhNTNkMSIgc3R5bGU9IndpZHRoOiAxMDAuMCU7IGhlaWdodDogMTAwLjAlOyI+U291dGhlcm4gLSBQYWRtYW5hYmhhbmFnYXI8L2Rpdj5gKVswXTsKICAgICAgICAgICAgcG9wdXBfOWI3NDdhZTY3ODczNGNiYWFhN2I2Nzc4ZjRlNjQ2NDQuc2V0Q29udGVudChodG1sXzhkMjkzMjU4MWNiMzQ1YTA4MWFlMTEzNmVjYmE1M2QxKTsKICAgICAgICAKCiAgICAgICAgY2lyY2xlX21hcmtlcl82MzlmNWQ2ZDVmY2E0N2VlYWQxMThlMzRlNDY0M2JiNC5iaW5kUG9wdXAocG9wdXBfOWI3NDdhZTY3ODczNGNiYWFhN2I2Nzc4ZjRlNjQ2NDQpCiAgICAgICAgOwoKICAgICAgICAKICAgIAogICAgCiAgICAgICAgICAgIGNpcmNsZV9tYXJrZXJfNjM5ZjVkNmQ1ZmNhNDdlZWFkMTE4ZTM0ZTQ2NDNiYjQuYmluZFRvb2x0aXAoCiAgICAgICAgICAgICAgICBgPGRpdj4KICAgICAgICAgICAgICAgICAgICAgU291dGhlcm4gLSBQYWRtYW5hYmhhbmFnYXIKICAgICAgICAgICAgICAgICA8L2Rpdj5gLAogICAgICAgICAgICAgICAgeyJzdGlja3kiOiB0cnVlfQogICAgICAgICAgICApOwogICAgICAgIAogICAgCiAgICAgICAgICAgIHZhciBjaXJjbGVfbWFya2VyX2RhZTMyNjc1YjM2MTQ3ZGFhODJjNWYxYTk2NWM3NTcwID0gTC5jaXJjbGVNYXJrZXIoCiAgICAgICAgICAgICAgICBbMTMuMDI4NSwgNzcuNTE5N10sCiAgICAgICAgICAgICAgICB7ImJ1YmJsaW5nTW91c2VFdmVudHMiOiB0cnVlLCAiY29sb3IiOiAiIzEyNEMxQiIsICJkYXNoQXJyYXkiOiBudWxsLCAiZGFzaE9mZnNldCI6IG51bGwsICJmaWxsIjogdHJ1ZSwgImZpbGxDb2xvciI6ICIjMTI0QzFCIiwgImZpbGxPcGFjaXR5IjogMC43LCAiZmlsbFJ1bGUiOiAiZXZlbm9kZCIsICJsaW5lQ2FwIjogInJvdW5kIiwgImxpbmVKb2luIjogInJvdW5kIiwgIm9wYWNpdHkiOiAxLjAsICJyYWRpdXMiOiA0LCAic3Ryb2tlIjogdHJ1ZSwgIndlaWdodCI6IDN9CiAgICAgICAgICAgICkuYWRkVG8obWFwXzhmMmE1MzhiZTQ4NjQ3MzhiMGY3YzAwZDQ1ODk2NDgxKTsKICAgICAgICAKICAgIAogICAgICAgIHZhciBwb3B1cF9kNmZkM2JlZjAwNDU0ZjNhYTc5NzNkMDNmOTU3OWRmOCA9IEwucG9wdXAoeyJtYXhXaWR0aCI6ICIxMDAlIn0pOwoKICAgICAgICAKICAgICAgICAgICAgdmFyIGh0bWxfODExODc0MjBhMDRhNDFjNmEzMjU5MDdmYmM3OGFhNzEgPSAkKGA8ZGl2IGlkPSJodG1sXzgxMTg3NDIwYTA0YTQxYzZhMzI1OTA3ZmJjNzhhYTcxIiBzdHlsZT0id2lkdGg6IDEwMC4wJTsgaGVpZ2h0OiAxMDAuMCU7Ij5Ob3J0aGVybiAtIFBlZW55YTwvZGl2PmApWzBdOwogICAgICAgICAgICBwb3B1cF9kNmZkM2JlZjAwNDU0ZjNhYTc5NzNkMDNmOTU3OWRmOC5zZXRDb250ZW50KGh0bWxfODExODc0MjBhMDRhNDFjNmEzMjU5MDdmYmM3OGFhNzEpOwogICAgICAgIAoKICAgICAgICBjaXJjbGVfbWFya2VyX2RhZTMyNjc1YjM2MTQ3ZGFhODJjNWYxYTk2NWM3NTcwLmJpbmRQb3B1cChwb3B1cF9kNmZkM2JlZjAwNDU0ZjNhYTc5NzNkMDNmOTU3OWRmOCkKICAgICAgICA7CgogICAgICAgIAogICAgCiAgICAKICAgICAgICAgICAgY2lyY2xlX21hcmtlcl9kYWUzMjY3NWIzNjE0N2RhYTgyYzVmMWE5NjVjNzU3MC5iaW5kVG9vbHRpcCgKICAgICAgICAgICAgICAgIGA8ZGl2PgogICAgICAgICAgICAgICAgICAgICBOb3J0aGVybiAtIFBlZW55YQogICAgICAgICAgICAgICAgIDwvZGl2PmAsCiAgICAgICAgICAgICAgICB7InN0aWNreSI6IHRydWV9CiAgICAgICAgICAgICk7CiAgICAgICAgCiAgICAKICAgICAgICAgICAgdmFyIGNpcmNsZV9tYXJrZXJfOWYyYjRhZDBmMzEyNDZjZmIwMjMxZGYxZmMxN2MxMTYgPSBMLmNpcmNsZU1hcmtlcigKICAgICAgICAgICAgICAgIFsxMi45NjI3LCA3Ny41NzU4XSwKICAgICAgICAgICAgICAgIHsiYnViYmxpbmdNb3VzZUV2ZW50cyI6IHRydWUsICJjb2xvciI6ICIjRDA5RTYxIiwgImRhc2hBcnJheSI6IG51bGwsICJkYXNoT2Zmc2V0IjogbnVsbCwgImZpbGwiOiB0cnVlLCAiZmlsbENvbG9yIjogIiNEMDlFNjEiLCAiZmlsbE9wYWNpdHkiOiAwLjcsICJmaWxsUnVsZSI6ICJldmVub2RkIiwgImxpbmVDYXAiOiAicm91bmQiLCAibGluZUpvaW4iOiAicm91bmQiLCAib3BhY2l0eSI6IDEuMCwgInJhZGl1cyI6IDQsICJzdHJva2UiOiB0cnVlLCAid2VpZ2h0IjogM30KICAgICAgICAgICAgKS5hZGRUbyhtYXBfOGYyYTUzOGJlNDg2NDczOGIwZjdjMDBkNDU4OTY0ODEpOwogICAgICAgIAogICAgCiAgICAgICAgdmFyIHBvcHVwX2Y3OWQyMDVlZjQwMzRlOWE4OWM0OWIzOGE1ZWJhZjlmID0gTC5wb3B1cCh7Im1heFdpZHRoIjogIjEwMCUifSk7CgogICAgICAgIAogICAgICAgICAgICB2YXIgaHRtbF81ZGNkZWMzODM4NWQ0ZTk5YTA2N2Y4YmJkZWEwY2ExZCA9ICQoYDxkaXYgaWQ9Imh0bWxfNWRjZGVjMzgzODVkNGU5OWEwNjdmOGJiZGVhMGNhMWQiIHN0eWxlPSJ3aWR0aDogMTAwLjAlOyBoZWlnaHQ6IDEwMC4wJTsiPkNlbnRyYWwgLSBQZXRlIGFyZWE8L2Rpdj5gKVswXTsKICAgICAgICAgICAgcG9wdXBfZjc5ZDIwNWVmNDAzNGU5YTg5YzQ5YjM4YTVlYmFmOWYuc2V0Q29udGVudChodG1sXzVkY2RlYzM4Mzg1ZDRlOTlhMDY3ZjhiYmRlYTBjYTFkKTsKICAgICAgICAKCiAgICAgICAgY2lyY2xlX21hcmtlcl85ZjJiNGFkMGYzMTI0NmNmYjAyMzFkZjFmYzE3YzExNi5iaW5kUG9wdXAocG9wdXBfZjc5ZDIwNWVmNDAzNGU5YTg5YzQ5YjM4YTVlYmFmOWYpCiAgICAgICAgOwoKICAgICAgICAKICAgIAogICAgCiAgICAgICAgICAgIGNpcmNsZV9tYXJrZXJfOWYyYjRhZDBmMzEyNDZjZmIwMjMxZGYxZmMxN2MxMTYuYmluZFRvb2x0aXAoCiAgICAgICAgICAgICAgICBgPGRpdj4KICAgICAgICAgICAgICAgICAgICAgQ2VudHJhbCAtIFBldGUgYXJlYQogICAgICAgICAgICAgICAgIDwvZGl2PmAsCiAgICAgICAgICAgICAgICB7InN0aWNreSI6IHRydWV9CiAgICAgICAgICAgICk7CiAgICAgICAgCiAgICAKICAgICAgICAgICAgdmFyIGNpcmNsZV9tYXJrZXJfOGM1ODUyNGVmMmQwNDUwMGJhYzg0ZjQzYTZiODVlODggPSBMLmNpcmNsZU1hcmtlcigKICAgICAgICAgICAgICAgIFsxMy4wMTk2LCA3Ny41OTY4XSwKICAgICAgICAgICAgICAgIHsiYnViYmxpbmdNb3VzZUV2ZW50cyI6IHRydWUsICJjb2xvciI6ICIjMTI0QzFCIiwgImRhc2hBcnJheSI6IG51bGwsICJkYXNoT2Zmc2V0IjogbnVsbCwgImZpbGwiOiB0cnVlLCAiZmlsbENvbG9yIjogIiMxMjRDMUIiLCAiZmlsbE9wYWNpdHkiOiAwLjcsICJmaWxsUnVsZSI6ICJldmVub2RkIiwgImxpbmVDYXAiOiAicm91bmQiLCAibGluZUpvaW4iOiAicm91bmQiLCAib3BhY2l0eSI6IDEuMCwgInJhZGl1cyI6IDQsICJzdHJva2UiOiB0cnVlLCAid2VpZ2h0IjogM30KICAgICAgICAgICAgKS5hZGRUbyhtYXBfOGYyYTUzOGJlNDg2NDczOGIwZjdjMDBkNDU4OTY0ODEpOwogICAgICAgIAogICAgCiAgICAgICAgdmFyIHBvcHVwX2M1ZjVhZmY2OTBlNDQ0NDNhNGRiNWJmNDgzOWVlMzJhID0gTC5wb3B1cCh7Im1heFdpZHRoIjogIjEwMCUifSk7CgogICAgICAgIAogICAgICAgICAgICB2YXIgaHRtbF80ZGFjNGZiNDk2NWM0YWNlYmFlZDA1YzE0NGZhNzc4MiA9ICQoYDxkaXYgaWQ9Imh0bWxfNGRhYzRmYjQ5NjVjNGFjZWJhZWQwNWMxNDRmYTc3ODIiIHN0eWxlPSJ3aWR0aDogMTAwLjAlOyBoZWlnaHQ6IDEwMC4wJTsiPk5vcnRoZXJuIC0gUi4gVC4gTmFnYXI8L2Rpdj5gKVswXTsKICAgICAgICAgICAgcG9wdXBfYzVmNWFmZjY5MGU0NDQ0M2E0ZGI1YmY0ODM5ZWUzMmEuc2V0Q29udGVudChodG1sXzRkYWM0ZmI0OTY1YzRhY2ViYWVkMDVjMTQ0ZmE3NzgyKTsKICAgICAgICAKCiAgICAgICAgY2lyY2xlX21hcmtlcl84YzU4NTI0ZWYyZDA0NTAwYmFjODRmNDNhNmI4NWU4OC5iaW5kUG9wdXAocG9wdXBfYzVmNWFmZjY5MGU0NDQ0M2E0ZGI1YmY0ODM5ZWUzMmEpCiAgICAgICAgOwoKICAgICAgICAKICAgIAogICAgCiAgICAgICAgICAgIGNpcmNsZV9tYXJrZXJfOGM1ODUyNGVmMmQwNDUwMGJhYzg0ZjQzYTZiODVlODguYmluZFRvb2x0aXAoCiAgICAgICAgICAgICAgICBgPGRpdj4KICAgICAgICAgICAgICAgICAgICAgTm9ydGhlcm4gLSBSLiBULiBOYWdhcgogICAgICAgICAgICAgICAgIDwvZGl2PmAsCiAgICAgICAgICAgICAgICB7InN0aWNreSI6IHRydWV9CiAgICAgICAgICAgICk7CiAgICAgICAgCiAgICAKICAgICAgICAgICAgdmFyIGNpcmNsZV9tYXJrZXJfNmIwZTE4ZjZhMjJkNDcyNjkyZDlmY2M2ZDdjZmFiNTEgPSBMLmNpcmNsZU1hcmtlcigKICAgICAgICAgICAgICAgIFsxMi45OTAxLCA3Ny41NTI1XSwKICAgICAgICAgICAgICAgIHsiYnViYmxpbmdNb3VzZUV2ZW50cyI6IHRydWUsICJjb2xvciI6ICIjRDA5RTYxIiwgImRhc2hBcnJheSI6IG51bGwsICJkYXNoT2Zmc2V0IjogbnVsbCwgImZpbGwiOiB0cnVlLCAiZmlsbENvbG9yIjogIiNEMDlFNjEiLCAiZmlsbE9wYWNpdHkiOiAwLjcsICJmaWxsUnVsZSI6ICJldmVub2RkIiwgImxpbmVDYXAiOiAicm91bmQiLCAibGluZUpvaW4iOiAicm91bmQiLCAib3BhY2l0eSI6IDEuMCwgInJhZGl1cyI6IDQsICJzdHJva2UiOiB0cnVlLCAid2VpZ2h0IjogM30KICAgICAgICAgICAgKS5hZGRUbyhtYXBfOGYyYTUzOGJlNDg2NDczOGIwZjdjMDBkNDU4OTY0ODEpOwogICAgICAgIAogICAgCiAgICAgICAgdmFyIHBvcHVwXzFlY2U1ZDc2NDUxYjQ4ZjA4Njc4NDFkOWY3NmUzYmYyID0gTC5wb3B1cCh7Im1heFdpZHRoIjogIjEwMCUifSk7CgogICAgICAgIAogICAgICAgICAgICB2YXIgaHRtbF9mMWZjODA1MTE2YWU0Y2IzYmIwZmExY2JiZTE1Yjc3YiA9ICQoYDxkaXYgaWQ9Imh0bWxfZjFmYzgwNTExNmFlNGNiM2JiMGZhMWNiYmUxNWI3N2IiIHN0eWxlPSJ3aWR0aDogMTAwLjAlOyBoZWlnaHQ6IDEwMC4wJTsiPkNlbnRyYWwgLSBSYWphamluYWdhcjwvZGl2PmApWzBdOwogICAgICAgICAgICBwb3B1cF8xZWNlNWQ3NjQ1MWI0OGYwODY3ODQxZDlmNzZlM2JmMi5zZXRDb250ZW50KGh0bWxfZjFmYzgwNTExNmFlNGNiM2JiMGZhMWNiYmUxNWI3N2IpOwogICAgICAgIAoKICAgICAgICBjaXJjbGVfbWFya2VyXzZiMGUxOGY2YTIyZDQ3MjY5MmQ5ZmNjNmQ3Y2ZhYjUxLmJpbmRQb3B1cChwb3B1cF8xZWNlNWQ3NjQ1MWI0OGYwODY3ODQxZDlmNzZlM2JmMikKICAgICAgICA7CgogICAgICAgIAogICAgCiAgICAKICAgICAgICAgICAgY2lyY2xlX21hcmtlcl82YjBlMThmNmEyMmQ0NzI2OTJkOWZjYzZkN2NmYWI1MS5iaW5kVG9vbHRpcCgKICAgICAgICAgICAgICAgIGA8ZGl2PgogICAgICAgICAgICAgICAgICAgICBDZW50cmFsIC0gUmFqYWppbmFnYXIKICAgICAgICAgICAgICAgICA8L2Rpdj5gLAogICAgICAgICAgICAgICAgeyJzdGlja3kiOiB0cnVlfQogICAgICAgICAgICApOwogICAgICAgIAogICAgCiAgICAgICAgICAgIHZhciBjaXJjbGVfbWFya2VyX2MyZDkyYjViZmY5NjQ1NTZhZGY1ZDBiYjk3MjU1MmY0ID0gTC5jaXJjbGVNYXJrZXIoCiAgICAgICAgICAgICAgICBbMTIuOTI0MiwgNzcuNTE5MV0sCiAgICAgICAgICAgICAgICB7ImJ1YmJsaW5nTW91c2VFdmVudHMiOiB0cnVlLCAiY29sb3IiOiAiIzJERUYwQSIsICJkYXNoQXJyYXkiOiBudWxsLCAiZGFzaE9mZnNldCI6IG51bGwsICJmaWxsIjogdHJ1ZSwgImZpbGxDb2xvciI6ICIjMkRFRjBBIiwgImZpbGxPcGFjaXR5IjogMC43LCAiZmlsbFJ1bGUiOiAiZXZlbm9kZCIsICJsaW5lQ2FwIjogInJvdW5kIiwgImxpbmVKb2luIjogInJvdW5kIiwgIm9wYWNpdHkiOiAxLjAsICJyYWRpdXMiOiA0LCAic3Ryb2tlIjogdHJ1ZSwgIndlaWdodCI6IDN9CiAgICAgICAgICAgICkuYWRkVG8obWFwXzhmMmE1MzhiZTQ4NjQ3MzhiMGY3YzAwZDQ1ODk2NDgxKTsKICAgICAgICAKICAgIAogICAgICAgIHZhciBwb3B1cF85MTVlMjIzMGNhNDg0OGY3OGY4M2I3MjIyOWNlY2QwNSA9IEwucG9wdXAoeyJtYXhXaWR0aCI6ICIxMDAlIn0pOwoKICAgICAgICAKICAgICAgICAgICAgdmFyIGh0bWxfMmViYWFhNzI4NjkxNDUwNzk5OTZhMjFlYWExNjgwNDQgPSAkKGA8ZGl2IGlkPSJodG1sXzJlYmFhYTcyODY5MTQ1MDc5OTk2YTIxZWFhMTY4MDQ0IiBzdHlsZT0id2lkdGg6IDEwMC4wJTsgaGVpZ2h0OiAxMDAuMCU7Ij5XZXN0ZXJuIC0gUmFqYXJhamVzaHdhcmkgTmFnYXI8L2Rpdj5gKVswXTsKICAgICAgICAgICAgcG9wdXBfOTE1ZTIyMzBjYTQ4NDhmNzhmODNiNzIyMjljZWNkMDUuc2V0Q29udGVudChodG1sXzJlYmFhYTcyODY5MTQ1MDc5OTk2YTIxZWFhMTY4MDQ0KTsKICAgICAgICAKCiAgICAgICAgY2lyY2xlX21hcmtlcl9jMmQ5MmI1YmZmOTY0NTU2YWRmNWQwYmI5NzI1NTJmNC5iaW5kUG9wdXAocG9wdXBfOTE1ZTIyMzBjYTQ4NDhmNzhmODNiNzIyMjljZWNkMDUpCiAgICAgICAgOwoKICAgICAgICAKICAgIAogICAgCiAgICAgICAgICAgIGNpcmNsZV9tYXJrZXJfYzJkOTJiNWJmZjk2NDU1NmFkZjVkMGJiOTcyNTUyZjQuYmluZFRvb2x0aXAoCiAgICAgICAgICAgICAgICBgPGRpdj4KICAgICAgICAgICAgICAgICAgICAgV2VzdGVybiAtIFJhamFyYWplc2h3YXJpIE5hZ2FyCiAgICAgICAgICAgICAgICAgPC9kaXY+YCwKICAgICAgICAgICAgICAgIHsic3RpY2t5IjogdHJ1ZX0KICAgICAgICAgICAgKTsKICAgICAgICAKICAgIAogICAgICAgICAgICB2YXIgY2lyY2xlX21hcmtlcl84YWU3ODAwYjRhYzU0ZmY3YThkYWZhNDY1NjRmOTAyYyA9IEwuY2lyY2xlTWFya2VyKAogICAgICAgICAgICAgICAgWzEzLjAxODQsIDc3LjY3ODFdLAogICAgICAgICAgICAgICAgeyJidWJibGluZ01vdXNlRXZlbnRzIjogdHJ1ZSwgImNvbG9yIjogIiMxQTRGRDQiLCAiZGFzaEFycmF5IjogbnVsbCwgImRhc2hPZmZzZXQiOiBudWxsLCAiZmlsbCI6IHRydWUsICJmaWxsQ29sb3IiOiAiIzFBNEZENCIsICJmaWxsT3BhY2l0eSI6IDAuNywgImZpbGxSdWxlIjogImV2ZW5vZGQiLCAibGluZUNhcCI6ICJyb3VuZCIsICJsaW5lSm9pbiI6ICJyb3VuZCIsICJvcGFjaXR5IjogMS4wLCAicmFkaXVzIjogNCwgInN0cm9rZSI6IHRydWUsICJ3ZWlnaHQiOiAzfQogICAgICAgICAgICApLmFkZFRvKG1hcF84ZjJhNTM4YmU0ODY0NzM4YjBmN2MwMGQ0NTg5NjQ4MSk7CiAgICAgICAgCiAgICAKICAgICAgICB2YXIgcG9wdXBfMmU1NGY2OGVmOTcyNGJmN2IyZWJiODIwMjA1ZDRmOTAgPSBMLnBvcHVwKHsibWF4V2lkdGgiOiAiMTAwJSJ9KTsKCiAgICAgICAgCiAgICAgICAgICAgIHZhciBodG1sX2YxOGQ0MWUxYzNhZjRjY2FhNjBiN2VmZGQyNzRiODRhID0gJChgPGRpdiBpZD0iaHRtbF9mMThkNDFlMWMzYWY0Y2NhYTYwYjdlZmRkMjc0Yjg0YSIgc3R5bGU9IndpZHRoOiAxMDAuMCU7IGhlaWdodDogMTAwLjAlOyI+Tm9ydGhFYXN0ZXJuIC0gUmFtYW11cnRoeSBOYWdhcjwvZGl2PmApWzBdOwogICAgICAgICAgICBwb3B1cF8yZTU0ZjY4ZWY5NzI0YmY3YjJlYmI4MjAyMDVkNGY5MC5zZXRDb250ZW50KGh0bWxfZjE4ZDQxZTFjM2FmNGNjYWE2MGI3ZWZkZDI3NGI4NGEpOwogICAgICAgIAoKICAgICAgICBjaXJjbGVfbWFya2VyXzhhZTc4MDBiNGFjNTRmZjdhOGRhZmE0NjU2NGY5MDJjLmJpbmRQb3B1cChwb3B1cF8yZTU0ZjY4ZWY5NzI0YmY3YjJlYmI4MjAyMDVkNGY5MCkKICAgICAgICA7CgogICAgICAgIAogICAgCiAgICAKICAgICAgICAgICAgY2lyY2xlX21hcmtlcl84YWU3ODAwYjRhYzU0ZmY3YThkYWZhNDY1NjRmOTAyYy5iaW5kVG9vbHRpcCgKICAgICAgICAgICAgICAgIGA8ZGl2PgogICAgICAgICAgICAgICAgICAgICBOb3J0aEVhc3Rlcm4gLSBSYW1hbXVydGh5IE5hZ2FyCiAgICAgICAgICAgICAgICAgPC9kaXY+YCwKICAgICAgICAgICAgICAgIHsic3RpY2t5IjogdHJ1ZX0KICAgICAgICAgICAgKTsKICAgICAgICAKICAgIAogICAgICAgICAgICB2YXIgY2lyY2xlX21hcmtlcl9jYzc5NmJmYmU4YjE0ZjUyYjBiZTFkZTljNjhmNTA4OSA9IEwuY2lyY2xlTWFya2VyKAogICAgICAgICAgICAgICAgWzEzLjAwNjgsIDc3LjU4MTNdLAogICAgICAgICAgICAgICAgeyJidWJibGluZ01vdXNlRXZlbnRzIjogdHJ1ZSwgImNvbG9yIjogIiNEMDlFNjEiLCAiZGFzaEFycmF5IjogbnVsbCwgImRhc2hPZmZzZXQiOiBudWxsLCAiZmlsbCI6IHRydWUsICJmaWxsQ29sb3IiOiAiI0QwOUU2MSIsICJmaWxsT3BhY2l0eSI6IDAuNywgImZpbGxSdWxlIjogImV2ZW5vZGQiLCAibGluZUNhcCI6ICJyb3VuZCIsICJsaW5lSm9pbiI6ICJyb3VuZCIsICJvcGFjaXR5IjogMS4wLCAicmFkaXVzIjogNCwgInN0cm9rZSI6IHRydWUsICJ3ZWlnaHQiOiAzfQogICAgICAgICAgICApLmFkZFRvKG1hcF84ZjJhNTM4YmU0ODY0NzM4YjBmN2MwMGQ0NTg5NjQ4MSk7CiAgICAgICAgCiAgICAKICAgICAgICB2YXIgcG9wdXBfODlhNDc0NDE0NThhNDk3YTliNmI4YTU2NmVlMzA0MTkgPSBMLnBvcHVwKHsibWF4V2lkdGgiOiAiMTAwJSJ9KTsKCiAgICAgICAgCiAgICAgICAgICAgIHZhciBodG1sXzE0ZDMwMWZkMmU0ZDQwNjZiY2M0ZmY4NjFkZTAyMmJmID0gJChgPGRpdiBpZD0iaHRtbF8xNGQzMDFmZDJlNGQ0MDY2YmNjNGZmODYxZGUwMjJiZiIgc3R5bGU9IndpZHRoOiAxMDAuMCU7IGhlaWdodDogMTAwLjAlOyI+Q2VudHJhbCAtIFNhZGFzaGl2YW5hZ2FyPC9kaXY+YClbMF07CiAgICAgICAgICAgIHBvcHVwXzg5YTQ3NDQxNDU4YTQ5N2E5YjZiOGE1NjZlZTMwNDE5LnNldENvbnRlbnQoaHRtbF8xNGQzMDFmZDJlNGQ0MDY2YmNjNGZmODYxZGUwMjJiZik7CiAgICAgICAgCgogICAgICAgIGNpcmNsZV9tYXJrZXJfY2M3OTZiZmJlOGIxNGY1MmIwYmUxZGU5YzY4ZjUwODkuYmluZFBvcHVwKHBvcHVwXzg5YTQ3NDQxNDU4YTQ5N2E5YjZiOGE1NjZlZTMwNDE5KQogICAgICAgIDsKCiAgICAgICAgCiAgICAKICAgIAogICAgICAgICAgICBjaXJjbGVfbWFya2VyX2NjNzk2YmZiZThiMTRmNTJiMGJlMWRlOWM2OGY1MDg5LmJpbmRUb29sdGlwKAogICAgICAgICAgICAgICAgYDxkaXY+CiAgICAgICAgICAgICAgICAgICAgIENlbnRyYWwgLSBTYWRhc2hpdmFuYWdhcgogICAgICAgICAgICAgICAgIDwvZGl2PmAsCiAgICAgICAgICAgICAgICB7InN0aWNreSI6IHRydWV9CiAgICAgICAgICAgICk7CiAgICAgICAgCiAgICAKICAgICAgICAgICAgdmFyIGNpcmNsZV9tYXJrZXJfOGM1OTdjYTk1ZGY2NDkyMDhlZDE2NDViZTc0MGZhOWEgPSBMLmNpcmNsZU1hcmtlcigKICAgICAgICAgICAgICAgIFsxMi45OTM1LCA3Ny41Nzg3XSwKICAgICAgICAgICAgICAgIHsiYnViYmxpbmdNb3VzZUV2ZW50cyI6IHRydWUsICJjb2xvciI6ICIjRDA5RTYxIiwgImRhc2hBcnJheSI6IG51bGwsICJkYXNoT2Zmc2V0IjogbnVsbCwgImZpbGwiOiB0cnVlLCAiZmlsbENvbG9yIjogIiNEMDlFNjEiLCAiZmlsbE9wYWNpdHkiOiAwLjcsICJmaWxsUnVsZSI6ICJldmVub2RkIiwgImxpbmVDYXAiOiAicm91bmQiLCAibGluZUpvaW4iOiAicm91bmQiLCAib3BhY2l0eSI6IDEuMCwgInJhZGl1cyI6IDQsICJzdHJva2UiOiB0cnVlLCAid2VpZ2h0IjogM30KICAgICAgICAgICAgKS5hZGRUbyhtYXBfOGYyYTUzOGJlNDg2NDczOGIwZjdjMDBkNDU4OTY0ODEpOwogICAgICAgIAogICAgCiAgICAgICAgdmFyIHBvcHVwXzY4NDJiM2FmZTllOTQxYmRhYjkyNTRlZTRiYWQ3YTFjID0gTC5wb3B1cCh7Im1heFdpZHRoIjogIjEwMCUifSk7CgogICAgICAgIAogICAgICAgICAgICB2YXIgaHRtbF8zMGU3MDJjOGYxZDg0YTRkOWViMGIyMDU1ZDMyNGFjOSA9ICQoYDxkaXYgaWQ9Imh0bWxfMzBlNzAyYzhmMWQ4NGE0ZDllYjBiMjA1NWQzMjRhYzkiIHN0eWxlPSJ3aWR0aDogMTAwLjAlOyBoZWlnaHQ6IDEwMC4wJTsiPkNlbnRyYWwgLSBTZXNoYWRyaXB1cmFtPC9kaXY+YClbMF07CiAgICAgICAgICAgIHBvcHVwXzY4NDJiM2FmZTllOTQxYmRhYjkyNTRlZTRiYWQ3YTFjLnNldENvbnRlbnQoaHRtbF8zMGU3MDJjOGYxZDg0YTRkOWViMGIyMDU1ZDMyNGFjOSk7CiAgICAgICAgCgogICAgICAgIGNpcmNsZV9tYXJrZXJfOGM1OTdjYTk1ZGY2NDkyMDhlZDE2NDViZTc0MGZhOWEuYmluZFBvcHVwKHBvcHVwXzY4NDJiM2FmZTllOTQxYmRhYjkyNTRlZTRiYWQ3YTFjKQogICAgICAgIDsKCiAgICAgICAgCiAgICAKICAgIAogICAgICAgICAgICBjaXJjbGVfbWFya2VyXzhjNTk3Y2E5NWRmNjQ5MjA4ZWQxNjQ1YmU3NDBmYTlhLmJpbmRUb29sdGlwKAogICAgICAgICAgICAgICAgYDxkaXY+CiAgICAgICAgICAgICAgICAgICAgIENlbnRyYWwgLSBTZXNoYWRyaXB1cmFtCiAgICAgICAgICAgICAgICAgPC9kaXY+YCwKICAgICAgICAgICAgICAgIHsic3RpY2t5IjogdHJ1ZX0KICAgICAgICAgICAgKTsKICAgICAgICAKICAgIAogICAgICAgICAgICB2YXIgY2lyY2xlX21hcmtlcl85ZDgxYjIzMDRmODQ0ZDg2OGFjNDE5MzM4YjM0NzBiYiA9IEwuY2lyY2xlTWFya2VyKAogICAgICAgICAgICAgICAgWzEyLjk4NTcsIDc3LjYwNTddLAogICAgICAgICAgICAgICAgeyJidWJibGluZ01vdXNlRXZlbnRzIjogdHJ1ZSwgImNvbG9yIjogIiNEMDlFNjEiLCAiZGFzaEFycmF5IjogbnVsbCwgImRhc2hPZmZzZXQiOiBudWxsLCAiZmlsbCI6IHRydWUsICJmaWxsQ29sb3IiOiAiI0QwOUU2MSIsICJmaWxsT3BhY2l0eSI6IDAuNywgImZpbGxSdWxlIjogImV2ZW5vZGQiLCAibGluZUNhcCI6ICJyb3VuZCIsICJsaW5lSm9pbiI6ICJyb3VuZCIsICJvcGFjaXR5IjogMS4wLCAicmFkaXVzIjogNCwgInN0cm9rZSI6IHRydWUsICJ3ZWlnaHQiOiAzfQogICAgICAgICAgICApLmFkZFRvKG1hcF84ZjJhNTM4YmU0ODY0NzM4YjBmN2MwMGQ0NTg5NjQ4MSk7CiAgICAgICAgCiAgICAKICAgICAgICB2YXIgcG9wdXBfNjI0MDlmM2FjOTcwNDg5OWEzYjRjZTg0M2JjNDhkYjMgPSBMLnBvcHVwKHsibWF4V2lkdGgiOiAiMTAwJSJ9KTsKCiAgICAgICAgCiAgICAgICAgICAgIHZhciBodG1sXzFlNTFlMjRjNjI3MDRlZDZhYTM2MjE2NGRjMTgyMTZhID0gJChgPGRpdiBpZD0iaHRtbF8xZTUxZTI0YzYyNzA0ZWQ2YWEzNjIxNjRkYzE4MjE2YSIgc3R5bGU9IndpZHRoOiAxMDAuMCU7IGhlaWdodDogMTAwLjAlOyI+Q2VudHJhbCAtIFNoaXZhamluYWdhcjwvZGl2PmApWzBdOwogICAgICAgICAgICBwb3B1cF82MjQwOWYzYWM5NzA0ODk5YTNiNGNlODQzYmM0OGRiMy5zZXRDb250ZW50KGh0bWxfMWU1MWUyNGM2MjcwNGVkNmFhMzYyMTY0ZGMxODIxNmEpOwogICAgICAgIAoKICAgICAgICBjaXJjbGVfbWFya2VyXzlkODFiMjMwNGY4NDRkODY4YWM0MTkzMzhiMzQ3MGJiLmJpbmRQb3B1cChwb3B1cF82MjQwOWYzYWM5NzA0ODk5YTNiNGNlODQzYmM0OGRiMykKICAgICAgICA7CgogICAgICAgIAogICAgCiAgICAKICAgICAgICAgICAgY2lyY2xlX21hcmtlcl85ZDgxYjIzMDRmODQ0ZDg2OGFjNDE5MzM4YjM0NzBiYi5iaW5kVG9vbHRpcCgKICAgICAgICAgICAgICAgIGA8ZGl2PgogICAgICAgICAgICAgICAgICAgICBDZW50cmFsIC0gU2hpdmFqaW5hZ2FyCiAgICAgICAgICAgICAgICAgPC9kaXY+YCwKICAgICAgICAgICAgICAgIHsic3RpY2t5IjogdHJ1ZX0KICAgICAgICAgICAgKTsKICAgICAgICAKICAgIAogICAgICAgICAgICB2YXIgY2lyY2xlX21hcmtlcl9jNTA3N2Y0NWJkNjM0YWU3Yjk0NDQ4MWJmZWE5NDJhYSA9IEwuY2lyY2xlTWFya2VyKAogICAgICAgICAgICAgICAgWzEyLjk4MTcsIDc3LjYyODZdLAogICAgICAgICAgICAgICAgeyJidWJibGluZ01vdXNlRXZlbnRzIjogdHJ1ZSwgImNvbG9yIjogIiNEMDlFNjEiLCAiZGFzaEFycmF5IjogbnVsbCwgImRhc2hPZmZzZXQiOiBudWxsLCAiZmlsbCI6IHRydWUsICJmaWxsQ29sb3IiOiAiI0QwOUU2MSIsICJmaWxsT3BhY2l0eSI6IDAuNywgImZpbGxSdWxlIjogImV2ZW5vZGQiLCAibGluZUNhcCI6ICJyb3VuZCIsICJsaW5lSm9pbiI6ICJyb3VuZCIsICJvcGFjaXR5IjogMS4wLCAicmFkaXVzIjogNCwgInN0cm9rZSI6IHRydWUsICJ3ZWlnaHQiOiAzfQogICAgICAgICAgICApLmFkZFRvKG1hcF84ZjJhNTM4YmU0ODY0NzM4YjBmN2MwMGQ0NTg5NjQ4MSk7CiAgICAgICAgCiAgICAKICAgICAgICB2YXIgcG9wdXBfMGZlNmUyNGI0YmE5NDJjZGI5YWIwZjUwODExOTg0NjggPSBMLnBvcHVwKHsibWF4V2lkdGgiOiAiMTAwJSJ9KTsKCiAgICAgICAgCiAgICAgICAgICAgIHZhciBodG1sXzQyNzQ0ZThiMWFjOTQxYzliNjQ3Y2FhNDNlYzhmYjYyID0gJChgPGRpdiBpZD0iaHRtbF80Mjc0NGU4YjFhYzk0MWM5YjY0N2NhYTQzZWM4ZmI2MiIgc3R5bGU9IndpZHRoOiAxMDAuMCU7IGhlaWdodDogMTAwLjAlOyI+Q2VudHJhbCAtIFVsc29vcjwvZGl2PmApWzBdOwogICAgICAgICAgICBwb3B1cF8wZmU2ZTI0YjRiYTk0MmNkYjlhYjBmNTA4MTE5ODQ2OC5zZXRDb250ZW50KGh0bWxfNDI3NDRlOGIxYWM5NDFjOWI2NDdjYWE0M2VjOGZiNjIpOwogICAgICAgIAoKICAgICAgICBjaXJjbGVfbWFya2VyX2M1MDc3ZjQ1YmQ2MzRhZTdiOTQ0NDgxYmZlYTk0MmFhLmJpbmRQb3B1cChwb3B1cF8wZmU2ZTI0YjRiYTk0MmNkYjlhYjBmNTA4MTE5ODQ2OCkKICAgICAgICA7CgogICAgICAgIAogICAgCiAgICAKICAgICAgICAgICAgY2lyY2xlX21hcmtlcl9jNTA3N2Y0NWJkNjM0YWU3Yjk0NDQ4MWJmZWE5NDJhYS5iaW5kVG9vbHRpcCgKICAgICAgICAgICAgICAgIGA8ZGl2PgogICAgICAgICAgICAgICAgICAgICBDZW50cmFsIC0gVWxzb29yCiAgICAgICAgICAgICAgICAgPC9kaXY+YCwKICAgICAgICAgICAgICAgIHsic3RpY2t5IjogdHJ1ZX0KICAgICAgICAgICAgKTsKICAgICAgICAKICAgIAogICAgICAgICAgICB2YXIgY2lyY2xlX21hcmtlcl8xNjBkNDc3MmU3YmI0YTJlODkyOTFkMGNiMGYwYmRlNCA9IEwuY2lyY2xlTWFya2VyKAogICAgICAgICAgICAgICAgWzEyLjkwNywgNzcuNTUyMV0sCiAgICAgICAgICAgICAgICB7ImJ1YmJsaW5nTW91c2VFdmVudHMiOiB0cnVlLCAiY29sb3IiOiAiIzAyNTQ4MCIsICJkYXNoQXJyYXkiOiBudWxsLCAiZGFzaE9mZnNldCI6IG51bGwsICJmaWxsIjogdHJ1ZSwgImZpbGxDb2xvciI6ICIjMDI1NDgwIiwgImZpbGxPcGFjaXR5IjogMC43LCAiZmlsbFJ1bGUiOiAiZXZlbm9kZCIsICJsaW5lQ2FwIjogInJvdW5kIiwgImxpbmVKb2luIjogInJvdW5kIiwgIm9wYWNpdHkiOiAxLjAsICJyYWRpdXMiOiA0LCAic3Ryb2tlIjogdHJ1ZSwgIndlaWdodCI6IDN9CiAgICAgICAgICAgICkuYWRkVG8obWFwXzhmMmE1MzhiZTQ4NjQ3MzhiMGY3YzAwZDQ1ODk2NDgxKTsKICAgICAgICAKICAgIAogICAgICAgIHZhciBwb3B1cF8zYTkyMzY2MGQ0M2E0YTFmOWQ4YjZkOTI3OTM2ZDhkYSA9IEwucG9wdXAoeyJtYXhXaWR0aCI6ICIxMDAlIn0pOwoKICAgICAgICAKICAgICAgICAgICAgdmFyIGh0bWxfMzViYjdmMWQ5NTVkNDUxNjkzMDVlMTdlNjkxOGNlOTcgPSAkKGA8ZGl2IGlkPSJodG1sXzM1YmI3ZjFkOTU1ZDQ1MTY5MzA1ZTE3ZTY5MThjZTk3IiBzdHlsZT0id2lkdGg6IDEwMC4wJTsgaGVpZ2h0OiAxMDAuMCU7Ij5Tb3V0aGVybiAtIFV0dGFyYWhhbGxpPC9kaXY+YClbMF07CiAgICAgICAgICAgIHBvcHVwXzNhOTIzNjYwZDQzYTRhMWY5ZDhiNmQ5Mjc5MzZkOGRhLnNldENvbnRlbnQoaHRtbF8zNWJiN2YxZDk1NWQ0NTE2OTMwNWUxN2U2OTE4Y2U5Nyk7CiAgICAgICAgCgogICAgICAgIGNpcmNsZV9tYXJrZXJfMTYwZDQ3NzJlN2JiNGEyZTg5MjkxZDBjYjBmMGJkZTQuYmluZFBvcHVwKHBvcHVwXzNhOTIzNjYwZDQzYTRhMWY5ZDhiNmQ5Mjc5MzZkOGRhKQogICAgICAgIDsKCiAgICAgICAgCiAgICAKICAgIAogICAgICAgICAgICBjaXJjbGVfbWFya2VyXzE2MGQ0NzcyZTdiYjRhMmU4OTI5MWQwY2IwZjBiZGU0LmJpbmRUb29sdGlwKAogICAgICAgICAgICAgICAgYDxkaXY+CiAgICAgICAgICAgICAgICAgICAgIFNvdXRoZXJuIC0gVXR0YXJhaGFsbGkKICAgICAgICAgICAgICAgICA8L2Rpdj5gLAogICAgICAgICAgICAgICAgeyJzdGlja3kiOiB0cnVlfQogICAgICAgICAgICApOwogICAgICAgIAogICAgCiAgICAgICAgICAgIHZhciBjaXJjbGVfbWFya2VyXzk2ZGVmYTIxYjU3ODQ3ZmJiNDEwNTk0OTk1ZjQwMmM4ID0gTC5jaXJjbGVNYXJrZXIoCiAgICAgICAgICAgICAgICBbMTIuOTM4OSwgNzcuNzQxMl0sCiAgICAgICAgICAgICAgICB7ImJ1YmJsaW5nTW91c2VFdmVudHMiOiB0cnVlLCAiY29sb3IiOiAiIzdGQjg5NSIsICJkYXNoQXJyYXkiOiBudWxsLCAiZGFzaE9mZnNldCI6IG51bGwsICJmaWxsIjogdHJ1ZSwgImZpbGxDb2xvciI6ICIjN0ZCODk1IiwgImZpbGxPcGFjaXR5IjogMC43LCAiZmlsbFJ1bGUiOiAiZXZlbm9kZCIsICJsaW5lQ2FwIjogInJvdW5kIiwgImxpbmVKb2luIjogInJvdW5kIiwgIm9wYWNpdHkiOiAxLjAsICJyYWRpdXMiOiA0LCAic3Ryb2tlIjogdHJ1ZSwgIndlaWdodCI6IDN9CiAgICAgICAgICAgICkuYWRkVG8obWFwXzhmMmE1MzhiZTQ4NjQ3MzhiMGY3YzAwZDQ1ODk2NDgxKTsKICAgICAgICAKICAgIAogICAgICAgIHZhciBwb3B1cF9jZDA4ZTFhZmViYjk0MTc2YWJiY2EyZGZjMDY2NzA4OCA9IEwucG9wdXAoeyJtYXhXaWR0aCI6ICIxMDAlIn0pOwoKICAgICAgICAKICAgICAgICAgICAgdmFyIGh0bWxfZGNkZGFiN2JlZGU4NDY0MjgzMjcwY2ViYmFjYTcwNTUgPSAkKGA8ZGl2IGlkPSJodG1sX2RjZGRhYjdiZWRlODQ2NDI4MzI3MGNlYmJhY2E3MDU1IiBzdHlsZT0id2lkdGg6IDEwMC4wJTsgaGVpZ2h0OiAxMDAuMCU7Ij5FYXN0ZXJuIC0gVmFydGh1cjwvZGl2PmApWzBdOwogICAgICAgICAgICBwb3B1cF9jZDA4ZTFhZmViYjk0MTc2YWJiY2EyZGZjMDY2NzA4OC5zZXRDb250ZW50KGh0bWxfZGNkZGFiN2JlZGU4NDY0MjgzMjcwY2ViYmFjYTcwNTUpOwogICAgICAgIAoKICAgICAgICBjaXJjbGVfbWFya2VyXzk2ZGVmYTIxYjU3ODQ3ZmJiNDEwNTk0OTk1ZjQwMmM4LmJpbmRQb3B1cChwb3B1cF9jZDA4ZTFhZmViYjk0MTc2YWJiY2EyZGZjMDY2NzA4OCkKICAgICAgICA7CgogICAgICAgIAogICAgCiAgICAKICAgICAgICAgICAgY2lyY2xlX21hcmtlcl85NmRlZmEyMWI1Nzg0N2ZiYjQxMDU5NDk5NWY0MDJjOC5iaW5kVG9vbHRpcCgKICAgICAgICAgICAgICAgIGA8ZGl2PgogICAgICAgICAgICAgICAgICAgICBFYXN0ZXJuIC0gVmFydGh1cgogICAgICAgICAgICAgICAgIDwvZGl2PmAsCiAgICAgICAgICAgICAgICB7InN0aWNreSI6IHRydWV9CiAgICAgICAgICAgICk7CiAgICAgICAgCiAgICAKICAgICAgICAgICAgdmFyIGNpcmNsZV9tYXJrZXJfYjVhMjc4Mzk3MDRlNGRiZGJlNjUyMWMwYTEzZWJjNmUgPSBMLmNpcmNsZU1hcmtlcigKICAgICAgICAgICAgICAgIFsxMi45OTExLCA3Ny41OTJdLAogICAgICAgICAgICAgICAgeyJidWJibGluZ01vdXNlRXZlbnRzIjogdHJ1ZSwgImNvbG9yIjogIiNEMDlFNjEiLCAiZGFzaEFycmF5IjogbnVsbCwgImRhc2hPZmZzZXQiOiBudWxsLCAiZmlsbCI6IHRydWUsICJmaWxsQ29sb3IiOiAiI0QwOUU2MSIsICJmaWxsT3BhY2l0eSI6IDAuNywgImZpbGxSdWxlIjogImV2ZW5vZGQiLCAibGluZUNhcCI6ICJyb3VuZCIsICJsaW5lSm9pbiI6ICJyb3VuZCIsICJvcGFjaXR5IjogMS4wLCAicmFkaXVzIjogNCwgInN0cm9rZSI6IHRydWUsICJ3ZWlnaHQiOiAzfQogICAgICAgICAgICApLmFkZFRvKG1hcF84ZjJhNTM4YmU0ODY0NzM4YjBmN2MwMGQ0NTg5NjQ4MSk7CiAgICAgICAgCiAgICAKICAgICAgICB2YXIgcG9wdXBfMWU4YTQwM2VkNjg3NDUyMWE4YTA4ZDk0YmUxZjQyMzIgPSBMLnBvcHVwKHsibWF4V2lkdGgiOiAiMTAwJSJ9KTsKCiAgICAgICAgCiAgICAgICAgICAgIHZhciBodG1sXzliMmMwNTgyOTllYzQ0NjlhMTlhNjg3YThhYWQ3YjRhID0gJChgPGRpdiBpZD0iaHRtbF85YjJjMDU4Mjk5ZWM0NDY5YTE5YTY4N2E4YWFkN2I0YSIgc3R5bGU9IndpZHRoOiAxMDAuMCU7IGhlaWdodDogMTAwLjAlOyI+Q2VudHJhbCAtIFZhc2FudGggTmFnYXI8L2Rpdj5gKVswXTsKICAgICAgICAgICAgcG9wdXBfMWU4YTQwM2VkNjg3NDUyMWE4YTA4ZDk0YmUxZjQyMzIuc2V0Q29udGVudChodG1sXzliMmMwNTgyOTllYzQ0NjlhMTlhNjg3YThhYWQ3YjRhKTsKICAgICAgICAKCiAgICAgICAgY2lyY2xlX21hcmtlcl9iNWEyNzgzOTcwNGU0ZGJkYmU2NTIxYzBhMTNlYmM2ZS5iaW5kUG9wdXAocG9wdXBfMWU4YTQwM2VkNjg3NDUyMWE4YTA4ZDk0YmUxZjQyMzIpCiAgICAgICAgOwoKICAgICAgICAKICAgIAogICAgCiAgICAgICAgICAgIGNpcmNsZV9tYXJrZXJfYjVhMjc4Mzk3MDRlNGRiZGJlNjUyMWMwYTEzZWJjNmUuYmluZFRvb2x0aXAoCiAgICAgICAgICAgICAgICBgPGRpdj4KICAgICAgICAgICAgICAgICAgICAgQ2VudHJhbCAtIFZhc2FudGggTmFnYXIKICAgICAgICAgICAgICAgICA8L2Rpdj5gLAogICAgICAgICAgICAgICAgeyJzdGlja3kiOiB0cnVlfQogICAgICAgICAgICApOwogICAgICAgIAogICAgCiAgICAgICAgICAgIHZhciBjaXJjbGVfbWFya2VyXzIyNDgyOGJmY2QyNzQ5ZGZiY2FiNmI4ZjdkZTVkNjhmID0gTC5jaXJjbGVNYXJrZXIoCiAgICAgICAgICAgICAgICBbMTMuMDg1OCwgNzcuNTU2MV0sCiAgICAgICAgICAgICAgICB7ImJ1YmJsaW5nTW91c2VFdmVudHMiOiB0cnVlLCAiY29sb3IiOiAiIzEyNEMxQiIsICJkYXNoQXJyYXkiOiBudWxsLCAiZGFzaE9mZnNldCI6IG51bGwsICJmaWxsIjogdHJ1ZSwgImZpbGxDb2xvciI6ICIjMTI0QzFCIiwgImZpbGxPcGFjaXR5IjogMC43LCAiZmlsbFJ1bGUiOiAiZXZlbm9kZCIsICJsaW5lQ2FwIjogInJvdW5kIiwgImxpbmVKb2luIjogInJvdW5kIiwgIm9wYWNpdHkiOiAxLjAsICJyYWRpdXMiOiA0LCAic3Ryb2tlIjogdHJ1ZSwgIndlaWdodCI6IDN9CiAgICAgICAgICAgICkuYWRkVG8obWFwXzhmMmE1MzhiZTQ4NjQ3MzhiMGY3YzAwZDQ1ODk2NDgxKTsKICAgICAgICAKICAgIAogICAgICAgIHZhciBwb3B1cF8xOTRiZGQ0MGVjZjY0NjBlYTMxM2EzZDIyYzI2YzBiNCA9IEwucG9wdXAoeyJtYXhXaWR0aCI6ICIxMDAlIn0pOwoKICAgICAgICAKICAgICAgICAgICAgdmFyIGh0bWxfOGJmMjgyNTU4ZTczNDNiZTliOGRjOWY1YTE2ZmYwMmMgPSAkKGA8ZGl2IGlkPSJodG1sXzhiZjI4MjU1OGU3MzQzYmU5YjhkYzlmNWExNmZmMDJjIiBzdHlsZT0id2lkdGg6IDEwMC4wJTsgaGVpZ2h0OiAxMDAuMCU7Ij5Ob3J0aGVybiAtIFZpZHlhcmFueWFwdXJhPC9kaXY+YClbMF07CiAgICAgICAgICAgIHBvcHVwXzE5NGJkZDQwZWNmNjQ2MGVhMzEzYTNkMjJjMjZjMGI0LnNldENvbnRlbnQoaHRtbF84YmYyODI1NThlNzM0M2JlOWI4ZGM5ZjVhMTZmZjAyYyk7CiAgICAgICAgCgogICAgICAgIGNpcmNsZV9tYXJrZXJfMjI0ODI4YmZjZDI3NDlkZmJjYWI2YjhmN2RlNWQ2OGYuYmluZFBvcHVwKHBvcHVwXzE5NGJkZDQwZWNmNjQ2MGVhMzEzYTNkMjJjMjZjMGI0KQogICAgICAgIDsKCiAgICAgICAgCiAgICAKICAgIAogICAgICAgICAgICBjaXJjbGVfbWFya2VyXzIyNDgyOGJmY2QyNzQ5ZGZiY2FiNmI4ZjdkZTVkNjhmLmJpbmRUb29sdGlwKAogICAgICAgICAgICAgICAgYDxkaXY+CiAgICAgICAgICAgICAgICAgICAgIE5vcnRoZXJuIC0gVmlkeWFyYW55YXB1cmEKICAgICAgICAgICAgICAgICA8L2Rpdj5gLAogICAgICAgICAgICAgICAgeyJzdGlja3kiOiB0cnVlfQogICAgICAgICAgICApOwogICAgICAgIAogICAgCiAgICAgICAgICAgIHZhciBjaXJjbGVfbWFya2VyXzAyOGM2NDE5NDBjOTRjYzg5OTE3MDdjMjNiMGM2ODRhID0gTC5jaXJjbGVNYXJrZXIoCiAgICAgICAgICAgICAgICBbMTIuOTcxOSwgNzcuNTI5OV0sCiAgICAgICAgICAgICAgICB7ImJ1YmJsaW5nTW91c2VFdmVudHMiOiB0cnVlLCAiY29sb3IiOiAiIzJERUYwQSIsICJkYXNoQXJyYXkiOiBudWxsLCAiZGFzaE9mZnNldCI6IG51bGwsICJmaWxsIjogdHJ1ZSwgImZpbGxDb2xvciI6ICIjMkRFRjBBIiwgImZpbGxPcGFjaXR5IjogMC43LCAiZmlsbFJ1bGUiOiAiZXZlbm9kZCIsICJsaW5lQ2FwIjogInJvdW5kIiwgImxpbmVKb2luIjogInJvdW5kIiwgIm9wYWNpdHkiOiAxLjAsICJyYWRpdXMiOiA0LCAic3Ryb2tlIjogdHJ1ZSwgIndlaWdodCI6IDN9CiAgICAgICAgICAgICkuYWRkVG8obWFwXzhmMmE1MzhiZTQ4NjQ3MzhiMGY3YzAwZDQ1ODk2NDgxKTsKICAgICAgICAKICAgIAogICAgICAgIHZhciBwb3B1cF80ZDAyYzQzYTdiMDY0ZTkyYjRiNTVhMjAyZTRhZGQ2NiA9IEwucG9wdXAoeyJtYXhXaWR0aCI6ICIxMDAlIn0pOwoKICAgICAgICAKICAgICAgICAgICAgdmFyIGh0bWxfN2ZmNjA1NDVlMTZhNDJlOGIyNDJiNTgyZDg2Y2YzMmIgPSAkKGA8ZGl2IGlkPSJodG1sXzdmZjYwNTQ1ZTE2YTQyZThiMjQyYjU4MmQ4NmNmMzJiIiBzdHlsZT0id2lkdGg6IDEwMC4wJTsgaGVpZ2h0OiAxMDAuMCU7Ij5XZXN0ZXJuIC0gVmlqYXlhbmFnYXI8L2Rpdj5gKVswXTsKICAgICAgICAgICAgcG9wdXBfNGQwMmM0M2E3YjA2NGU5MmI0YjU1YTIwMmU0YWRkNjYuc2V0Q29udGVudChodG1sXzdmZjYwNTQ1ZTE2YTQyZThiMjQyYjU4MmQ4NmNmMzJiKTsKICAgICAgICAKCiAgICAgICAgY2lyY2xlX21hcmtlcl8wMjhjNjQxOTQwYzk0Y2M4OTkxNzA3YzIzYjBjNjg0YS5iaW5kUG9wdXAocG9wdXBfNGQwMmM0M2E3YjA2NGU5MmI0YjU1YTIwMmU0YWRkNjYpCiAgICAgICAgOwoKICAgICAgICAKICAgIAogICAgCiAgICAgICAgICAgIGNpcmNsZV9tYXJrZXJfMDI4YzY0MTk0MGM5NGNjODk5MTcwN2MyM2IwYzY4NGEuYmluZFRvb2x0aXAoCiAgICAgICAgICAgICAgICBgPGRpdj4KICAgICAgICAgICAgICAgICAgICAgV2VzdGVybiAtIFZpamF5YW5hZ2FyCiAgICAgICAgICAgICAgICAgPC9kaXY+YCwKICAgICAgICAgICAgICAgIHsic3RpY2t5IjogdHJ1ZX0KICAgICAgICAgICAgKTsKICAgICAgICAKICAgIAogICAgICAgICAgICB2YXIgY2lyY2xlX21hcmtlcl83Y2U3MDQwOWViN2Q0MjBhOWY1NzFiZWU4NGMxZDlkNCA9IEwuY2lyY2xlTWFya2VyKAogICAgICAgICAgICAgICAgWzEyLjk2OTgsIDc3Ljc0OTldLAogICAgICAgICAgICAgICAgeyJidWJibGluZ01vdXNlRXZlbnRzIjogdHJ1ZSwgImNvbG9yIjogIiM3RkI4OTUiLCAiZGFzaEFycmF5IjogbnVsbCwgImRhc2hPZmZzZXQiOiBudWxsLCAiZmlsbCI6IHRydWUsICJmaWxsQ29sb3IiOiAiIzdGQjg5NSIsICJmaWxsT3BhY2l0eSI6IDAuNywgImZpbGxSdWxlIjogImV2ZW5vZGQiLCAibGluZUNhcCI6ICJyb3VuZCIsICJsaW5lSm9pbiI6ICJyb3VuZCIsICJvcGFjaXR5IjogMS4wLCAicmFkaXVzIjogNCwgInN0cm9rZSI6IHRydWUsICJ3ZWlnaHQiOiAzfQogICAgICAgICAgICApLmFkZFRvKG1hcF84ZjJhNTM4YmU0ODY0NzM4YjBmN2MwMGQ0NTg5NjQ4MSk7CiAgICAgICAgCiAgICAKICAgICAgICB2YXIgcG9wdXBfZTM5ZmFhNmNhZTE1NGQwOGIwNmYyYzhjNTU5ZTZiYzUgPSBMLnBvcHVwKHsibWF4V2lkdGgiOiAiMTAwJSJ9KTsKCiAgICAgICAgCiAgICAgICAgICAgIHZhciBodG1sXzkxMTk3MTFmNjNmYTQ4YzM5ODBhYTEzMzVlMWIzYjhmID0gJChgPGRpdiBpZD0iaHRtbF85MTE5NzExZjYzZmE0OGMzOTgwYWExMzM1ZTFiM2I4ZiIgc3R5bGU9IndpZHRoOiAxMDAuMCU7IGhlaWdodDogMTAwLjAlOyI+RWFzdGVybiAtIFdoaXRlZmllbGQ8L2Rpdj5gKVswXTsKICAgICAgICAgICAgcG9wdXBfZTM5ZmFhNmNhZTE1NGQwOGIwNmYyYzhjNTU5ZTZiYzUuc2V0Q29udGVudChodG1sXzkxMTk3MTFmNjNmYTQ4YzM5ODBhYTEzMzVlMWIzYjhmKTsKICAgICAgICAKCiAgICAgICAgY2lyY2xlX21hcmtlcl83Y2U3MDQwOWViN2Q0MjBhOWY1NzFiZWU4NGMxZDlkNC5iaW5kUG9wdXAocG9wdXBfZTM5ZmFhNmNhZTE1NGQwOGIwNmYyYzhjNTU5ZTZiYzUpCiAgICAgICAgOwoKICAgICAgICAKICAgIAogICAgCiAgICAgICAgICAgIGNpcmNsZV9tYXJrZXJfN2NlNzA0MDllYjdkNDIwYTlmNTcxYmVlODRjMWQ5ZDQuYmluZFRvb2x0aXAoCiAgICAgICAgICAgICAgICBgPGRpdj4KICAgICAgICAgICAgICAgICAgICAgRWFzdGVybiAtIFdoaXRlZmllbGQKICAgICAgICAgICAgICAgICA8L2Rpdj5gLAogICAgICAgICAgICAgICAgeyJzdGlja3kiOiB0cnVlfQogICAgICAgICAgICApOwogICAgICAgIAogICAgCiAgICAgICAgICAgIHZhciBjaXJjbGVfbWFya2VyX2FhNjQzMDk3MTcyMzQyMTk5NGUwZGRkYjU1Y2NjYmRlID0gTC5jaXJjbGVNYXJrZXIoCiAgICAgICAgICAgICAgICBbMTMuMTAwNSwgNzcuNTk0XSwKICAgICAgICAgICAgICAgIHsiYnViYmxpbmdNb3VzZUV2ZW50cyI6IHRydWUsICJjb2xvciI6ICIjMTI0QzFCIiwgImRhc2hBcnJheSI6IG51bGwsICJkYXNoT2Zmc2V0IjogbnVsbCwgImZpbGwiOiB0cnVlLCAiZmlsbENvbG9yIjogIiMxMjRDMUIiLCAiZmlsbE9wYWNpdHkiOiAwLjcsICJmaWxsUnVsZSI6ICJldmVub2RkIiwgImxpbmVDYXAiOiAicm91bmQiLCAibGluZUpvaW4iOiAicm91bmQiLCAib3BhY2l0eSI6IDEuMCwgInJhZGl1cyI6IDQsICJzdHJva2UiOiB0cnVlLCAid2VpZ2h0IjogM30KICAgICAgICAgICAgKS5hZGRUbyhtYXBfOGYyYTUzOGJlNDg2NDczOGIwZjdjMDBkNDU4OTY0ODEpOwogICAgICAgIAogICAgCiAgICAgICAgdmFyIHBvcHVwXzJjMWJkNzg3N2Y4MTRhNzQ4M2Q1YWExOTllMmJkMjEwID0gTC5wb3B1cCh7Im1heFdpZHRoIjogIjEwMCUifSk7CgogICAgICAgIAogICAgICAgICAgICB2YXIgaHRtbF8zYTkzYzA4YWJjMGQ0ZWVlYWRhODFkM2Y0NWJkNjNmNiA9ICQoYDxkaXYgaWQ9Imh0bWxfM2E5M2MwOGFiYzBkNGVlZWFkYTgxZDNmNDViZDYzZjYiIHN0eWxlPSJ3aWR0aDogMTAwLjAlOyBoZWlnaHQ6IDEwMC4wJTsiPk5vcnRoZXJuIC0gWWVsYWhhbmthPC9kaXY+YClbMF07CiAgICAgICAgICAgIHBvcHVwXzJjMWJkNzg3N2Y4MTRhNzQ4M2Q1YWExOTllMmJkMjEwLnNldENvbnRlbnQoaHRtbF8zYTkzYzA4YWJjMGQ0ZWVlYWRhODFkM2Y0NWJkNjNmNik7CiAgICAgICAgCgogICAgICAgIGNpcmNsZV9tYXJrZXJfYWE2NDMwOTcxNzIzNDIxOTk0ZTBkZGRiNTVjY2NiZGUuYmluZFBvcHVwKHBvcHVwXzJjMWJkNzg3N2Y4MTRhNzQ4M2Q1YWExOTllMmJkMjEwKQogICAgICAgIDsKCiAgICAgICAgCiAgICAKICAgIAogICAgICAgICAgICBjaXJjbGVfbWFya2VyX2FhNjQzMDk3MTcyMzQyMTk5NGUwZGRkYjU1Y2NjYmRlLmJpbmRUb29sdGlwKAogICAgICAgICAgICAgICAgYDxkaXY+CiAgICAgICAgICAgICAgICAgICAgIE5vcnRoZXJuIC0gWWVsYWhhbmthCiAgICAgICAgICAgICAgICAgPC9kaXY+YCwKICAgICAgICAgICAgICAgIHsic3RpY2t5IjogdHJ1ZX0KICAgICAgICAgICAgKTsKICAgICAgICAKICAgIAogICAgICAgICAgICB2YXIgY2lyY2xlX21hcmtlcl8xYjAzNTgyNDZmOTY0OTcxODllOGEwYmNiZmRlZmI5ZCA9IEwuY2lyY2xlTWFya2VyKAogICAgICAgICAgICAgICAgWzEzLjAyNzk5OTk5OTk5OTk5OSwgNzcuNTQwOV0sCiAgICAgICAgICAgICAgICB7ImJ1YmJsaW5nTW91c2VFdmVudHMiOiB0cnVlLCAiY29sb3IiOiAiIzEyNEMxQiIsICJkYXNoQXJyYXkiOiBudWxsLCAiZGFzaE9mZnNldCI6IG51bGwsICJmaWxsIjogdHJ1ZSwgImZpbGxDb2xvciI6ICIjMTI0QzFCIiwgImZpbGxPcGFjaXR5IjogMC43LCAiZmlsbFJ1bGUiOiAiZXZlbm9kZCIsICJsaW5lQ2FwIjogInJvdW5kIiwgImxpbmVKb2luIjogInJvdW5kIiwgIm9wYWNpdHkiOiAxLjAsICJyYWRpdXMiOiA0LCAic3Ryb2tlIjogdHJ1ZSwgIndlaWdodCI6IDN9CiAgICAgICAgICAgICkuYWRkVG8obWFwXzhmMmE1MzhiZTQ4NjQ3MzhiMGY3YzAwZDQ1ODk2NDgxKTsKICAgICAgICAKICAgIAogICAgICAgIHZhciBwb3B1cF9iY2RjYjc1ZDdhZDc0YzkzOTMzZTU5OTc5NGNiNTliMyA9IEwucG9wdXAoeyJtYXhXaWR0aCI6ICIxMDAlIn0pOwoKICAgICAgICAKICAgICAgICAgICAgdmFyIGh0bWxfMWI3YTQ0MzZhYjYyNDg4OWI3MzcwNzQ0ZDk4ZjE2MDkgPSAkKGA8ZGl2IGlkPSJodG1sXzFiN2E0NDM2YWI2MjQ4ODliNzM3MDc0NGQ5OGYxNjA5IiBzdHlsZT0id2lkdGg6IDEwMC4wJTsgaGVpZ2h0OiAxMDAuMCU7Ij5Ob3J0aGVybiAtIFllc2h3YW50aHB1cjwvZGl2PmApWzBdOwogICAgICAgICAgICBwb3B1cF9iY2RjYjc1ZDdhZDc0YzkzOTMzZTU5OTc5NGNiNTliMy5zZXRDb250ZW50KGh0bWxfMWI3YTQ0MzZhYjYyNDg4OWI3MzcwNzQ0ZDk4ZjE2MDkpOwogICAgICAgIAoKICAgICAgICBjaXJjbGVfbWFya2VyXzFiMDM1ODI0NmY5NjQ5NzE4OWU4YTBiY2JmZGVmYjlkLmJpbmRQb3B1cChwb3B1cF9iY2RjYjc1ZDdhZDc0YzkzOTMzZTU5OTc5NGNiNTliMykKICAgICAgICA7CgogICAgICAgIAogICAgCiAgICAKICAgICAgICAgICAgY2lyY2xlX21hcmtlcl8xYjAzNTgyNDZmOTY0OTcxODllOGEwYmNiZmRlZmI5ZC5iaW5kVG9vbHRpcCgKICAgICAgICAgICAgICAgIGA8ZGl2PgogICAgICAgICAgICAgICAgICAgICBOb3J0aGVybiAtIFllc2h3YW50aHB1cgogICAgICAgICAgICAgICAgIDwvZGl2PmAsCiAgICAgICAgICAgICAgICB7InN0aWNreSI6IHRydWV9CiAgICAgICAgICAgICk7CiAgICAgICAgCjwvc2NyaXB0Pg== onload=\"this.contentDocument.open();this.contentDocument.write(atob(this.getAttribute('data-html')));this.contentDocument.close();\" allowfullscreen webkitallowfullscreen mozallowfullscreen></iframe></div></div>"
      ],
      "text/plain": [
       "<folium.folium.Map at 0x14e862cfc50>"
      ]
     },
     "execution_count": 10,
     "metadata": {},
     "output_type": "execute_result"
    }
   ],
   "source": [
    "bangalore_map"
   ]
  },
  {
   "cell_type": "markdown",
   "metadata": {},
   "source": [
    "> **Generating \"Normalised\" Population and Average Income as both are very important features and scaled differently.**"
   ]
  },
  {
   "cell_type": "code",
   "execution_count": 13,
   "metadata": {},
   "outputs": [],
   "source": [
    "scaler = MinMaxScaler(feature_range=(0, 1))\n",
    "df['Normalized_Population'] = pd.DataFrame(scaler.fit_transform(df['Population'].values.reshape(-1,1)))\n",
    "df['Normalized_Income'] = pd.DataFrame(scaler.fit_transform(df['AverageIncome'].values.reshape(-1,1)))"
   ]
  },
  {
   "cell_type": "code",
   "execution_count": 14,
   "metadata": {},
   "outputs": [
    {
     "data": {
      "text/html": [
       "<div>\n",
       "<style scoped>\n",
       "    .dataframe tbody tr th:only-of-type {\n",
       "        vertical-align: middle;\n",
       "    }\n",
       "\n",
       "    .dataframe tbody tr th {\n",
       "        vertical-align: top;\n",
       "    }\n",
       "\n",
       "    .dataframe thead th {\n",
       "        text-align: right;\n",
       "    }\n",
       "</style>\n",
       "<table border=\"1\" class=\"dataframe\">\n",
       "  <thead>\n",
       "    <tr style=\"text-align: right;\">\n",
       "      <th></th>\n",
       "      <th>Borough</th>\n",
       "      <th>Neighborhoods</th>\n",
       "      <th>Latitude</th>\n",
       "      <th>Longitude</th>\n",
       "      <th>Population</th>\n",
       "      <th>City</th>\n",
       "      <th>AverageIncome</th>\n",
       "      <th>Normalized_Population</th>\n",
       "      <th>Normalized_Income</th>\n",
       "    </tr>\n",
       "  </thead>\n",
       "  <tbody>\n",
       "    <tr>\n",
       "      <th>0</th>\n",
       "      <td>SouthernSuburbs</td>\n",
       "      <td>Anjanapura</td>\n",
       "      <td>12.8604</td>\n",
       "      <td>77.5612</td>\n",
       "      <td>940039</td>\n",
       "      <td>Bangalore</td>\n",
       "      <td>44218.92255</td>\n",
       "      <td>0.955027</td>\n",
       "      <td>0.655989</td>\n",
       "    </tr>\n",
       "    <tr>\n",
       "      <th>1</th>\n",
       "      <td>SouthernSuburbs</td>\n",
       "      <td>Arekere</td>\n",
       "      <td>12.8875</td>\n",
       "      <td>77.5970</td>\n",
       "      <td>138760</td>\n",
       "      <td>Bangalore</td>\n",
       "      <td>29378.71663</td>\n",
       "      <td>0.128036</td>\n",
       "      <td>0.406048</td>\n",
       "    </tr>\n",
       "    <tr>\n",
       "      <th>2</th>\n",
       "      <td>Southern</td>\n",
       "      <td>Banashankari</td>\n",
       "      <td>12.9255</td>\n",
       "      <td>77.5468</td>\n",
       "      <td>810407</td>\n",
       "      <td>Bangalore</td>\n",
       "      <td>57524.20953</td>\n",
       "      <td>0.821235</td>\n",
       "      <td>0.880079</td>\n",
       "    </tr>\n",
       "    <tr>\n",
       "      <th>3</th>\n",
       "      <td>NorthEastern</td>\n",
       "      <td>Banaswadi</td>\n",
       "      <td>13.0120</td>\n",
       "      <td>77.6471</td>\n",
       "      <td>632031</td>\n",
       "      <td>Bangalore</td>\n",
       "      <td>53349.70118</td>\n",
       "      <td>0.637135</td>\n",
       "      <td>0.809771</td>\n",
       "    </tr>\n",
       "    <tr>\n",
       "      <th>4</th>\n",
       "      <td>Southern</td>\n",
       "      <td>Basavanagudi</td>\n",
       "      <td>12.9421</td>\n",
       "      <td>77.5754</td>\n",
       "      <td>426903</td>\n",
       "      <td>Bangalore</td>\n",
       "      <td>63161.96222</td>\n",
       "      <td>0.425425</td>\n",
       "      <td>0.975031</td>\n",
       "    </tr>\n",
       "  </tbody>\n",
       "</table>\n",
       "</div>"
      ],
      "text/plain": [
       "           Borough Neighborhoods  Latitude  Longitude  Population       City  \\\n",
       "0  SouthernSuburbs    Anjanapura   12.8604    77.5612      940039  Bangalore   \n",
       "1  SouthernSuburbs       Arekere   12.8875    77.5970      138760  Bangalore   \n",
       "2         Southern  Banashankari   12.9255    77.5468      810407  Bangalore   \n",
       "3     NorthEastern     Banaswadi   13.0120    77.6471      632031  Bangalore   \n",
       "4         Southern  Basavanagudi   12.9421    77.5754      426903  Bangalore   \n",
       "\n",
       "   AverageIncome  Normalized_Population  Normalized_Income  \n",
       "0    44218.92255               0.955027           0.655989  \n",
       "1    29378.71663               0.128036           0.406048  \n",
       "2    57524.20953               0.821235           0.880079  \n",
       "3    53349.70118               0.637135           0.809771  \n",
       "4    63161.96222               0.425425           0.975031  "
      ]
     },
     "execution_count": 14,
     "metadata": {},
     "output_type": "execute_result"
    }
   ],
   "source": [
    "df.head()"
   ]
  },
  {
   "cell_type": "markdown",
   "metadata": {},
   "source": [
    "> **Using foursquare to fetch the nearest Venue locations**"
   ]
  },
  {
   "cell_type": "code",
   "execution_count": 15,
   "metadata": {},
   "outputs": [],
   "source": [
    "# Defining Credentials\n",
    "CLIENT_ID = 'WWV1AAMBFNMWGEEDEZXZXIF5IY2V5CPDGGZHOXVVYU4O1Z1E'\n",
    "CLIENT_SECRET = 'PKTKDUPRK2YVKOGTQPN0LCCGUQOJ2M21CUZNZMB33IK3FPTA'\n",
    "VERSION = '20180606'\n",
    "LIMIT = 150"
   ]
  },
  {
   "cell_type": "code",
   "execution_count": 16,
   "metadata": {},
   "outputs": [],
   "source": [
    "def getNearbyVenues(names, boro, latitudes, longitudes, radius=1000):\n",
    "    venues_list=[]\n",
    "    for name, boro, lat, lng in zip(names, boro, latitudes, longitudes):\n",
    "        print(\"Fetching venues for : \",name)            \n",
    "        # create the API request URL\n",
    "        url = 'https://api.foursquare.com/v2/venues/explore?&client_id={}&client_secret={}&v={}&ll={},{}&radius={}&limit={}'.format(\n",
    "            CLIENT_ID, CLIENT_SECRET, VERSION, lat, lng, radius, LIMIT)\n",
    "            \n",
    "        # make the GET request\n",
    "        results = requests.get(url).json()[\"response\"]['groups'][0]['items']\n",
    "        \n",
    "        # return only relevant information for each nearby venue\n",
    "        venues_list.append([(name, boro, lat, lng, v['venue']['name'], v['venue']['location']['lat'],v['venue']['location']['lng'],\n",
    "                             v['venue']['categories'][0]['name']) for v in results])\n",
    "\n",
    "    nearby_venues = pd.DataFrame([item for venue_list in venues_list for item in venue_list])\n",
    "    nearby_venues.columns = ['Neighborhoods','Borough','Neighborhood Latitude','Neighborhood Longitude','Venue','Venue Latitude',\n",
    "                             'Venue Longitude','Venue Category']\n",
    "    return(nearby_venues)"
   ]
  },
  {
   "cell_type": "code",
   "execution_count": 17,
   "metadata": {},
   "outputs": [
    {
     "name": "stdout",
     "output_type": "stream",
     "text": [
      "Fetching venues for :  Anjanapura\n",
      "Fetching venues for :  Arekere\n",
      "Fetching venues for :  Banashankari\n",
      "Fetching venues for :  Banaswadi\n",
      "Fetching venues for :  Basavanagudi\n",
      "Fetching venues for :  Basaveshwaranagar\n",
      "Fetching venues for :  Begur\n",
      "Fetching venues for :  Bellandur\n",
      "Fetching venues for :  Bommanahalli\n",
      "Fetching venues for :  Bommasandra\n",
      "Fetching venues for :  BTM Layout\n",
      "Fetching venues for :  Cantonment area\n",
      "Fetching venues for :  CV Raman Nagar\n",
      "Fetching venues for :  Domlur\n",
      "Fetching venues for :  Electronic City\n",
      "Fetching venues for :  Girinagar\n",
      "Fetching venues for :  Gottigere\n",
      "Fetching venues for :  HBR Layout\n",
      "Fetching venues for :  Hebbal\n",
      "Fetching venues for :  Hoodi\n",
      "Fetching venues for :  Horamavu\n",
      "Fetching venues for :  HSR Layout\n",
      "Fetching venues for :  Hulimavu\n",
      "Fetching venues for :  Indiranagar\n",
      "Fetching venues for :  J. P. Nagar\n",
      "Fetching venues for :  Jalahalli\n",
      "Fetching venues for :  Jayanagar\n",
      "Fetching venues for :  Jeevanbheemanagar\n",
      "Fetching venues for :  Kamakshipalya\n",
      "Fetching venues for :  Kammanahalli\n",
      "Fetching venues for :  Kengeri\n",
      "Fetching venues for :  Koramangala\n",
      "Fetching venues for :  Kothnur\n",
      "Fetching venues for :  Krishnarajapuram\n",
      "Fetching venues for :  Kumaraswamy Layout\n",
      "Fetching venues for :  Lingarajapuram\n",
      "Fetching venues for :  Madiwala\n",
      "Fetching venues for :  Mahadevapura\n",
      "Fetching venues for :  Mahalakshmi Layout\n",
      "Fetching venues for :  Malleswaram\n",
      "Fetching venues for :  Marathahalli\n",
      "Fetching venues for :  Mathikere\n",
      "Fetching venues for :  Nagarbhavi\n",
      "Fetching venues for :  Nandini Layout\n",
      "Fetching venues for :  Nayandahalli\n",
      "Fetching venues for :  Padmanabhanagar\n",
      "Fetching venues for :  Peenya\n",
      "Fetching venues for :  Pete area\n",
      "Fetching venues for :  R. T. Nagar\n",
      "Fetching venues for :  Rajajinagar\n",
      "Fetching venues for :  Rajarajeshwari Nagar\n",
      "Fetching venues for :  Ramamurthy Nagar\n",
      "Fetching venues for :  Sadashivanagar\n",
      "Fetching venues for :  Seshadripuram\n",
      "Fetching venues for :  Shivajinagar\n",
      "Fetching venues for :  Ulsoor\n",
      "Fetching venues for :  Uttarahalli\n",
      "Fetching venues for :  Varthur\n",
      "Fetching venues for :  Vasanth Nagar\n",
      "Fetching venues for :  Vidyaranyapura\n",
      "Fetching venues for :  Vijayanagar\n",
      "Fetching venues for :  Whitefield\n",
      "Fetching venues for :  Yelahanka\n",
      "Fetching venues for :  Yeshwanthpur\n"
     ]
    }
   ],
   "source": [
    "bangalore_venues = getNearbyVenues(names=df['Neighborhoods'],latitudes=df['Latitude'],longitudes=df['Longitude'],boro=df['Borough'])"
   ]
  },
  {
   "cell_type": "code",
   "execution_count": 18,
   "metadata": {},
   "outputs": [
    {
     "name": "stdout",
     "output_type": "stream",
     "text": [
      "Total number of venues found in Bangalore are :  1695\n"
     ]
    }
   ],
   "source": [
    "print(\"Total number of venues found in Bangalore are : \",bangalore_venues.shape[0])"
   ]
  },
  {
   "cell_type": "code",
   "execution_count": 19,
   "metadata": {},
   "outputs": [
    {
     "data": {
      "text/html": [
       "<div>\n",
       "<style scoped>\n",
       "    .dataframe tbody tr th:only-of-type {\n",
       "        vertical-align: middle;\n",
       "    }\n",
       "\n",
       "    .dataframe tbody tr th {\n",
       "        vertical-align: top;\n",
       "    }\n",
       "\n",
       "    .dataframe thead th {\n",
       "        text-align: right;\n",
       "    }\n",
       "</style>\n",
       "<table border=\"1\" class=\"dataframe\">\n",
       "  <thead>\n",
       "    <tr style=\"text-align: right;\">\n",
       "      <th></th>\n",
       "      <th>Neighborhoods</th>\n",
       "      <th>Borough</th>\n",
       "      <th>Neighborhood Latitude</th>\n",
       "      <th>Neighborhood Longitude</th>\n",
       "      <th>Venue</th>\n",
       "      <th>Venue Latitude</th>\n",
       "      <th>Venue Longitude</th>\n",
       "      <th>Venue Category</th>\n",
       "    </tr>\n",
       "  </thead>\n",
       "  <tbody>\n",
       "    <tr>\n",
       "      <th>0</th>\n",
       "      <td>Anjanapura</td>\n",
       "      <td>SouthernSuburbs</td>\n",
       "      <td>12.8604</td>\n",
       "      <td>77.5612</td>\n",
       "      <td>State Bank of India ATM</td>\n",
       "      <td>12.861650</td>\n",
       "      <td>77.561634</td>\n",
       "      <td>ATM</td>\n",
       "    </tr>\n",
       "    <tr>\n",
       "      <th>1</th>\n",
       "      <td>Anjanapura</td>\n",
       "      <td>SouthernSuburbs</td>\n",
       "      <td>12.8604</td>\n",
       "      <td>77.5612</td>\n",
       "      <td>capital club resorts</td>\n",
       "      <td>12.855979</td>\n",
       "      <td>77.555653</td>\n",
       "      <td>Pool</td>\n",
       "    </tr>\n",
       "    <tr>\n",
       "      <th>2</th>\n",
       "      <td>Anjanapura</td>\n",
       "      <td>SouthernSuburbs</td>\n",
       "      <td>12.8604</td>\n",
       "      <td>77.5612</td>\n",
       "      <td>Accenture</td>\n",
       "      <td>12.858980</td>\n",
       "      <td>77.569510</td>\n",
       "      <td>Business Service</td>\n",
       "    </tr>\n",
       "    <tr>\n",
       "      <th>3</th>\n",
       "      <td>Anjanapura</td>\n",
       "      <td>SouthernSuburbs</td>\n",
       "      <td>12.8604</td>\n",
       "      <td>77.5612</td>\n",
       "      <td>Axis Bank ATM</td>\n",
       "      <td>12.868820</td>\n",
       "      <td>77.559060</td>\n",
       "      <td>ATM</td>\n",
       "    </tr>\n",
       "    <tr>\n",
       "      <th>4</th>\n",
       "      <td>Arekere</td>\n",
       "      <td>SouthernSuburbs</td>\n",
       "      <td>12.8875</td>\n",
       "      <td>77.5970</td>\n",
       "      <td>Decathlon Sports India Pvt Ltd</td>\n",
       "      <td>12.887513</td>\n",
       "      <td>77.597712</td>\n",
       "      <td>Sporting Goods Shop</td>\n",
       "    </tr>\n",
       "  </tbody>\n",
       "</table>\n",
       "</div>"
      ],
      "text/plain": [
       "  Neighborhoods          Borough  Neighborhood Latitude  \\\n",
       "0    Anjanapura  SouthernSuburbs                12.8604   \n",
       "1    Anjanapura  SouthernSuburbs                12.8604   \n",
       "2    Anjanapura  SouthernSuburbs                12.8604   \n",
       "3    Anjanapura  SouthernSuburbs                12.8604   \n",
       "4       Arekere  SouthernSuburbs                12.8875   \n",
       "\n",
       "   Neighborhood Longitude                           Venue  Venue Latitude  \\\n",
       "0                 77.5612         State Bank of India ATM       12.861650   \n",
       "1                 77.5612            capital club resorts       12.855979   \n",
       "2                 77.5612                       Accenture       12.858980   \n",
       "3                 77.5612                   Axis Bank ATM       12.868820   \n",
       "4                 77.5970  Decathlon Sports India Pvt Ltd       12.887513   \n",
       "\n",
       "   Venue Longitude       Venue Category  \n",
       "0        77.561634                  ATM  \n",
       "1        77.555653                 Pool  \n",
       "2        77.569510     Business Service  \n",
       "3        77.559060                  ATM  \n",
       "4        77.597712  Sporting Goods Shop  "
      ]
     },
     "execution_count": 19,
     "metadata": {},
     "output_type": "execute_result"
    }
   ],
   "source": [
    "bangalore_venues.head()"
   ]
  },
  {
   "cell_type": "markdown",
   "metadata": {},
   "source": [
    "## **3. Exploratory Data Analysis**\n",
    "---"
   ]
  },
  {
   "cell_type": "markdown",
   "metadata": {},
   "source": [
    "> **The total number of unique categories in Bangalore**"
   ]
  },
  {
   "cell_type": "code",
   "execution_count": 20,
   "metadata": {},
   "outputs": [
    {
     "data": {
      "text/plain": [
       "180"
      ]
     },
     "execution_count": 20,
     "metadata": {},
     "output_type": "execute_result"
    }
   ],
   "source": [
    "len(bangalore_venues['Venue Category'].unique())"
   ]
  },
  {
   "cell_type": "markdown",
   "metadata": {},
   "source": [
    "> **Getting Number of venues per neighborhood**"
   ]
  },
  {
   "cell_type": "code",
   "execution_count": 21,
   "metadata": {},
   "outputs": [],
   "source": [
    "individual_bangalore_venue_count = bangalore_venues.groupby(['Borough','Neighborhoods'])['Borough'].count().to_frame()\n",
    "individual_bangalore_venue_count.rename(columns={'Borough':'NumberOfVenues'},inplace=True)\n",
    "individual_bangalore_venue_count.reset_index(inplace=True)"
   ]
  },
  {
   "cell_type": "code",
   "execution_count": 22,
   "metadata": {},
   "outputs": [
    {
     "data": {
      "text/html": [
       "<div>\n",
       "<style scoped>\n",
       "    .dataframe tbody tr th:only-of-type {\n",
       "        vertical-align: middle;\n",
       "    }\n",
       "\n",
       "    .dataframe tbody tr th {\n",
       "        vertical-align: top;\n",
       "    }\n",
       "\n",
       "    .dataframe thead th {\n",
       "        text-align: right;\n",
       "    }\n",
       "</style>\n",
       "<table border=\"1\" class=\"dataframe\">\n",
       "  <thead>\n",
       "    <tr style=\"text-align: right;\">\n",
       "      <th></th>\n",
       "      <th>Borough</th>\n",
       "      <th>Neighborhoods</th>\n",
       "      <th>NumberOfVenues</th>\n",
       "    </tr>\n",
       "  </thead>\n",
       "  <tbody>\n",
       "    <tr>\n",
       "      <th>0</th>\n",
       "      <td>Central</td>\n",
       "      <td>Cantonment area</td>\n",
       "      <td>28</td>\n",
       "    </tr>\n",
       "    <tr>\n",
       "      <th>1</th>\n",
       "      <td>Central</td>\n",
       "      <td>Domlur</td>\n",
       "      <td>87</td>\n",
       "    </tr>\n",
       "    <tr>\n",
       "      <th>2</th>\n",
       "      <td>Central</td>\n",
       "      <td>Indiranagar</td>\n",
       "      <td>100</td>\n",
       "    </tr>\n",
       "    <tr>\n",
       "      <th>3</th>\n",
       "      <td>Central</td>\n",
       "      <td>Jeevanbheemanagar</td>\n",
       "      <td>27</td>\n",
       "    </tr>\n",
       "    <tr>\n",
       "      <th>4</th>\n",
       "      <td>Central</td>\n",
       "      <td>Malleswaram</td>\n",
       "      <td>40</td>\n",
       "    </tr>\n",
       "  </tbody>\n",
       "</table>\n",
       "</div>"
      ],
      "text/plain": [
       "   Borough      Neighborhoods  NumberOfVenues\n",
       "0  Central    Cantonment area              28\n",
       "1  Central             Domlur              87\n",
       "2  Central        Indiranagar             100\n",
       "3  Central  Jeevanbheemanagar              27\n",
       "4  Central        Malleswaram              40"
      ]
     },
     "execution_count": 22,
     "metadata": {},
     "output_type": "execute_result"
    }
   ],
   "source": [
    "individual_bangalore_venue_count.head()"
   ]
  },
  {
   "cell_type": "code",
   "execution_count": 23,
   "metadata": {},
   "outputs": [
    {
     "data": {
      "image/png": "[encoded data removed]",
      "text/plain": [
       "<Figure size 1440x720 with 1 Axes>"
      ]
     },
     "metadata": {},
     "output_type": "display_data"
    }
   ],
   "source": [
    "sns.set(rc={'figure.figsize':(20,10)})\n",
    "plot = sns.barplot(x='Neighborhoods',y='NumberOfVenues',data=individual_bangalore_venue_count)\n",
    "plot = plot.set_xticklabels(individual_bangalore_venue_count['Neighborhoods'],rotation=90)"
   ]
  },
  {
   "cell_type": "markdown",
   "metadata": {},
   "source": [
    "## **4. Data Preprocessing**\n",
    "---"
   ]
  },
  {
   "cell_type": "markdown",
   "metadata": {},
   "source": [
    "Now two DataFrames will be created and worked on,\n",
    "\n",
    "1. **venue_preference**\n",
    "\n",
    "2. **neighborhood_preferecne**\n",
    "\n",
    "\"neighborhood_preference\" will contain only those columns that will help in K- Means Clustering \n",
    "\n",
    "In \"venue_preference\", top 10 venues in each neighborhood will be stored in decreasing order of their importance."
   ]
  },
  {
   "cell_type": "markdown",
   "metadata": {},
   "source": [
    "> **One hot encoding to compare venues based on some common scale**"
   ]
  },
  {
   "cell_type": "code",
   "execution_count": 24,
   "metadata": {},
   "outputs": [
    {
     "data": {
      "text/html": [
       "<div>\n",
       "<style scoped>\n",
       "    .dataframe tbody tr th:only-of-type {\n",
       "        vertical-align: middle;\n",
       "    }\n",
       "\n",
       "    .dataframe tbody tr th {\n",
       "        vertical-align: top;\n",
       "    }\n",
       "\n",
       "    .dataframe thead th {\n",
       "        text-align: right;\n",
       "    }\n",
       "</style>\n",
       "<table border=\"1\" class=\"dataframe\">\n",
       "  <thead>\n",
       "    <tr style=\"text-align: right;\">\n",
       "      <th></th>\n",
       "      <th>Neighborhoods</th>\n",
       "      <th>Venue_1131 Bar N Kitchen</th>\n",
       "      <th>Venue_1522 - The Pub</th>\n",
       "      <th>Venue_1522- The Pub</th>\n",
       "      <th>Venue_153 Biere Street</th>\n",
       "      <th>Venue_154 breakfast club</th>\n",
       "      <th>Venue_18 CHINA TOWN</th>\n",
       "      <th>Venue_1947</th>\n",
       "      <th>Venue_24/7 @ Lalit Ashok</th>\n",
       "      <th>Venue_24th Main</th>\n",
       "      <th>...</th>\n",
       "      <th>Venue_refresh</th>\n",
       "      <th>Venue_sagar</th>\n",
       "      <th>Venue_shastri sagar,peenya</th>\n",
       "      <th>Venue_sumanahalli Bus Stop</th>\n",
       "      <th>Venue_tasty hot</th>\n",
       "      <th>Venue_tender chicken nehru road</th>\n",
       "      <th>Venue_the SQUARE</th>\n",
       "      <th>Venue_vijayanagar water tank</th>\n",
       "      <th>Venue_wow! momo</th>\n",
       "      <th>Venue_ಗೋಪಾಲ್ ಕ್ಯಾಂಟೀನ್ (Gopal Canteen)</th>\n",
       "    </tr>\n",
       "  </thead>\n",
       "  <tbody>\n",
       "    <tr>\n",
       "      <th>0</th>\n",
       "      <td>Anjanapura</td>\n",
       "      <td>0.0</td>\n",
       "      <td>0.0</td>\n",
       "      <td>0.0</td>\n",
       "      <td>0.0</td>\n",
       "      <td>0.0</td>\n",
       "      <td>0.0</td>\n",
       "      <td>0.0</td>\n",
       "      <td>0.0</td>\n",
       "      <td>0.0</td>\n",
       "      <td>...</td>\n",
       "      <td>0.0</td>\n",
       "      <td>0.0</td>\n",
       "      <td>0.0</td>\n",
       "      <td>0.0</td>\n",
       "      <td>0.0</td>\n",
       "      <td>0.0</td>\n",
       "      <td>0.0</td>\n",
       "      <td>0.0</td>\n",
       "      <td>0.0</td>\n",
       "      <td>0.0</td>\n",
       "    </tr>\n",
       "    <tr>\n",
       "      <th>1</th>\n",
       "      <td>Arekere</td>\n",
       "      <td>0.0</td>\n",
       "      <td>0.0</td>\n",
       "      <td>0.0</td>\n",
       "      <td>0.0</td>\n",
       "      <td>0.0</td>\n",
       "      <td>0.0</td>\n",
       "      <td>0.0</td>\n",
       "      <td>0.0</td>\n",
       "      <td>0.0</td>\n",
       "      <td>...</td>\n",
       "      <td>0.0</td>\n",
       "      <td>0.0</td>\n",
       "      <td>0.0</td>\n",
       "      <td>0.0</td>\n",
       "      <td>0.0</td>\n",
       "      <td>0.0</td>\n",
       "      <td>0.0</td>\n",
       "      <td>0.0</td>\n",
       "      <td>0.0</td>\n",
       "      <td>0.0</td>\n",
       "    </tr>\n",
       "    <tr>\n",
       "      <th>2</th>\n",
       "      <td>BTM Layout</td>\n",
       "      <td>0.0</td>\n",
       "      <td>0.0</td>\n",
       "      <td>0.0</td>\n",
       "      <td>0.0</td>\n",
       "      <td>0.0</td>\n",
       "      <td>0.0</td>\n",
       "      <td>0.0</td>\n",
       "      <td>0.0</td>\n",
       "      <td>0.0</td>\n",
       "      <td>...</td>\n",
       "      <td>0.0</td>\n",
       "      <td>0.0</td>\n",
       "      <td>0.0</td>\n",
       "      <td>0.0</td>\n",
       "      <td>0.0</td>\n",
       "      <td>0.0</td>\n",
       "      <td>0.0</td>\n",
       "      <td>0.0</td>\n",
       "      <td>0.0</td>\n",
       "      <td>0.0</td>\n",
       "    </tr>\n",
       "    <tr>\n",
       "      <th>3</th>\n",
       "      <td>Banashankari</td>\n",
       "      <td>0.0</td>\n",
       "      <td>0.0</td>\n",
       "      <td>0.0</td>\n",
       "      <td>0.0</td>\n",
       "      <td>0.0</td>\n",
       "      <td>0.0</td>\n",
       "      <td>0.0</td>\n",
       "      <td>0.0</td>\n",
       "      <td>0.0</td>\n",
       "      <td>...</td>\n",
       "      <td>0.0</td>\n",
       "      <td>0.0</td>\n",
       "      <td>0.0</td>\n",
       "      <td>0.0</td>\n",
       "      <td>0.0</td>\n",
       "      <td>0.0</td>\n",
       "      <td>0.0</td>\n",
       "      <td>0.0</td>\n",
       "      <td>0.0</td>\n",
       "      <td>0.0</td>\n",
       "    </tr>\n",
       "    <tr>\n",
       "      <th>4</th>\n",
       "      <td>Banaswadi</td>\n",
       "      <td>0.0</td>\n",
       "      <td>0.0</td>\n",
       "      <td>0.0</td>\n",
       "      <td>0.0</td>\n",
       "      <td>0.0</td>\n",
       "      <td>0.0</td>\n",
       "      <td>0.0</td>\n",
       "      <td>0.0</td>\n",
       "      <td>0.0</td>\n",
       "      <td>...</td>\n",
       "      <td>0.0</td>\n",
       "      <td>0.0</td>\n",
       "      <td>0.0</td>\n",
       "      <td>0.0</td>\n",
       "      <td>0.0</td>\n",
       "      <td>0.0</td>\n",
       "      <td>0.0</td>\n",
       "      <td>0.0</td>\n",
       "      <td>0.0</td>\n",
       "      <td>0.0</td>\n",
       "    </tr>\n",
       "  </tbody>\n",
       "</table>\n",
       "<p>5 rows × 1252 columns</p>\n",
       "</div>"
      ],
      "text/plain": [
       "  Neighborhoods  Venue_1131 Bar N Kitchen  Venue_1522 - The Pub  \\\n",
       "0    Anjanapura                       0.0                   0.0   \n",
       "1       Arekere                       0.0                   0.0   \n",
       "2    BTM Layout                       0.0                   0.0   \n",
       "3  Banashankari                       0.0                   0.0   \n",
       "4     Banaswadi                       0.0                   0.0   \n",
       "\n",
       "   Venue_1522- The Pub  Venue_153 Biere Street  Venue_154 breakfast club  \\\n",
       "0                  0.0                     0.0                       0.0   \n",
       "1                  0.0                     0.0                       0.0   \n",
       "2                  0.0                     0.0                       0.0   \n",
       "3                  0.0                     0.0                       0.0   \n",
       "4                  0.0                     0.0                       0.0   \n",
       "\n",
       "   Venue_18 CHINA TOWN  Venue_1947  Venue_24/7 @ Lalit Ashok  Venue_24th Main  \\\n",
       "0                  0.0         0.0                       0.0              0.0   \n",
       "1                  0.0         0.0                       0.0              0.0   \n",
       "2                  0.0         0.0                       0.0              0.0   \n",
       "3                  0.0         0.0                       0.0              0.0   \n",
       "4                  0.0         0.0                       0.0              0.0   \n",
       "\n",
       "   ...  Venue_refresh  Venue_sagar  Venue_shastri sagar,peenya  \\\n",
       "0  ...            0.0          0.0                         0.0   \n",
       "1  ...            0.0          0.0                         0.0   \n",
       "2  ...            0.0          0.0                         0.0   \n",
       "3  ...            0.0          0.0                         0.0   \n",
       "4  ...            0.0          0.0                         0.0   \n",
       "\n",
       "   Venue_sumanahalli Bus Stop  Venue_tasty hot  \\\n",
       "0                         0.0              0.0   \n",
       "1                         0.0              0.0   \n",
       "2                         0.0              0.0   \n",
       "3                         0.0              0.0   \n",
       "4                         0.0              0.0   \n",
       "\n",
       "   Venue_tender chicken nehru road  Venue_the SQUARE  \\\n",
       "0                              0.0               0.0   \n",
       "1                              0.0               0.0   \n",
       "2                              0.0               0.0   \n",
       "3                              0.0               0.0   \n",
       "4                              0.0               0.0   \n",
       "\n",
       "   Venue_vijayanagar water tank  Venue_wow! momo  \\\n",
       "0                           0.0              0.0   \n",
       "1                           0.0              0.0   \n",
       "2                           0.0              0.0   \n",
       "3                           0.0              0.0   \n",
       "4                           0.0              0.0   \n",
       "\n",
       "   Venue_ಗೋಪಾಲ್ ಕ್ಯಾಂಟೀನ್ (Gopal Canteen)  \n",
       "0                                     0.0  \n",
       "1                                     0.0  \n",
       "2                                     0.0  \n",
       "3                                     0.0  \n",
       "4                                     0.0  \n",
       "\n",
       "[5 rows x 1252 columns]"
      ]
     },
     "execution_count": 24,
     "metadata": {},
     "output_type": "execute_result"
    }
   ],
   "source": [
    "bangalore_venues_onehot = pd.get_dummies(bangalore_venues[['Venue']])\n",
    "bangalore_venues_onehot['Neighborhoods'] = bangalore_venues['Neighborhoods']\n",
    "bangalore_venues_grouped = bangalore_venues_onehot.groupby('Neighborhoods').mean().reset_index()\n",
    "bangalore_venues_grouped.head()"
   ]
  },
  {
   "cell_type": "markdown",
   "metadata": {},
   "source": [
    "> **Defining a Function to return the top 10 most Popular Venues in a Neighborhood**"
   ]
  },
  {
   "cell_type": "code",
   "execution_count": 25,
   "metadata": {},
   "outputs": [],
   "source": [
    "def return_most_common_venues(row, number_of_top_venues):\n",
    "    row_categories = row.iloc[1:]\n",
    "    row_categories_sorted = row_categories.sort_values(ascending=False)\n",
    "    return row_categories_sorted.index.values[0:number_of_top_venues]"
   ]
  },
  {
   "cell_type": "code",
   "execution_count": 26,
   "metadata": {
    "scrolled": true
   },
   "outputs": [
    {
     "data": {
      "text/html": [
       "<div>\n",
       "<style scoped>\n",
       "    .dataframe tbody tr th:only-of-type {\n",
       "        vertical-align: middle;\n",
       "    }\n",
       "\n",
       "    .dataframe tbody tr th {\n",
       "        vertical-align: top;\n",
       "    }\n",
       "\n",
       "    .dataframe thead th {\n",
       "        text-align: right;\n",
       "    }\n",
       "</style>\n",
       "<table border=\"1\" class=\"dataframe\">\n",
       "  <thead>\n",
       "    <tr style=\"text-align: right;\">\n",
       "      <th></th>\n",
       "      <th>Neighborhoods</th>\n",
       "      <th>1th Most Common Venue</th>\n",
       "      <th>2th Most Common Venue</th>\n",
       "      <th>3th Most Common Venue</th>\n",
       "      <th>4th Most Common Venue</th>\n",
       "      <th>5th Most Common Venue</th>\n",
       "      <th>6th Most Common Venue</th>\n",
       "      <th>7th Most Common Venue</th>\n",
       "      <th>8th Most Common Venue</th>\n",
       "      <th>9th Most Common Venue</th>\n",
       "      <th>10th Most Common Venue</th>\n",
       "    </tr>\n",
       "  </thead>\n",
       "  <tbody>\n",
       "    <tr>\n",
       "      <th>0</th>\n",
       "      <td>Anjanapura</td>\n",
       "      <td>Venue_capital club resorts</td>\n",
       "      <td>Venue_Accenture</td>\n",
       "      <td>Venue_Axis Bank ATM</td>\n",
       "      <td>Venue_State Bank of India ATM</td>\n",
       "      <td>Venue_ಗೋಪಾಲ್ ಕ್ಯಾಂಟೀನ್ (Gopal Canteen)</td>\n",
       "      <td>Venue_Goli Vadapav</td>\n",
       "      <td>Venue_Gold's Gym</td>\n",
       "      <td>Venue_Gold's gym</td>\n",
       "      <td>Venue_Golds Gym</td>\n",
       "      <td>Venue_Goli</td>\n",
       "    </tr>\n",
       "    <tr>\n",
       "      <th>1</th>\n",
       "      <td>Arekere</td>\n",
       "      <td>Venue_Domino's Pizza</td>\n",
       "      <td>Venue_Cafe Coffee Day</td>\n",
       "      <td>Venue_Reliance Mart</td>\n",
       "      <td>Venue_Baskin-Robbins</td>\n",
       "      <td>Venue_Pizza Hut</td>\n",
       "      <td>Venue_Benison Super Market</td>\n",
       "      <td>Venue_Natural Ice Cream</td>\n",
       "      <td>Venue_Adyar Anand Bhavan ( A2B )</td>\n",
       "      <td>Venue_Baker's Stop</td>\n",
       "      <td>Venue_Beijing Bites</td>\n",
       "    </tr>\n",
       "    <tr>\n",
       "      <th>2</th>\n",
       "      <td>BTM Layout</td>\n",
       "      <td>Venue_Cafe Coffee Day</td>\n",
       "      <td>Venue_Subway</td>\n",
       "      <td>Venue_Domino's Pizza</td>\n",
       "      <td>Venue_Faaso's</td>\n",
       "      <td>Venue_Cafe Orio</td>\n",
       "      <td>Venue_Narmadha's Hyderabad Biriyani</td>\n",
       "      <td>Venue_Core Fitness</td>\n",
       "      <td>Venue_Marwa Restuarant</td>\n",
       "      <td>Venue_McDonald's</td>\n",
       "      <td>Venue_Flavour Square</td>\n",
       "    </tr>\n",
       "    <tr>\n",
       "      <th>3</th>\n",
       "      <td>Banashankari</td>\n",
       "      <td>Venue_Domino's Pizza</td>\n",
       "      <td>Venue_Corner Adda</td>\n",
       "      <td>Venue_Anna Kuteera</td>\n",
       "      <td>Venue_Croma</td>\n",
       "      <td>Venue_Pizza Hut</td>\n",
       "      <td>Venue_Cafe coffee day</td>\n",
       "      <td>Venue_Caf-Eleven</td>\n",
       "      <td>Venue_Adyar Ananda Bhavan</td>\n",
       "      <td>Venue_Kamakya theatre</td>\n",
       "      <td>Venue_Hotel Prashanth</td>\n",
       "    </tr>\n",
       "    <tr>\n",
       "      <th>4</th>\n",
       "      <td>Banaswadi</td>\n",
       "      <td>Venue_Al Amanah</td>\n",
       "      <td>Venue_Manasa Fish Land</td>\n",
       "      <td>Venue_Saffron</td>\n",
       "      <td>Venue_Tamarind</td>\n",
       "      <td>Venue_Cafe Coffee Day</td>\n",
       "      <td>Venue_Just kebabs</td>\n",
       "      <td>Venue_Trust Chemists &amp; Druggists</td>\n",
       "      <td>Venue_Sri Balaji Bhandar</td>\n",
       "      <td>Venue_Amma Pasteries</td>\n",
       "      <td>Venue_Uttam Sagar Deluxe Restaurant</td>\n",
       "    </tr>\n",
       "  </tbody>\n",
       "</table>\n",
       "</div>"
      ],
      "text/plain": [
       "  Neighborhoods       1th Most Common Venue   2th Most Common Venue  \\\n",
       "0    Anjanapura  Venue_capital club resorts         Venue_Accenture   \n",
       "1       Arekere        Venue_Domino's Pizza   Venue_Cafe Coffee Day   \n",
       "2    BTM Layout       Venue_Cafe Coffee Day            Venue_Subway   \n",
       "3  Banashankari        Venue_Domino's Pizza       Venue_Corner Adda   \n",
       "4     Banaswadi             Venue_Al Amanah  Venue_Manasa Fish Land   \n",
       "\n",
       "  3th Most Common Venue          4th Most Common Venue  \\\n",
       "0   Venue_Axis Bank ATM  Venue_State Bank of India ATM   \n",
       "1   Venue_Reliance Mart           Venue_Baskin-Robbins   \n",
       "2  Venue_Domino's Pizza                  Venue_Faaso's   \n",
       "3    Venue_Anna Kuteera                    Venue_Croma   \n",
       "4         Venue_Saffron                 Venue_Tamarind   \n",
       "\n",
       "                    5th Most Common Venue  \\\n",
       "0  Venue_ಗೋಪಾಲ್ ಕ್ಯಾಂಟೀನ್ (Gopal Canteen)   \n",
       "1                         Venue_Pizza Hut   \n",
       "2                         Venue_Cafe Orio   \n",
       "3                         Venue_Pizza Hut   \n",
       "4                   Venue_Cafe Coffee Day   \n",
       "\n",
       "                 6th Most Common Venue             7th Most Common Venue  \\\n",
       "0                   Venue_Goli Vadapav                  Venue_Gold's Gym   \n",
       "1           Venue_Benison Super Market           Venue_Natural Ice Cream   \n",
       "2  Venue_Narmadha's Hyderabad Biriyani                Venue_Core Fitness   \n",
       "3                Venue_Cafe coffee day                  Venue_Caf-Eleven   \n",
       "4                    Venue_Just kebabs  Venue_Trust Chemists & Druggists   \n",
       "\n",
       "              8th Most Common Venue  9th Most Common Venue  \\\n",
       "0                  Venue_Gold's gym        Venue_Golds Gym   \n",
       "1  Venue_Adyar Anand Bhavan ( A2B )     Venue_Baker's Stop   \n",
       "2            Venue_Marwa Restuarant       Venue_McDonald's   \n",
       "3         Venue_Adyar Ananda Bhavan  Venue_Kamakya theatre   \n",
       "4          Venue_Sri Balaji Bhandar   Venue_Amma Pasteries   \n",
       "\n",
       "                10th Most Common Venue  \n",
       "0                           Venue_Goli  \n",
       "1                  Venue_Beijing Bites  \n",
       "2                 Venue_Flavour Square  \n",
       "3                Venue_Hotel Prashanth  \n",
       "4  Venue_Uttam Sagar Deluxe Restaurant  "
      ]
     },
     "execution_count": 26,
     "metadata": {},
     "output_type": "execute_result"
    }
   ],
   "source": [
    "number_of_top_venues = 10\n",
    "\n",
    "indicators = ['st', 'nd', 'rd']\n",
    "\n",
    "# create columns according to number of top venues\n",
    "columns = ['Neighborhoods']\n",
    "for i in np.arange(number_of_top_venues):\n",
    "    try:\n",
    "        columns.append('{}{} Most Common Venue'.format(i+1, indicators[ind]))\n",
    "    except:\n",
    "        columns.append('{}th Most Common Venue'.format(i+1))\n",
    "\n",
    "# create a new dataframe\n",
    "venue_preference = pd.DataFrame(columns=columns)\n",
    "venue_preference['Neighborhoods'] = bangalore_venues_grouped['Neighborhoods']\n",
    "\n",
    "for i in np.arange(bangalore_venues_grouped.shape[0]):\n",
    "    venue_preference.iloc[i, 1:] = return_most_common_venues(bangalore_venues_grouped.iloc[i, :], number_of_top_venues)\n",
    "\n",
    "venue_preference.head()"
   ]
  },
  {
   "cell_type": "markdown",
   "metadata": {},
   "source": [
    "> **Creating Neighborhood Preference Dataset**"
   ]
  },
  {
   "cell_type": "code",
   "execution_count": 27,
   "metadata": {},
   "outputs": [],
   "source": [
    "neighborhood_preference = df.drop(['Population', 'AverageIncome', 'City'], axis= 1)"
   ]
  },
  {
   "cell_type": "code",
   "execution_count": 28,
   "metadata": {},
   "outputs": [
    {
     "data": {
      "text/html": [
       "<div>\n",
       "<style scoped>\n",
       "    .dataframe tbody tr th:only-of-type {\n",
       "        vertical-align: middle;\n",
       "    }\n",
       "\n",
       "    .dataframe tbody tr th {\n",
       "        vertical-align: top;\n",
       "    }\n",
       "\n",
       "    .dataframe thead th {\n",
       "        text-align: right;\n",
       "    }\n",
       "</style>\n",
       "<table border=\"1\" class=\"dataframe\">\n",
       "  <thead>\n",
       "    <tr style=\"text-align: right;\">\n",
       "      <th></th>\n",
       "      <th>Borough</th>\n",
       "      <th>Neighborhoods</th>\n",
       "      <th>Latitude</th>\n",
       "      <th>Longitude</th>\n",
       "      <th>Normalized_Population</th>\n",
       "      <th>Normalized_Income</th>\n",
       "    </tr>\n",
       "  </thead>\n",
       "  <tbody>\n",
       "    <tr>\n",
       "      <th>0</th>\n",
       "      <td>SouthernSuburbs</td>\n",
       "      <td>Anjanapura</td>\n",
       "      <td>12.8604</td>\n",
       "      <td>77.5612</td>\n",
       "      <td>0.955027</td>\n",
       "      <td>0.655989</td>\n",
       "    </tr>\n",
       "    <tr>\n",
       "      <th>1</th>\n",
       "      <td>SouthernSuburbs</td>\n",
       "      <td>Arekere</td>\n",
       "      <td>12.8875</td>\n",
       "      <td>77.5970</td>\n",
       "      <td>0.128036</td>\n",
       "      <td>0.406048</td>\n",
       "    </tr>\n",
       "    <tr>\n",
       "      <th>2</th>\n",
       "      <td>Southern</td>\n",
       "      <td>Banashankari</td>\n",
       "      <td>12.9255</td>\n",
       "      <td>77.5468</td>\n",
       "      <td>0.821235</td>\n",
       "      <td>0.880079</td>\n",
       "    </tr>\n",
       "    <tr>\n",
       "      <th>3</th>\n",
       "      <td>NorthEastern</td>\n",
       "      <td>Banaswadi</td>\n",
       "      <td>13.0120</td>\n",
       "      <td>77.6471</td>\n",
       "      <td>0.637135</td>\n",
       "      <td>0.809771</td>\n",
       "    </tr>\n",
       "    <tr>\n",
       "      <th>4</th>\n",
       "      <td>Southern</td>\n",
       "      <td>Basavanagudi</td>\n",
       "      <td>12.9421</td>\n",
       "      <td>77.5754</td>\n",
       "      <td>0.425425</td>\n",
       "      <td>0.975031</td>\n",
       "    </tr>\n",
       "  </tbody>\n",
       "</table>\n",
       "</div>"
      ],
      "text/plain": [
       "           Borough Neighborhoods  Latitude  Longitude  Normalized_Population  \\\n",
       "0  SouthernSuburbs    Anjanapura   12.8604    77.5612               0.955027   \n",
       "1  SouthernSuburbs       Arekere   12.8875    77.5970               0.128036   \n",
       "2         Southern  Banashankari   12.9255    77.5468               0.821235   \n",
       "3     NorthEastern     Banaswadi   13.0120    77.6471               0.637135   \n",
       "4         Southern  Basavanagudi   12.9421    77.5754               0.425425   \n",
       "\n",
       "   Normalized_Income  \n",
       "0           0.655989  \n",
       "1           0.406048  \n",
       "2           0.880079  \n",
       "3           0.809771  \n",
       "4           0.975031  "
      ]
     },
     "execution_count": 28,
     "metadata": {},
     "output_type": "execute_result"
    }
   ],
   "source": [
    "neighborhood_preference.head()"
   ]
  },
  {
   "cell_type": "code",
   "execution_count": 29,
   "metadata": {},
   "outputs": [],
   "source": [
    "from sklearn.preprocessing import LabelEncoder\n",
    "le = LabelEncoder()\n",
    "le1 = LabelEncoder()"
   ]
  },
  {
   "cell_type": "code",
   "execution_count": 30,
   "metadata": {},
   "outputs": [],
   "source": [
    "neighborhood_preference['Neighborhoods'] = le.fit_transform(neighborhood_preference['Neighborhoods'])\n",
    "neighborhood_preference['Borough'] = le1.fit_transform(neighborhood_preference['Borough'])"
   ]
  },
  {
   "cell_type": "code",
   "execution_count": 31,
   "metadata": {},
   "outputs": [],
   "source": [
    "neighborhood_preference['Ranking'] = neighborhood_preference['Normalized_Population'] * 0.5 + neighborhood_preference['Normalized_Income'] * 0.35"
   ]
  },
  {
   "cell_type": "markdown",
   "metadata": {},
   "source": [
    "## **5. Building the K-Means Clusters**\n",
    "---"
   ]
  },
  {
   "cell_type": "markdown",
   "metadata": {},
   "source": [
    "> **Finding the optimum *K* value using Elbow method**"
   ]
  },
  {
   "cell_type": "code",
   "execution_count": 32,
   "metadata": {},
   "outputs": [
    {
     "data": {
      "image/png": "[encoded data removed]",
      "text/plain": [
       "<Figure size 576x576 with 1 Axes>"
      ]
     },
     "metadata": {},
     "output_type": "display_data"
    }
   ],
   "source": [
    "sse = {}\n",
    "for k in range(1,15):\n",
    "    kmeans = KMeans(n_clusters=k,random_state=0)\n",
    "    kmeans.fit(neighborhood_preference.drop('Neighborhoods',axis=1))\n",
    "    bangalore_venues_grouped['Cluster'] = kmeans.labels_\n",
    "    sse[k] = kmeans.inertia_\n",
    "\n",
    "plt.figure(figsize = (8,8))\n",
    "plt.plot(list(sse.keys()), list(sse.values()))\n",
    "plt.xlabel(\"Number of cluster\")\n",
    "plt.ylabel(\"SSE\")\n",
    "plt.show()"
   ]
  },
  {
   "cell_type": "markdown",
   "metadata": {},
   "source": [
    "From the above graph, we can see the optimal value for cluster is 4."
   ]
  },
  {
   "cell_type": "markdown",
   "metadata": {},
   "source": [
    "> **Clustering the Data into Groups**"
   ]
  },
  {
   "cell_type": "code",
   "execution_count": 33,
   "metadata": {},
   "outputs": [],
   "source": [
    "kmeans = KMeans(n_clusters=4,random_state=0)\n",
    "kmeans.fit(neighborhood_preference.drop('Neighborhoods',axis=1))\n",
    "neighborhood_preference['Cluster'] = kmeans.labels_"
   ]
  },
  {
   "cell_type": "code",
   "execution_count": 34,
   "metadata": {},
   "outputs": [],
   "source": [
    "# Label Decoding\n",
    "neighborhood_preference['Neighborhoods'] = le.inverse_transform(neighborhood_preference['Neighborhoods'])\n",
    "neighborhood_preference['Borough'] = le1.inverse_transform(neighborhood_preference['Borough'])"
   ]
  },
  {
   "cell_type": "code",
   "execution_count": 35,
   "metadata": {},
   "outputs": [
    {
     "data": {
      "text/plain": [
       "Cluster\n",
       "0    15\n",
       "1    14\n",
       "2    20\n",
       "3    15\n",
       "Name: Neighborhoods, dtype: int64"
      ]
     },
     "execution_count": 35,
     "metadata": {},
     "output_type": "execute_result"
    }
   ],
   "source": [
    "neighborhood_preference.groupby('Cluster')['Neighborhoods'].count()"
   ]
  },
  {
   "cell_type": "code",
   "execution_count": 36,
   "metadata": {},
   "outputs": [
    {
     "data": {
      "text/html": [
       "<div>\n",
       "<style scoped>\n",
       "    .dataframe tbody tr th:only-of-type {\n",
       "        vertical-align: middle;\n",
       "    }\n",
       "\n",
       "    .dataframe tbody tr th {\n",
       "        vertical-align: top;\n",
       "    }\n",
       "\n",
       "    .dataframe thead th {\n",
       "        text-align: right;\n",
       "    }\n",
       "</style>\n",
       "<table border=\"1\" class=\"dataframe\">\n",
       "  <thead>\n",
       "    <tr style=\"text-align: right;\">\n",
       "      <th></th>\n",
       "      <th>Borough</th>\n",
       "      <th>Neighborhoods</th>\n",
       "      <th>Latitude</th>\n",
       "      <th>Longitude</th>\n",
       "      <th>Normalized_Population</th>\n",
       "      <th>Normalized_Income</th>\n",
       "      <th>Ranking</th>\n",
       "      <th>Cluster</th>\n",
       "    </tr>\n",
       "  </thead>\n",
       "  <tbody>\n",
       "    <tr>\n",
       "      <th>0</th>\n",
       "      <td>SouthernSuburbs</td>\n",
       "      <td>Anjanapura</td>\n",
       "      <td>12.8604</td>\n",
       "      <td>77.5612</td>\n",
       "      <td>0.955027</td>\n",
       "      <td>0.655989</td>\n",
       "      <td>0.707110</td>\n",
       "      <td>0</td>\n",
       "    </tr>\n",
       "    <tr>\n",
       "      <th>1</th>\n",
       "      <td>SouthernSuburbs</td>\n",
       "      <td>Arekere</td>\n",
       "      <td>12.8875</td>\n",
       "      <td>77.5970</td>\n",
       "      <td>0.128036</td>\n",
       "      <td>0.406048</td>\n",
       "      <td>0.206135</td>\n",
       "      <td>0</td>\n",
       "    </tr>\n",
       "    <tr>\n",
       "      <th>2</th>\n",
       "      <td>Southern</td>\n",
       "      <td>Banashankari</td>\n",
       "      <td>12.9255</td>\n",
       "      <td>77.5468</td>\n",
       "      <td>0.821235</td>\n",
       "      <td>0.880079</td>\n",
       "      <td>0.718645</td>\n",
       "      <td>3</td>\n",
       "    </tr>\n",
       "    <tr>\n",
       "      <th>3</th>\n",
       "      <td>NorthEastern</td>\n",
       "      <td>Banaswadi</td>\n",
       "      <td>13.0120</td>\n",
       "      <td>77.6471</td>\n",
       "      <td>0.637135</td>\n",
       "      <td>0.809771</td>\n",
       "      <td>0.601988</td>\n",
       "      <td>1</td>\n",
       "    </tr>\n",
       "    <tr>\n",
       "      <th>4</th>\n",
       "      <td>Southern</td>\n",
       "      <td>Basavanagudi</td>\n",
       "      <td>12.9421</td>\n",
       "      <td>77.5754</td>\n",
       "      <td>0.425425</td>\n",
       "      <td>0.975031</td>\n",
       "      <td>0.553973</td>\n",
       "      <td>3</td>\n",
       "    </tr>\n",
       "  </tbody>\n",
       "</table>\n",
       "</div>"
      ],
      "text/plain": [
       "           Borough Neighborhoods  Latitude  Longitude  Normalized_Population  \\\n",
       "0  SouthernSuburbs    Anjanapura   12.8604    77.5612               0.955027   \n",
       "1  SouthernSuburbs       Arekere   12.8875    77.5970               0.128036   \n",
       "2         Southern  Banashankari   12.9255    77.5468               0.821235   \n",
       "3     NorthEastern     Banaswadi   13.0120    77.6471               0.637135   \n",
       "4         Southern  Basavanagudi   12.9421    77.5754               0.425425   \n",
       "\n",
       "   Normalized_Income   Ranking  Cluster  \n",
       "0           0.655989  0.707110        0  \n",
       "1           0.406048  0.206135        0  \n",
       "2           0.880079  0.718645        3  \n",
       "3           0.809771  0.601988        1  \n",
       "4           0.975031  0.553973        3  "
      ]
     },
     "execution_count": 36,
     "metadata": {},
     "output_type": "execute_result"
    }
   ],
   "source": [
    "neighborhood_preference.head()"
   ]
  },
  {
   "cell_type": "markdown",
   "metadata": {},
   "source": [
    "> **Visualizing the Data**"
   ]
  },
  {
   "cell_type": "code",
   "execution_count": 37,
   "metadata": {},
   "outputs": [],
   "source": [
    "# create map\n",
    "map_clusters = folium.Map(location=[bangalore_latitude, bangalore_longitude], zoom_start=11)"
   ]
  },
  {
   "cell_type": "code",
   "execution_count": 38,
   "metadata": {},
   "outputs": [],
   "source": [
    "# set color scheme for the clusters\n",
    "x = np.arange(5)\n",
    "ys = [i + x + (i*x)**2 for i in range(5)]\n",
    "colors_array = cm.rainbow(np.linspace(0, 1, len(ys)))\n",
    "rainbow = [colors.rgb2hex(i) for i in colors_array]\n",
    "\n",
    "# add markers to the map\n",
    "markers_colors = []\n",
    "for lat, lon, poi, cluster in zip(neighborhood_preference['Latitude'], neighborhood_preference['Longitude'], neighborhood_preference['Neighborhoods'], neighborhood_preference['Cluster']):\n",
    "    label = folium.Popup(str(poi) + ' Cluster ' + str(cluster), parse_html=True)\n",
    "    folium.CircleMarker(\n",
    "        [lat, lon],\n",
    "        radius=5,\n",
    "        popup=label,\n",
    "        color=rainbow[cluster-1],\n",
    "        fill=True,\n",
    "        fill_color=rainbow[cluster-1],\n",
    "        fill_opacity=0.7).add_to(map_clusters)"
   ]
  },
  {
   "cell_type": "code",
   "execution_count": 39,
   "metadata": {},
   "outputs": [
    {
     "data": {
      "text/html": [
       "<div style=\"width:100%;\"><div style=\"position:relative;width:100%;height:0;padding-bottom:60%;\"><span style=\"color:#565656\">Make this Notebook Trusted to load map: File -> Trust Notebook</span><iframe src=\"about:blank\" style=\"position:absolute;width:100%;height:100%;left:0;top:0;border:none !important;\" data-html=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 onload=\"this.contentDocument.open();this.contentDocument.write(atob(this.getAttribute('data-html')));this.contentDocument.close();\" allowfullscreen webkitallowfullscreen mozallowfullscreen></iframe></div></div>"
      ],
      "text/plain": [
       "<folium.folium.Map at 0x14e869be710>"
      ]
     },
     "execution_count": 39,
     "metadata": {},
     "output_type": "execute_result"
    }
   ],
   "source": [
    "map_clusters"
   ]
  },
  {
   "cell_type": "markdown",
   "metadata": {},
   "source": [
    "## **6. Use Case**\n",
    "---"
   ]
  },
  {
   "cell_type": "markdown",
   "metadata": {},
   "source": [
    "**Predicting Results**\n",
    "\n",
    "For a given Neighborhood,\n",
    "\n",
    "1. Its cluster will be find out.\n",
    "2. All the neighborhoods will be found in that cluster\n",
    "3. The top 3 neighborhood having best ranking will be selected and then will be mergred with venue_prefernce to display the final results.\n"
   ]
  },
  {
   "cell_type": "code",
   "execution_count": 40,
   "metadata": {},
   "outputs": [
    {
     "name": "stdout",
     "output_type": "stream",
     "text": [
      "The target cluster is :  3\n"
     ]
    }
   ],
   "source": [
    "target_cluster_dataframe = neighborhood_preference.loc[neighborhood_preference['Neighborhoods']=='Banashankari']\n",
    "target_cluster_dataframe.reset_index()\n",
    "target_cluster = target_cluster_dataframe.iloc[0].at['Cluster']\n",
    "target_cluster\n",
    "print(\"The target cluster is : \",target_cluster)"
   ]
  },
  {
   "cell_type": "code",
   "execution_count": 41,
   "metadata": {},
   "outputs": [
    {
     "data": {
      "text/html": [
       "<div>\n",
       "<style scoped>\n",
       "    .dataframe tbody tr th:only-of-type {\n",
       "        vertical-align: middle;\n",
       "    }\n",
       "\n",
       "    .dataframe tbody tr th {\n",
       "        vertical-align: top;\n",
       "    }\n",
       "\n",
       "    .dataframe thead th {\n",
       "        text-align: right;\n",
       "    }\n",
       "</style>\n",
       "<table border=\"1\" class=\"dataframe\">\n",
       "  <thead>\n",
       "    <tr style=\"text-align: right;\">\n",
       "      <th></th>\n",
       "      <th>Borough</th>\n",
       "      <th>Neighborhoods</th>\n",
       "      <th>Latitude</th>\n",
       "      <th>Longitude</th>\n",
       "      <th>Normalized_Population</th>\n",
       "      <th>Normalized_Income</th>\n",
       "      <th>Ranking</th>\n",
       "      <th>Cluster</th>\n",
       "    </tr>\n",
       "  </thead>\n",
       "  <tbody>\n",
       "    <tr>\n",
       "      <th>2</th>\n",
       "      <td>Southern</td>\n",
       "      <td>Banashankari</td>\n",
       "      <td>12.9255</td>\n",
       "      <td>77.5468</td>\n",
       "      <td>0.821235</td>\n",
       "      <td>0.880079</td>\n",
       "      <td>0.718645</td>\n",
       "      <td>3</td>\n",
       "    </tr>\n",
       "    <tr>\n",
       "      <th>4</th>\n",
       "      <td>Southern</td>\n",
       "      <td>Basavanagudi</td>\n",
       "      <td>12.9421</td>\n",
       "      <td>77.5754</td>\n",
       "      <td>0.425425</td>\n",
       "      <td>0.975031</td>\n",
       "      <td>0.553973</td>\n",
       "      <td>3</td>\n",
       "    </tr>\n",
       "    <tr>\n",
       "      <th>8</th>\n",
       "      <td>SouthEastern</td>\n",
       "      <td>Bommanahalli</td>\n",
       "      <td>12.8984</td>\n",
       "      <td>77.6179</td>\n",
       "      <td>0.745644</td>\n",
       "      <td>0.103626</td>\n",
       "      <td>0.409091</td>\n",
       "      <td>3</td>\n",
       "    </tr>\n",
       "    <tr>\n",
       "      <th>9</th>\n",
       "      <td>SouthEastern</td>\n",
       "      <td>Bommasandra</td>\n",
       "      <td>12.8168</td>\n",
       "      <td>77.6989</td>\n",
       "      <td>0.731856</td>\n",
       "      <td>0.327855</td>\n",
       "      <td>0.480677</td>\n",
       "      <td>3</td>\n",
       "    </tr>\n",
       "    <tr>\n",
       "      <th>10</th>\n",
       "      <td>SouthEastern</td>\n",
       "      <td>BTM Layout</td>\n",
       "      <td>12.9166</td>\n",
       "      <td>77.6101</td>\n",
       "      <td>0.847384</td>\n",
       "      <td>0.741745</td>\n",
       "      <td>0.683303</td>\n",
       "      <td>3</td>\n",
       "    </tr>\n",
       "  </tbody>\n",
       "</table>\n",
       "</div>"
      ],
      "text/plain": [
       "         Borough Neighborhoods  Latitude  Longitude  Normalized_Population  \\\n",
       "2       Southern  Banashankari   12.9255    77.5468               0.821235   \n",
       "4       Southern  Basavanagudi   12.9421    77.5754               0.425425   \n",
       "8   SouthEastern  Bommanahalli   12.8984    77.6179               0.745644   \n",
       "9   SouthEastern   Bommasandra   12.8168    77.6989               0.731856   \n",
       "10  SouthEastern    BTM Layout   12.9166    77.6101               0.847384   \n",
       "\n",
       "    Normalized_Income   Ranking  Cluster  \n",
       "2            0.880079  0.718645        3  \n",
       "4            0.975031  0.553973        3  \n",
       "8            0.103626  0.409091        3  \n",
       "9            0.327855  0.480677        3  \n",
       "10           0.741745  0.683303        3  "
      ]
     },
     "execution_count": 41,
     "metadata": {},
     "output_type": "execute_result"
    }
   ],
   "source": [
    "possible_neighborhoods = neighborhood_preference[neighborhood_preference['Cluster']==target_cluster]\n",
    "possible_neighborhoods.head()"
   ]
  },
  {
   "cell_type": "code",
   "execution_count": 42,
   "metadata": {},
   "outputs": [
    {
     "name": "stdout",
     "output_type": "stream",
     "text": [
      "There are 15 neighborhoods which has similar characteristics to Banashankari.\n"
     ]
    }
   ],
   "source": [
    "print(\"There are {} neighborhoods which has similar characteristics to Banashankari.\".format(possible_neighborhoods.shape[0]))"
   ]
  },
  {
   "cell_type": "code",
   "execution_count": 43,
   "metadata": {},
   "outputs": [],
   "source": [
    "recommended_neighborhoods = possible_neighborhoods.sort_values(by='Ranking',ascending=False)\n",
    "recommended_neighborhoods.reset_index(inplace=True, drop=True)"
   ]
  },
  {
   "cell_type": "code",
   "execution_count": 44,
   "metadata": {},
   "outputs": [
    {
     "data": {
      "text/html": [
       "<div>\n",
       "<style scoped>\n",
       "    .dataframe tbody tr th:only-of-type {\n",
       "        vertical-align: middle;\n",
       "    }\n",
       "\n",
       "    .dataframe tbody tr th {\n",
       "        vertical-align: top;\n",
       "    }\n",
       "\n",
       "    .dataframe thead th {\n",
       "        text-align: right;\n",
       "    }\n",
       "</style>\n",
       "<table border=\"1\" class=\"dataframe\">\n",
       "  <thead>\n",
       "    <tr style=\"text-align: right;\">\n",
       "      <th></th>\n",
       "      <th>Borough</th>\n",
       "      <th>Neighborhoods</th>\n",
       "      <th>Latitude</th>\n",
       "      <th>Longitude</th>\n",
       "      <th>Normalized_Population</th>\n",
       "      <th>Normalized_Income</th>\n",
       "      <th>Ranking</th>\n",
       "      <th>Cluster</th>\n",
       "    </tr>\n",
       "  </thead>\n",
       "  <tbody>\n",
       "    <tr>\n",
       "      <th>0</th>\n",
       "      <td>Southern</td>\n",
       "      <td>Banashankari</td>\n",
       "      <td>12.925500</td>\n",
       "      <td>77.546800</td>\n",
       "      <td>0.821235</td>\n",
       "      <td>0.880079</td>\n",
       "      <td>0.718645</td>\n",
       "      <td>3</td>\n",
       "    </tr>\n",
       "    <tr>\n",
       "      <th>1</th>\n",
       "      <td>Southern</td>\n",
       "      <td>Uttarahalli</td>\n",
       "      <td>12.907000</td>\n",
       "      <td>77.552100</td>\n",
       "      <td>0.730264</td>\n",
       "      <td>0.975102</td>\n",
       "      <td>0.706418</td>\n",
       "      <td>3</td>\n",
       "    </tr>\n",
       "    <tr>\n",
       "      <th>2</th>\n",
       "      <td>SouthEastern</td>\n",
       "      <td>BTM Layout</td>\n",
       "      <td>12.916600</td>\n",
       "      <td>77.610100</td>\n",
       "      <td>0.847384</td>\n",
       "      <td>0.741745</td>\n",
       "      <td>0.683303</td>\n",
       "      <td>3</td>\n",
       "    </tr>\n",
       "    <tr>\n",
       "      <th>3</th>\n",
       "      <td>Southern</td>\n",
       "      <td>Girinagar</td>\n",
       "      <td>12.938600</td>\n",
       "      <td>77.544000</td>\n",
       "      <td>0.793501</td>\n",
       "      <td>0.604236</td>\n",
       "      <td>0.608233</td>\n",
       "      <td>3</td>\n",
       "    </tr>\n",
       "    <tr>\n",
       "      <th>4</th>\n",
       "      <td>Southern</td>\n",
       "      <td>Basavanagudi</td>\n",
       "      <td>12.942100</td>\n",
       "      <td>77.575400</td>\n",
       "      <td>0.425425</td>\n",
       "      <td>0.975031</td>\n",
       "      <td>0.553973</td>\n",
       "      <td>3</td>\n",
       "    </tr>\n",
       "    <tr>\n",
       "      <th>5</th>\n",
       "      <td>Southern</td>\n",
       "      <td>Kumaraswamy Layout</td>\n",
       "      <td>12.903800</td>\n",
       "      <td>77.561800</td>\n",
       "      <td>1.000000</td>\n",
       "      <td>0.095524</td>\n",
       "      <td>0.533433</td>\n",
       "      <td>3</td>\n",
       "    </tr>\n",
       "    <tr>\n",
       "      <th>6</th>\n",
       "      <td>Southern</td>\n",
       "      <td>Padmanabhanagar</td>\n",
       "      <td>12.915600</td>\n",
       "      <td>77.556800</td>\n",
       "      <td>0.564219</td>\n",
       "      <td>0.707752</td>\n",
       "      <td>0.529823</td>\n",
       "      <td>3</td>\n",
       "    </tr>\n",
       "    <tr>\n",
       "      <th>7</th>\n",
       "      <td>SouthEastern</td>\n",
       "      <td>Madiwala</td>\n",
       "      <td>12.922600</td>\n",
       "      <td>77.617400</td>\n",
       "      <td>0.915415</td>\n",
       "      <td>0.164316</td>\n",
       "      <td>0.515218</td>\n",
       "      <td>3</td>\n",
       "    </tr>\n",
       "    <tr>\n",
       "      <th>8</th>\n",
       "      <td>SouthEastern</td>\n",
       "      <td>HSR Layout</td>\n",
       "      <td>12.908100</td>\n",
       "      <td>77.647600</td>\n",
       "      <td>0.536576</td>\n",
       "      <td>0.681594</td>\n",
       "      <td>0.506846</td>\n",
       "      <td>3</td>\n",
       "    </tr>\n",
       "    <tr>\n",
       "      <th>9</th>\n",
       "      <td>SouthEastern</td>\n",
       "      <td>Bommasandra</td>\n",
       "      <td>12.816800</td>\n",
       "      <td>77.698900</td>\n",
       "      <td>0.731856</td>\n",
       "      <td>0.327855</td>\n",
       "      <td>0.480677</td>\n",
       "      <td>3</td>\n",
       "    </tr>\n",
       "    <tr>\n",
       "      <th>10</th>\n",
       "      <td>Southern</td>\n",
       "      <td>J. P. Nagar</td>\n",
       "      <td>12.910500</td>\n",
       "      <td>77.585700</td>\n",
       "      <td>0.248431</td>\n",
       "      <td>0.940562</td>\n",
       "      <td>0.453412</td>\n",
       "      <td>3</td>\n",
       "    </tr>\n",
       "    <tr>\n",
       "      <th>11</th>\n",
       "      <td>SouthEastern</td>\n",
       "      <td>Electronic City</td>\n",
       "      <td>12.840711</td>\n",
       "      <td>77.676369</td>\n",
       "      <td>0.791153</td>\n",
       "      <td>0.051895</td>\n",
       "      <td>0.413740</td>\n",
       "      <td>3</td>\n",
       "    </tr>\n",
       "    <tr>\n",
       "      <th>12</th>\n",
       "      <td>SouthEastern</td>\n",
       "      <td>Bommanahalli</td>\n",
       "      <td>12.898400</td>\n",
       "      <td>77.617900</td>\n",
       "      <td>0.745644</td>\n",
       "      <td>0.103626</td>\n",
       "      <td>0.409091</td>\n",
       "      <td>3</td>\n",
       "    </tr>\n",
       "    <tr>\n",
       "      <th>13</th>\n",
       "      <td>SouthEastern</td>\n",
       "      <td>Koramangala</td>\n",
       "      <td>12.927900</td>\n",
       "      <td>77.627100</td>\n",
       "      <td>0.282157</td>\n",
       "      <td>0.586791</td>\n",
       "      <td>0.346455</td>\n",
       "      <td>3</td>\n",
       "    </tr>\n",
       "    <tr>\n",
       "      <th>14</th>\n",
       "      <td>Southern</td>\n",
       "      <td>Jayanagar</td>\n",
       "      <td>12.925000</td>\n",
       "      <td>77.593800</td>\n",
       "      <td>0.092088</td>\n",
       "      <td>0.060996</td>\n",
       "      <td>0.067393</td>\n",
       "      <td>3</td>\n",
       "    </tr>\n",
       "  </tbody>\n",
       "</table>\n",
       "</div>"
      ],
      "text/plain": [
       "         Borough       Neighborhoods   Latitude  Longitude  \\\n",
       "0       Southern        Banashankari  12.925500  77.546800   \n",
       "1       Southern         Uttarahalli  12.907000  77.552100   \n",
       "2   SouthEastern          BTM Layout  12.916600  77.610100   \n",
       "3       Southern           Girinagar  12.938600  77.544000   \n",
       "4       Southern        Basavanagudi  12.942100  77.575400   \n",
       "5       Southern  Kumaraswamy Layout  12.903800  77.561800   \n",
       "6       Southern     Padmanabhanagar  12.915600  77.556800   \n",
       "7   SouthEastern            Madiwala  12.922600  77.617400   \n",
       "8   SouthEastern          HSR Layout  12.908100  77.647600   \n",
       "9   SouthEastern         Bommasandra  12.816800  77.698900   \n",
       "10      Southern         J. P. Nagar  12.910500  77.585700   \n",
       "11  SouthEastern     Electronic City  12.840711  77.676369   \n",
       "12  SouthEastern        Bommanahalli  12.898400  77.617900   \n",
       "13  SouthEastern         Koramangala  12.927900  77.627100   \n",
       "14      Southern           Jayanagar  12.925000  77.593800   \n",
       "\n",
       "    Normalized_Population  Normalized_Income   Ranking  Cluster  \n",
       "0                0.821235           0.880079  0.718645        3  \n",
       "1                0.730264           0.975102  0.706418        3  \n",
       "2                0.847384           0.741745  0.683303        3  \n",
       "3                0.793501           0.604236  0.608233        3  \n",
       "4                0.425425           0.975031  0.553973        3  \n",
       "5                1.000000           0.095524  0.533433        3  \n",
       "6                0.564219           0.707752  0.529823        3  \n",
       "7                0.915415           0.164316  0.515218        3  \n",
       "8                0.536576           0.681594  0.506846        3  \n",
       "9                0.731856           0.327855  0.480677        3  \n",
       "10               0.248431           0.940562  0.453412        3  \n",
       "11               0.791153           0.051895  0.413740        3  \n",
       "12               0.745644           0.103626  0.409091        3  \n",
       "13               0.282157           0.586791  0.346455        3  \n",
       "14               0.092088           0.060996  0.067393        3  "
      ]
     },
     "execution_count": 44,
     "metadata": {},
     "output_type": "execute_result"
    }
   ],
   "source": [
    "recommended_neighborhoods"
   ]
  },
  {
   "cell_type": "markdown",
   "metadata": {},
   "source": [
    "> **Predicting Results**"
   ]
  },
  {
   "cell_type": "code",
   "execution_count": 45,
   "metadata": {},
   "outputs": [
    {
     "data": {
      "text/html": [
       "<div>\n",
       "<style scoped>\n",
       "    .dataframe tbody tr th:only-of-type {\n",
       "        vertical-align: middle;\n",
       "    }\n",
       "\n",
       "    .dataframe tbody tr th {\n",
       "        vertical-align: top;\n",
       "    }\n",
       "\n",
       "    .dataframe thead th {\n",
       "        text-align: right;\n",
       "    }\n",
       "</style>\n",
       "<table border=\"1\" class=\"dataframe\">\n",
       "  <thead>\n",
       "    <tr style=\"text-align: right;\">\n",
       "      <th></th>\n",
       "      <th>Neighborhoods</th>\n",
       "      <th>1th Most Common Venue</th>\n",
       "      <th>2th Most Common Venue</th>\n",
       "      <th>3th Most Common Venue</th>\n",
       "      <th>4th Most Common Venue</th>\n",
       "      <th>5th Most Common Venue</th>\n",
       "      <th>6th Most Common Venue</th>\n",
       "      <th>7th Most Common Venue</th>\n",
       "      <th>8th Most Common Venue</th>\n",
       "      <th>9th Most Common Venue</th>\n",
       "      <th>10th Most Common Venue</th>\n",
       "    </tr>\n",
       "  </thead>\n",
       "  <tbody>\n",
       "    <tr>\n",
       "      <th>56</th>\n",
       "      <td>Uttarahalli</td>\n",
       "      <td>Venue_Masala</td>\n",
       "      <td>Venue_Domino's Pizza</td>\n",
       "      <td>Venue_Kaggis Bake Shop</td>\n",
       "      <td>Venue_More 4 U</td>\n",
       "      <td>Venue_Stop N Joy</td>\n",
       "      <td>Venue_Moksha</td>\n",
       "      <td>Venue_Kanti Sweets</td>\n",
       "      <td>Venue_Goli Vadapav</td>\n",
       "      <td>Venue_Cafe Coffee Day</td>\n",
       "      <td>Venue_Shanti Sagar</td>\n",
       "    </tr>\n",
       "    <tr>\n",
       "      <th>2</th>\n",
       "      <td>BTM Layout</td>\n",
       "      <td>Venue_Cafe Coffee Day</td>\n",
       "      <td>Venue_Subway</td>\n",
       "      <td>Venue_Domino's Pizza</td>\n",
       "      <td>Venue_Faaso's</td>\n",
       "      <td>Venue_Cafe Orio</td>\n",
       "      <td>Venue_Narmadha's Hyderabad Biriyani</td>\n",
       "      <td>Venue_Core Fitness</td>\n",
       "      <td>Venue_Marwa Restuarant</td>\n",
       "      <td>Venue_McDonald's</td>\n",
       "      <td>Venue_Flavour Square</td>\n",
       "    </tr>\n",
       "    <tr>\n",
       "      <th>15</th>\n",
       "      <td>Girinagar</td>\n",
       "      <td>Venue_Domino's Pizza</td>\n",
       "      <td>Venue_Seetha Circle</td>\n",
       "      <td>Venue_Cuppa</td>\n",
       "      <td>Venue_Aahar Utsav veg</td>\n",
       "      <td>Venue_New Sagar Fast Food</td>\n",
       "      <td>Venue_Roti Land Dhaba</td>\n",
       "      <td>Venue_Sri Guru Juice Center</td>\n",
       "      <td>Venue_Aithal's Mithra Koota</td>\n",
       "      <td>Venue_Just Bake</td>\n",
       "      <td>Venue_Sharon Juice Point</td>\n",
       "    </tr>\n",
       "  </tbody>\n",
       "</table>\n",
       "</div>"
      ],
      "text/plain": [
       "   Neighborhoods  1th Most Common Venue 2th Most Common Venue  \\\n",
       "56   Uttarahalli           Venue_Masala  Venue_Domino's Pizza   \n",
       "2     BTM Layout  Venue_Cafe Coffee Day          Venue_Subway   \n",
       "15     Girinagar   Venue_Domino's Pizza   Venue_Seetha Circle   \n",
       "\n",
       "     3th Most Common Venue  4th Most Common Venue      5th Most Common Venue  \\\n",
       "56  Venue_Kaggis Bake Shop         Venue_More 4 U           Venue_Stop N Joy   \n",
       "2     Venue_Domino's Pizza          Venue_Faaso's            Venue_Cafe Orio   \n",
       "15             Venue_Cuppa  Venue_Aahar Utsav veg  Venue_New Sagar Fast Food   \n",
       "\n",
       "                  6th Most Common Venue        7th Most Common Venue  \\\n",
       "56                         Venue_Moksha           Venue_Kanti Sweets   \n",
       "2   Venue_Narmadha's Hyderabad Biriyani           Venue_Core Fitness   \n",
       "15                Venue_Roti Land Dhaba  Venue_Sri Guru Juice Center   \n",
       "\n",
       "          8th Most Common Venue  9th Most Common Venue  \\\n",
       "56           Venue_Goli Vadapav  Venue_Cafe Coffee Day   \n",
       "2        Venue_Marwa Restuarant       Venue_McDonald's   \n",
       "15  Venue_Aithal's Mithra Koota        Venue_Just Bake   \n",
       "\n",
       "      10th Most Common Venue  \n",
       "56        Venue_Shanti Sagar  \n",
       "2       Venue_Flavour Square  \n",
       "15  Venue_Sharon Juice Point  "
      ]
     },
     "execution_count": 45,
     "metadata": {},
     "output_type": "execute_result"
    }
   ],
   "source": [
    "possible_venues = venue_preference[venue_preference['Neighborhoods']=='Uttarahalli']\n",
    "possible_venues = possible_venues.append(venue_preference[venue_preference['Neighborhoods']=='BTM Layout'])\n",
    "possible_venues = possible_venues.append(venue_preference[venue_preference['Neighborhoods']=='Girinagar'])\n",
    "\n",
    "possible_venues.head()"
   ]
  },
  {
   "cell_type": "markdown",
   "metadata": {},
   "source": [
    "## **7. Conclusions**\n",
    "---\n"
   ]
  },
  {
   "cell_type": "markdown",
   "metadata": {},
   "source": [
    "**Here, according the data, we see that 'Uttarahalli','BTM Layout' and 'Girinagar' are top 3 neighborhoods with similar market than 'Banashankari' where our previous Restaurant is located.**\n",
    "\n",
    "**Our model futher tells top 10 venues in that location**"
   ]
  }
 ],
 "metadata": {
  "kernelspec": {
   "display_name": "Python 3",
   "language": "python",
   "name": "python3"
  },
  "language_info": {
   "codemirror_mode": {
    "name": "ipython",
    "version": 3
   },
   "file_extension": ".py",
   "mimetype": "text/x-python",
   "name": "python",
   "nbconvert_exporter": "python",
   "pygments_lexer": "ipython3",
   "version": "3.7.3"
  }
 },
 "nbformat": 4,
 "nbformat_minor": 2
}
